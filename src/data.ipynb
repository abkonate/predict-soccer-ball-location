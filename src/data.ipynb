{
 "cells": [
  {
   "cell_type": "code",
   "execution_count": 1,
   "metadata": {},
   "outputs": [],
   "source": [
    "import requests\n",
    "import json\n",
    "import pandas as pd\n",
    "import os\n",
    "\n",
    "url = 'https://api.sentiocloud.net/v2/Authenticate'\n",
    "headers = {'Cache-Control': 'no-cache', 'Content-Type': 'application/x-www-form-urlencoded'}\n",
    "data = {'username': 'usrname', 'password': 'userpassword'}\n",
    "\n",
    "requests_data = requests.post(url, headers=headers, data=data)\n",
    "requests_data = json.loads(requests_data.content)\n",
    "    \n",
    "directory = 'data/general'\n",
    "    \n",
    "if not os.path.exists(directory):\n",
    "    os.makedirs(directory)\n",
    "        \n",
    "with open('data/general/auth.json', 'w') as file:\n",
    "    json.dump(requests_data, file, indent=4, sort_keys=True)\n",
    "\n",
    "\n",
    "with open('data/general/auth.json') as auth_json:\n",
    "    authes = pd.read_json(auth_json)\n",
    "\n",
    "auth = authes[\"token\"][\"token\"]\n",
    "\n",
    "\n",
    "headers = {'Authorization': auth, 'Content-Type': 'application/json; charset=utf-8'}"
   ]
  },
  {
   "cell_type": "markdown",
   "metadata": {},
   "source": [
    "Authentication "
   ]
  },
  {
   "cell_type": "code",
   "execution_count": 2,
   "metadata": {},
   "outputs": [],
   "source": [
    "url = 'https://api.sentiocloud.net/v2/Matches'\n",
    "data = requests.get(url=url, headers=headers)\n",
    "data = json.loads(data.content)\n",
    "    \n",
    "        \n",
    "with open('data/general/matches_2017_2018_v1.json', 'w') as file:\n",
    "    json.dump(data, file, indent=4, sort_keys=True)\n",
    "    \n",
    "with open('data/general/matches_2017_2018_v1.json') as matches_json:\n",
    "    matches = pd.read_json(matches_json)"
   ]
  },
  {
   "cell_type": "markdown",
   "metadata": {},
   "source": [
    "Get Matches"
   ]
  },
  {
   "cell_type": "code",
   "execution_count": null,
   "metadata": {},
   "outputs": [],
   "source": [
    "for id in matches['id']:\n",
    "    url = 'https://api.sentiocloud.net/v2/CurrData/' + str(id)\n",
    "    data = requests.get(url=url, headers=headers)\n",
    "    data = json.loads(data.content)\n",
    "    \n",
    "    directory = 'data/match_' + str(id)\n",
    "    \n",
    "    if not os.path.exists(directory):\n",
    "        os.makedirs(directory)\n",
    "        \n",
    "    with open('data/match_' + str(id) + '/match_data_' + str(id) + '.json', 'w') as file:\n",
    "        json.dump(data, file, indent=4, sort_keys=True)"
   ]
  },
  {
   "cell_type": "markdown",
   "metadata": {},
   "source": [
    "Get Match data"
   ]
  },
  {
   "cell_type": "code",
   "execution_count": null,
   "metadata": {},
   "outputs": [],
   "source": [
    "for id in matches['id']:\n",
    "    url = 'https://api.sentiocloud.net/v2/CurrData/' + str(id) + '/Players'\n",
    "    data = requests.get(url=url, headers=headers)\n",
    "    data = json.loads(data.content)\n",
    "    \n",
    "    directory = 'data/match_' + str(id)\n",
    "    \n",
    "    if not os.path.exists(directory):\n",
    "        os.makedirs(directory)\n",
    "        \n",
    "    with open('data/match_' + str(id) + '/players_data_' + str(id) + '.json', 'w') as file:\n",
    "        json.dump(data, file, indent=4, sort_keys=True)"
   ]
  },
  {
   "cell_type": "markdown",
   "metadata": {},
   "source": [
    "Get Players data"
   ]
  },
  {
   "cell_type": "code",
   "execution_count": null,
   "metadata": {},
   "outputs": [],
   "source": [
    "for id in matches['id']:\n",
    "    url = 'https://api.sentiocloud.net/v2/Passes/' + str(id)\n",
    "    data = requests.get(url=url, headers=headers)\n",
    "    data = json.loads(data.content)\n",
    "    \n",
    "    directory = 'data/match_' + str(id)\n",
    "    \n",
    "    if not os.path.exists(directory):\n",
    "        os.makedirs(directory)\n",
    "    \n",
    "    with open('data/match_' + str(id) + '/pass_data_' + str(id) + '.json', 'w') as file:\n",
    "        json.dump(data, file, indent=4, sort_keys=True)"
   ]
  },
  {
   "cell_type": "markdown",
   "metadata": {},
   "source": [
    "Get Pass data"
   ]
  },
  {
   "cell_type": "code",
   "execution_count": null,
   "metadata": {},
   "outputs": [],
   "source": [
    "for id in matches['id']:\n",
    "    url = 'https://api.sentiocloud.net/v2/PersecData/' + str(id)\n",
    "    data = requests.get(url=url, headers=headers)\n",
    "    data = json.loads(data.content)\n",
    "    \n",
    "    directory = 'data/match_' + str(id)\n",
    "    \n",
    "    if not os.path.exists(directory):\n",
    "        os.makedirs(directory)\n",
    "        \n",
    "    with open('data/match_' + str(id) + '/per_sec_data_' + str(id) + '.json', 'w') as file:\n",
    "        json.dump(data, file, indent=4, sort_keys=True)"
   ]
  },
  {
   "cell_type": "markdown",
   "metadata": {},
   "source": [
    "Get Persecond data"
   ]
  },
  {
   "cell_type": "code",
   "execution_count": null,
   "metadata": {},
   "outputs": [],
   "source": [
    "for id in matches['id']:\n",
    "    url = 'https://api.sentiocloud.net/v2/Rosters/' + str(id)\n",
    "    data = requests.get(url=url, headers=headers)\n",
    "    data = json.loads(data.content)\n",
    "    \n",
    "    directory = 'data/match_' + str(id)\n",
    "    \n",
    "    if not os.path.exists(directory):\n",
    "        os.makedirs(directory)\n",
    "        \n",
    "    with open('data/match_' + str(id) + '/roster_data_' + str(id) + '.json', 'w') as file:\n",
    "        json.dump(data, file, indent=4, sort_keys=True)"
   ]
  },
  {
   "cell_type": "markdown",
   "metadata": {},
   "source": [
    "Get Roster data"
   ]
  },
  {
   "cell_type": "code",
   "execution_count": null,
   "metadata": {},
   "outputs": [],
   "source": [
    "for id in matches['id']:\n",
    "    url = 'https://api.sentiocloud.net/v2/TaggerData/' + str(id)\n",
    "    data = requests.get(url=url, headers=headers)\n",
    "    data = json.loads(data.content)\n",
    "    \n",
    "    directory = 'data/match_' + str(id)\n",
    "    \n",
    "    if not os.path.exists(directory):\n",
    "        os.makedirs(directory)\n",
    "        \n",
    "    with open('data/match_' + str(id) + '/tagger_data_' + str(id) + '.json', 'w') as file:\n",
    "        json.dump(data, file, indent=4, sort_keys=True)"
   ]
  },
  {
   "cell_type": "markdown",
   "metadata": {},
   "source": [
    "Get Tagger data"
   ]
  },
  {
   "cell_type": "code",
   "execution_count": null,
   "metadata": {},
   "outputs": [],
   "source": [
    "for id in matches['id']:\n",
    "    url = 'https://api.sentiocloud.net/v2/HeatMapData/' + str(id)\n",
    "    data = requests.get(url=url, headers=headers)\n",
    "    data = json.loads(data.content)\n",
    "    \n",
    "    directory = 'data/match_' + str(id)\n",
    "    \n",
    "    if not os.path.exists(directory):\n",
    "        os.makedirs(directory)\n",
    "        \n",
    "    with open('data/match_' + str(id) + '/heatmap_data_' + str(id) + '.json', 'w') as file:\n",
    "        json.dump(data, file, indent=4, sort_keys=True)"
   ]
  },
  {
   "cell_type": "markdown",
   "metadata": {},
   "source": [
    "Get Heatmap Position Data"
   ]
  }
 ],
 "metadata": {
  "kernelspec": {
   "display_name": "Python 3",
   "language": "python",
   "name": "python3"
  },
  "language_info": {
   "codemirror_mode": {
    "name": "ipython",
    "version": 3
   },
   "file_extension": ".py",
   "mimetype": "text/x-python",
   "name": "python",
   "nbconvert_exporter": "python",
   "pygments_lexer": "ipython3",
   "version": "3.6.5"
  }
 },
 "nbformat": 4,
 "nbformat_minor": 2
}
