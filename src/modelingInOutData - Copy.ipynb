{
 "cells": [
  {
   "cell_type": "markdown",
   "metadata": {},
   "source": [
    "In this document, given an entire 2017-2018 season's worth of player data from the The Süper Lig, Turkish professional soccer league (≈1,700,000 data points), we generate input (aligning player trajectories based in role and then setting new features based on spatiotemporal data) and output data in order to build model for predicting ball location over the pitch.\n",
    "Due to losses in data, some matches have been extracted, so the total number of matches used is 299."
   ]
  },
  {
   "cell_type": "code",
   "execution_count": 13,
   "metadata": {},
   "outputs": [],
   "source": [
    "from __future__ import division\n",
    "\n",
    "import json\n",
    "import pickle\n",
    "import pandas as pd\n",
    "import numpy as np\n",
    "import math\n",
    "from scipy.ndimage.interpolation import shift\n",
    "\n",
    "from matplotlib import style\n",
    "import matplotlib.pyplot as plt\n",
    "\n",
    "style.use('ggplot')"
   ]
  },
  {
   "cell_type": "markdown",
   "metadata": {},
   "source": [
    "Function for calculating mean of players x,y positions on the pitch"
   ]
  },
  {
   "cell_type": "code",
   "execution_count": 7,
   "metadata": {},
   "outputs": [],
   "source": [
    "def caluclate_avrg_pos(c_ap_minutes_step, pos_mean, player, pos_count, activity_count):\n",
    "    avrg_pos_count = 0 \n",
    "    for c_ap_minutes in range(0,c_ap_minutes_step):\n",
    "        pos_mean[player][0] += pos_count[player][0][c_ap_minutes]\n",
    "        pos_mean[player][1] += pos_count[player][1][c_ap_minutes]\n",
    "        avrg_pos_count += activity_count[player][c_ap_minutes] \n",
    "    if avrg_pos_count!=0:\n",
    "        pos_mean[player][0] /= avrg_pos_count\n",
    "        pos_mean[player][1] /= avrg_pos_count\n",
    "    else:\n",
    "        pos_mean[player][0] = 0 \n",
    "        pos_mean[player][1] = 0"
   ]
  },
  {
   "cell_type": "markdown",
   "metadata": {},
   "source": [
    "Function for checking activity over the specific period of time"
   ]
  },
  {
   "cell_type": "code",
   "execution_count": 8,
   "metadata": {},
   "outputs": [],
   "source": [
    "def caluclate_activity_count(c_ac_minutes_step, player, activity_count):\n",
    "    \n",
    "    activity_count_each = 0 \n",
    "    for c_ac_minutes in range(0, c_ac_minutes_step):\n",
    "        activity_count_each += activity_count[player][c_ac_minutes] \n",
    "    \n",
    "    if activity_count_each != 0:\n",
    "        return 1\n",
    "    else:\n",
    "        return 0"
   ]
  },
  {
   "cell_type": "markdown",
   "metadata": {},
   "source": [
    "Function for calculating last number of non-zero activity occurred in last minute"
   ]
  },
  {
   "cell_type": "code",
   "execution_count": 9,
   "metadata": {},
   "outputs": [],
   "source": [
    "def caluclate_last_nzero_ac_count(player_gorup_len, activity_count):\n",
    "    \n",
    "    last_activity_count = 0\n",
    "    for player_lac_i in range(0, player_gorup_len):\n",
    "        if activity_count[player_lac_i][1] !=0:\n",
    "            last_activity_count += 1\n",
    "            \n",
    "    return last_activity_count"
   ]
  },
  {
   "cell_type": "markdown",
   "metadata": {},
   "source": [
    "Function to find the minute that the last non-zero activty occured in"
   ]
  },
  {
   "cell_type": "code",
   "execution_count": 10,
   "metadata": {},
   "outputs": [],
   "source": [
    "def caluclate_nzero_activity_count(start, end, player, activity_count):\n",
    "    \n",
    "    activity_count_each = 0 \n",
    "    for c_nz_minutes in range(start, end, -1):\n",
    "        if activity_count[player][c_nz_minutes-1]!=0:\n",
    "            return c_nz_minutes-1\n",
    "        \n",
    "    return -1"
   ]
  },
  {
   "cell_type": "markdown",
   "metadata": {},
   "source": [
    "Functions for calculating first 15 min of mean of position data of each player. By that way we'll be able to separately calculate each half mean pos data. "
   ]
  },
  {
   "cell_type": "code",
   "execution_count": 11,
   "metadata": {},
   "outputs": [],
   "source": [
    "def fist_time_step_mean_data(half, data_persec_t):\n",
    "    tmp_time_step_t = 0\n",
    "    \n",
    "    for t in data_persec_t:\n",
    "\n",
    "        first_time_step_i = int(t['minute'])*60 + int(t['second'])\n",
    "        x_pos = t['xpos']\n",
    "        y_pos = t['ypos']\n",
    "        team_id_t = int(t['teamId'])\n",
    "        jersey_number_t = int(t['jerseyNumber'])\n",
    "        has_ball_teamId_t = int(t['hasballTeamId'])\n",
    "        math_half = int(t['half'])\n",
    "\n",
    "\n",
    "        sec = first_time_step_i-(half-1)*45*60\n",
    "        time_step = math.floor(sec/60)\n",
    "\n",
    "        if sec==threshold_second:\n",
    "            break\n",
    "            \n",
    "        if tmp_time_step_t == time_step:\n",
    "            \n",
    "            tmp_time_step_t += 1\n",
    "            \n",
    "            for player_home in range(0, len(home_team_player)):\n",
    "                home_pos_count_minutes[player_home][0] = (shift(home_pos_count_minutes[player_home][0], -1, cval=0))\n",
    "                home_pos_count_minutes[player_home][1] = (shift(home_pos_count_minutes[player_home][1], -1, cval=0))\n",
    "                home_activity_count_minutes[player_home] = (shift(home_activity_count_minutes[player_home], -1, cval=0))\n",
    "                \n",
    "            for player_away in range(0, len(away_team_player)):\n",
    "                away_pos_count_minutes[player_away][0] = (shift(away_pos_count_minutes[player_away][0], -1, cval=0))\n",
    "                away_pos_count_minutes[player_away][1] = (shift(away_pos_count_minutes[player_away][1], -1, cval=0))\n",
    "                away_activity_count_minutes[player_away] = (shift(away_activity_count_minutes[player_away], -1, cval=0))\n",
    "\n",
    "            \n",
    "\n",
    "        if math_half == half:\n",
    "            \n",
    "\n",
    "            if team_id_t == home_team_id:\n",
    "                \n",
    "                player_home = home_dict[str(jersey_number_t)]\n",
    "                if player_positionId['homeTeam'][jersey_number_t] == 1 and has_ball_teamId_t != 0:\n",
    "                    if x_pos!=0 and y_pos !=0:    \n",
    "                        home_pos_count_minutes[player_home][0][minutes_step-1] += x_pos\n",
    "                        home_pos_count_minutes[player_home][1][minutes_step-1] += y_pos\n",
    "                        home_activity_count_minutes[player_home][minutes_step-1] +=1 \n",
    "\n",
    "                elif has_ball_teamId_t == away_team_id:\n",
    "                    if x_pos!=0 and y_pos !=0:    \n",
    "                        home_pos_count_minutes[player_home][0][minutes_step-1] += x_pos\n",
    "                        home_pos_count_minutes[player_home][1][minutes_step-1] += y_pos\n",
    "                        home_activity_count_minutes[player_home][minutes_step-1] +=1 \n",
    "\n",
    "            elif team_id_t == away_team_id:\n",
    "\n",
    "                player_away = away_dict[str(jersey_number_t)]\n",
    "                if player_positionId['awayTeam'][jersey_number_t] == 1 and has_ball_teamId_t != 0:\n",
    "                    if x_pos!=0 and y_pos!=0:\n",
    "                        away_pos_count_minutes[player_away][0][minutes_step-1] += x_pos\n",
    "                        away_pos_count_minutes[player_away][1][minutes_step-1] += y_pos\n",
    "                        away_activity_count_minutes[player_away][minutes_step-1] +=1  \n",
    "\n",
    "                elif has_ball_teamId_t == home_team_id:\n",
    "                    if x_pos!=0 and y_pos!=0:\n",
    "                        away_pos_count_minutes[player_away][0][minutes_step-1] += x_pos\n",
    "                        away_pos_count_minutes[player_away][1][minutes_step-1] += y_pos\n",
    "                        away_activity_count_minutes[player_away][minutes_step-1] +=1  \n",
    "\n",
    "                        \n",
    "    return home_activity_count_minutes, away_activity_count_minutes"
   ]
  },
  {
   "cell_type": "code",
   "execution_count": 14,
   "metadata": {
    "scrolled": true
   },
   "outputs": [
    {
     "name": "stdout",
     "output_type": "stream",
     "text": [
      "\n",
      "Match id:60565\n",
      "1st half start: 119 sec\n",
      "half:1\tmin: 2.0\n",
      "[[ 17.06875383  35.1341527 ]\n",
      " [  0.           0.        ]\n",
      " [ 37.88984167  33.09261667]\n",
      " [ 41.22228333  20.41690833]\n",
      " [ 52.93111667  42.34790833]\n",
      " [ 51.021575    11.5996    ]\n",
      " [  0.           0.        ]\n",
      " [ 53.61726667  29.49373333]\n",
      " [  0.           0.        ]\n",
      " [ 46.22503333  24.93585   ]\n",
      " [  0.           0.        ]\n",
      " [  0.           0.        ]\n",
      " [  0.           0.        ]\n",
      " [  0.           0.        ]\n",
      " [  0.           0.        ]\n",
      " [ 65.08040833  34.992625  ]\n",
      " [  0.           0.        ]\n",
      " [ 39.4726      46.29290833]\n",
      " [  0.           0.        ]\n",
      " [ 39.58865833  14.6606    ]\n",
      " [ 65.96771667  21.67235   ]]\n"
     ]
    },
    {
     "data": {
      "image/png": "[encoded data removed]",
      "text/plain": [
       "<Figure size 432x288 with 1 Axes>"
      ]
     },
     "metadata": {},
     "output_type": "display_data"
    },
    {
     "name": "stdout",
     "output_type": "stream",
     "text": [
      "\n",
      "\n",
      "half:1\tmin: 3.0\n",
      "[[ 15.1729348   34.15437901]\n",
      " [  0.           0.        ]\n",
      " [ 33.18242457  33.72828906]\n",
      " [ 33.93674068  20.56929236]\n",
      " [ 48.88503678  44.58293538]\n",
      " [ 46.83275798   9.09683674]\n",
      " [  0.           0.        ]\n",
      " [ 46.34335112  27.55467365]\n",
      " [  0.           0.        ]\n",
      " [ 40.62868835  25.36415616]\n",
      " [  0.           0.        ]\n",
      " [  0.           0.        ]\n",
      " [  0.           0.        ]\n",
      " [  0.           0.        ]\n",
      " [  0.           0.        ]\n",
      " [ 61.62244075  27.50717237]\n",
      " [  0.           0.        ]\n",
      " [ 36.47734563  47.31548906]\n",
      " [  0.           0.        ]\n",
      " [ 35.8273766   12.55403767]\n",
      " [ 57.23520941  21.27977415]]\n"
     ]
    },
    {
     "data": {
      "image/png": "[encoded data removed]",
      "text/plain": [
       "<Figure size 432x288 with 1 Axes>"
      ]
     },
     "metadata": {},
     "output_type": "display_data"
    },
    {
     "name": "stdout",
     "output_type": "stream",
     "text": [
      "\n",
      "\n",
      "half:1\tmin: 4.0\n",
      "[[ 14.03323242  35.17288739]\n",
      " [  0.           0.        ]\n",
      " [ 34.8794503   34.36018361]\n",
      " [ 35.81567763  20.43290419]\n",
      " [ 51.19549419  42.2748512 ]\n",
      " [ 52.36541788   9.15827536]\n",
      " [  0.           0.        ]\n",
      " [ 47.82071328  30.08760384]\n",
      " [  0.           0.        ]\n",
      " [ 42.69744629  28.10709507]\n",
      " [  0.           0.        ]\n",
      " [  0.           0.        ]\n",
      " [  0.           0.        ]\n",
      " [  0.           0.        ]\n",
      " [  0.           0.        ]\n",
      " [ 64.34933667  29.52853359]\n",
      " [  0.           0.        ]\n",
      " [ 38.97916362  48.19442122]\n",
      " [  0.           0.        ]\n",
      " [ 39.96013354  12.04097182]\n",
      " [ 58.39688269  26.10381535]]\n"
     ]
    },
    {
     "data": {
      "image/png": "[encoded data removed]",
      "text/plain": [
       "<Figure size 432x288 with 1 Axes>"
      ]
     },
     "metadata": {},
     "output_type": "display_data"
    },
    {
     "name": "stdout",
     "output_type": "stream",
     "text": [
      "\n",
      "\n",
      "half:1\tmin: 5.0\n",
      "[[ 13.78803029  34.65285892]\n",
      " [  0.           0.        ]\n",
      " [ 34.1663463   34.45095623]\n",
      " [ 34.69179822  22.66731384]\n",
      " [ 49.15879243  45.6875731 ]\n",
      " [ 48.175633    11.00147935]\n",
      " [  0.           0.        ]\n",
      " [ 47.60753839  26.18095529]\n",
      " [  0.           0.        ]\n",
      " [ 42.32431574  30.19016834]\n",
      " [  0.           0.        ]\n",
      " [  0.           0.        ]\n",
      " [  0.           0.        ]\n",
      " [  0.           0.        ]\n",
      " [  0.           0.        ]\n",
      " [ 61.33709654  28.0471867 ]\n",
      " [  0.           0.        ]\n",
      " [ 36.90311707  46.17255628]\n",
      " [  0.           0.        ]\n",
      " [ 37.30204732  12.50467189]\n",
      " [ 54.0370851   28.20945491]]\n"
     ]
    },
    {
     "data": {
      "image/png": "[encoded data removed]",
      "text/plain": [
       "<Figure size 432x288 with 1 Axes>"
      ]
     },
     "metadata": {},
     "output_type": "display_data"
    },
    {
     "name": "stdout",
     "output_type": "stream",
     "text": [
      "\n",
      "\n",
      "half:1\tmin: 6.0\n",
      "[[ 14.90320526  35.13929337]\n",
      " [  0.           0.        ]\n",
      " [ 34.41533054  34.70936113]\n",
      " [ 34.9296095   22.80935652]\n",
      " [ 49.72994318  45.95783665]\n",
      " [ 48.67289231  11.17990603]\n",
      " [  0.           0.        ]\n",
      " [ 47.87349243  26.62932124]\n",
      " [  0.           0.        ]\n",
      " [ 42.65428913  30.43052719]\n",
      " [  0.           0.        ]\n",
      " [  0.           0.        ]\n",
      " [  0.           0.        ]\n",
      " [  0.           0.        ]\n",
      " [  0.           0.        ]\n",
      " [ 61.65924074  28.35101025]\n",
      " [  0.           0.        ]\n",
      " [ 37.43844023  46.4164772 ]\n",
      " [  0.           0.        ]\n",
      " [ 37.6685506   12.51496879]\n",
      " [ 54.35824676  28.29746199]]\n"
     ]
    },
    {
     "data": {
      "image/png": "[encoded data removed]",
      "text/plain": [
       "<Figure size 432x288 with 1 Axes>"
      ]
     },
     "metadata": {},
     "output_type": "display_data"
    },
    {
     "name": "stdout",
     "output_type": "stream",
     "text": [
      "\n",
      "\n",
      "half:1\tmin: 7.0\n",
      "[[ 15.24895268  35.19519453]\n",
      " [  0.           0.        ]\n",
      " [ 34.41533054  34.70936113]\n",
      " [ 34.9296095   22.80935652]\n",
      " [ 49.72994318  45.95783665]\n",
      " [ 48.67289231  11.17990603]\n",
      " [  0.           0.        ]\n",
      " [ 47.87349243  26.62932124]\n",
      " [  0.           0.        ]\n",
      " [ 42.65428913  30.43052719]\n",
      " [  0.           0.        ]\n",
      " [  0.           0.        ]\n",
      " [  0.           0.        ]\n",
      " [  0.           0.        ]\n",
      " [  0.           0.        ]\n",
      " [ 61.65924074  28.35101025]\n",
      " [  0.           0.        ]\n",
      " [ 37.43844023  46.4164772 ]\n",
      " [  0.           0.        ]\n",
      " [ 37.6685506   12.51496879]\n",
      " [ 54.35824676  28.29746199]]\n"
     ]
    },
    {
     "data": {
      "image/png": "[encoded data removed]",
      "text/plain": [
       "<Figure size 432x288 with 1 Axes>"
      ]
     },
     "metadata": {},
     "output_type": "display_data"
    },
    {
     "name": "stdout",
     "output_type": "stream",
     "text": [
      "\n",
      "\n",
      "half:1\tmin: 8.0\n",
      "[[ 16.06923462  35.37851453]\n",
      " [  0.           0.        ]\n",
      " [ 35.81774834  34.51910135]\n",
      " [ 35.43773584  22.99158378]\n",
      " [ 51.04916065  45.75553024]\n",
      " [ 50.06839124  12.01919026]\n",
      " [  0.           0.        ]\n",
      " [ 48.39907912  27.19744475]\n",
      " [  0.           0.        ]\n",
      " [ 43.98488349  30.79233916]\n",
      " [  0.           0.        ]\n",
      " [  0.           0.        ]\n",
      " [  0.           0.        ]\n",
      " [  0.           0.        ]\n",
      " [  0.           0.        ]\n",
      " [ 61.48136207  28.65765218]\n",
      " [  0.           0.        ]\n",
      " [ 38.61495398  46.69182798]\n",
      " [  0.           0.        ]\n",
      " [ 38.69588349  13.01400418]\n",
      " [ 55.31022532  28.55974396]]\n"
     ]
    },
    {
     "data": {
      "image/png": "[encoded data removed]",
      "text/plain": [
       "<Figure size 432x288 with 1 Axes>"
      ]
     },
     "metadata": {},
     "output_type": "display_data"
    },
    {
     "name": "stdout",
     "output_type": "stream",
     "text": [
      "\n",
      "\n",
      "half:1\tmin: 9.0\n",
      "[[ 16.91929309  35.18835223]\n",
      " [  0.           0.        ]\n",
      " [ 38.96791701  35.08257482]\n",
      " [ 37.76951649  23.07052219]\n",
      " [ 55.91878018  47.67907206]\n",
      " [ 53.78034862  12.51049156]\n",
      " [  0.           0.        ]\n",
      " [ 51.50287039  29.54025827]\n",
      " [  0.           0.        ]\n",
      " [ 46.8358977   30.8109857 ]\n",
      " [  0.           0.        ]\n",
      " [  0.           0.        ]\n",
      " [  0.           0.        ]\n",
      " [  0.           0.        ]\n",
      " [  0.           0.        ]\n",
      " [ 65.63146864  28.46758889]\n",
      " [  0.           0.        ]\n",
      " [ 40.94932522  48.31781434]\n",
      " [  0.           0.        ]\n",
      " [ 41.74973071  12.92640644]\n",
      " [ 60.45253399  31.57263404]]\n"
     ]
    },
    {
     "data": {
      "image/png": "[encoded data removed]",
      "text/plain": [
       "<Figure size 432x288 with 1 Axes>"
      ]
     },
     "metadata": {},
     "output_type": "display_data"
    },
    {
     "name": "stdout",
     "output_type": "stream",
     "text": [
      "\n",
      "\n",
      "half:1\tmin: 10.0\n",
      "[[ 16.86509119  35.1479246 ]\n",
      " [  0.           0.        ]\n",
      " [ 38.96791701  35.08257482]\n",
      " [ 37.76951649  23.07052219]\n",
      " [ 55.91878018  47.67907206]\n",
      " [ 53.78034862  12.51049156]\n",
      " [  0.           0.        ]\n",
      " [ 51.50287039  29.54025827]\n",
      " [  0.           0.        ]\n",
      " [ 46.8358977   30.8109857 ]\n",
      " [  0.           0.        ]\n",
      " [  0.           0.        ]\n",
      " [  0.           0.        ]\n",
      " [  0.           0.        ]\n",
      " [  0.           0.        ]\n",
      " [ 65.63146864  28.46758889]\n",
      " [  0.           0.        ]\n",
      " [ 40.94932522  48.31781434]\n",
      " [  0.           0.        ]\n",
      " [ 41.74973071  12.92640644]\n",
      " [ 60.45253399  31.57263404]]\n"
     ]
    },
    {
     "data": {
      "image/png": "[encoded data removed]",
      "text/plain": [
       "<Figure size 432x288 with 1 Axes>"
      ]
     },
     "metadata": {},
     "output_type": "display_data"
    },
    {
     "name": "stdout",
     "output_type": "stream",
     "text": [
      "\n",
      "\n",
      "half:1\tmin: 11.0\n",
      "[[ 16.86509119  35.1479246 ]\n",
      " [  0.           0.        ]\n",
      " [ 38.96791701  35.08257482]\n",
      " [ 37.76951649  23.07052219]\n",
      " [ 55.91878018  47.67907206]\n",
      " [ 53.78034862  12.51049156]\n",
      " [  0.           0.        ]\n",
      " [ 51.50287039  29.54025827]\n",
      " [  0.           0.        ]\n",
      " [ 46.8358977   30.8109857 ]\n",
      " [  0.           0.        ]\n",
      " [  0.           0.        ]\n",
      " [  0.           0.        ]\n",
      " [  0.           0.        ]\n",
      " [  0.           0.        ]\n",
      " [ 65.63146864  28.46758889]\n",
      " [  0.           0.        ]\n",
      " [ 40.94932522  48.31781434]\n",
      " [  0.           0.        ]\n",
      " [ 41.74973071  12.92640644]\n",
      " [ 60.45253399  31.57263404]]\n"
     ]
    },
    {
     "data": {
      "image/png": "[encoded data removed]",
      "text/plain": [
       "<Figure size 432x288 with 1 Axes>"
      ]
     },
     "metadata": {},
     "output_type": "display_data"
    },
    {
     "name": "stdout",
     "output_type": "stream",
     "text": [
      "\n",
      "\n",
      "half:1\tmin: 12.0\n",
      "[[ 16.77575918  35.23232784]\n",
      " [  0.           0.        ]\n",
      " [ 38.96791701  35.08257482]\n",
      " [ 37.76951649  23.07052219]\n",
      " [ 55.91878018  47.67907206]\n",
      " [ 53.78034862  12.51049156]\n",
      " [  0.           0.        ]\n",
      " [ 51.50287039  29.54025827]\n",
      " [  0.           0.        ]\n",
      " [ 46.8358977   30.8109857 ]\n",
      " [  0.           0.        ]\n",
      " [  0.           0.        ]\n",
      " [  0.           0.        ]\n",
      " [  0.           0.        ]\n",
      " [  0.           0.        ]\n",
      " [ 65.63146864  28.46758889]\n",
      " [  0.           0.        ]\n",
      " [ 40.94932522  48.31781434]\n",
      " [  0.           0.        ]\n",
      " [ 41.74973071  12.92640644]\n",
      " [ 60.45253399  31.57263404]]\n"
     ]
    },
    {
     "data": {
      "image/png": "[encoded data removed]",
      "text/plain": [
       "<Figure size 432x288 with 1 Axes>"
      ]
     },
     "metadata": {},
     "output_type": "display_data"
    },
    {
     "name": "stdout",
     "output_type": "stream",
     "text": [
      "\n",
      "\n",
      "half:1\tmin: 13.0\n",
      "[[ 16.29354861  35.847523  ]\n",
      " [  0.           0.        ]\n",
      " [ 38.94034462  35.23342927]\n",
      " [ 37.86463363  23.03862145]\n",
      " [ 56.00408405  47.21425101]\n",
      " [ 54.1765642   12.67690886]\n",
      " [  0.           0.        ]\n",
      " [ 51.49249636  29.91018732]\n",
      " [  0.           0.        ]\n",
      " [ 47.17558536  30.82899804]\n",
      " [  0.           0.        ]\n",
      " [  0.           0.        ]\n",
      " [  0.           0.        ]\n",
      " [  0.           0.        ]\n",
      " [  0.           0.        ]\n",
      " [ 65.81386416  28.6707745 ]\n",
      " [  0.           0.        ]\n",
      " [ 41.20023395  48.51217407]\n",
      " [  0.           0.        ]\n",
      " [ 42.40972949  12.85176505]\n",
      " [ 60.59227683  31.93987276]]\n"
     ]
    },
    {
     "data": {
      "image/png": "[encoded data removed]",
      "text/plain": [
       "<Figure size 432x288 with 1 Axes>"
      ]
     },
     "metadata": {},
     "output_type": "display_data"
    },
    {
     "name": "stdout",
     "output_type": "stream",
     "text": [
      "\n",
      "\n",
      "half:1\tmin: 14.0\n",
      "[[ 16.73867286  35.75249534]\n",
      " [  0.           0.        ]\n",
      " [ 39.63365562  35.18662305]\n",
      " [ 38.5276201   22.84517573]\n",
      " [ 57.0705232   46.21380651]\n",
      " [ 55.37502449  12.80204107]\n",
      " [  0.           0.        ]\n",
      " [ 51.95260044  30.82148048]\n",
      " [  0.           0.        ]\n",
      " [ 48.13569824  30.20094822]\n",
      " [  0.           0.        ]\n",
      " [  0.           0.        ]\n",
      " [  0.           0.        ]\n",
      " [  0.           0.        ]\n",
      " [  0.           0.        ]\n",
      " [ 66.92523566  29.20164359]\n",
      " [  0.           0.        ]\n",
      " [ 42.19973188  48.83456446]\n",
      " [  0.           0.        ]\n",
      " [ 45.07311663  12.72655687]\n",
      " [ 61.47680058  31.94280896]]\n"
     ]
    },
    {
     "data": {
      "image/png": "[encoded data removed]",
      "text/plain": [
       "<Figure size 432x288 with 1 Axes>"
      ]
     },
     "metadata": {},
     "output_type": "display_data"
    },
    {
     "name": "stdout",
     "output_type": "stream",
     "text": [
      "\n",
      "\n",
      "half:1\tmin: 15.0\n",
      "[[ 15.42076507  35.35959568]\n",
      " [  0.           0.        ]\n",
      " [ 35.89831621  34.14431541]\n",
      " [ 35.11120755  22.47500793]\n",
      " [ 53.03748623  46.52082191]\n",
      " [ 50.99976956  12.30336617]\n",
      " [  0.           0.        ]\n",
      " [ 47.64604008  29.50579623]\n",
      " [  0.           0.        ]\n",
      " [ 44.05738531  28.2743366 ]\n",
      " [  0.           0.        ]\n",
      " [  0.           0.        ]\n",
      " [  0.           0.        ]\n",
      " [  0.           0.        ]\n",
      " [  0.           0.        ]\n",
      " [ 63.54881043  26.45873326]\n",
      " [  0.           0.        ]\n",
      " [ 38.42521251  46.47052632]\n",
      " [  0.           0.        ]\n",
      " [ 40.49988319  12.73613804]\n",
      " [ 57.62357542  31.09424189]]\n"
     ]
    },
    {
     "data": {
      "image/png": "[encoded data removed]",
      "text/plain": [
       "<Figure size 432x288 with 1 Axes>"
      ]
     },
     "metadata": {},
     "output_type": "display_data"
    },
    {
     "name": "stdout",
     "output_type": "stream",
     "text": [
      "\n",
      "\n",
      "half:1\tmin: 16.0\n",
      "[[ 14.54100857  34.76232264]\n",
      " [  0.           0.        ]\n",
      " [ 35.52710489  33.80930613]\n",
      " [ 34.72054323  22.224619  ]\n",
      " [ 53.08755495  46.50192718]\n",
      " [ 50.58662553  12.27350149]\n",
      " [  0.           0.        ]\n",
      " [ 47.47525193  29.30048854]\n",
      " [  0.           0.        ]\n",
      " [ 43.67977071  27.87013764]\n",
      " [  0.           0.        ]\n",
      " [  0.           0.        ]\n",
      " [  0.           0.        ]\n",
      " [  0.           0.        ]\n",
      " [  0.           0.        ]\n",
      " [ 62.90448959  25.85620452]\n",
      " [  0.           0.        ]\n",
      " [ 38.16039152  46.12172116]\n",
      " [  0.           0.        ]\n",
      " [ 40.20162219  12.58874118]\n",
      " [ 57.24130901  30.549472  ]]\n"
     ]
    },
    {
     "data": {
      "image/png": "[encoded data removed]",
      "text/plain": [
       "<Figure size 432x288 with 1 Axes>"
      ]
     },
     "metadata": {},
     "output_type": "display_data"
    },
    {
     "name": "stdout",
     "output_type": "stream",
     "text": [
      "\n",
      "\n",
      "half:1\tmin: 17.0\n",
      "[[ 14.28188114  34.77213313]\n",
      " [  0.           0.        ]\n",
      " [ 35.75142777  33.80542856]\n",
      " [ 34.74860447  22.17771377]\n",
      " [ 53.47949343  46.10401484]\n",
      " [ 51.03483828  12.29491255]\n",
      " [  0.           0.        ]\n",
      " [ 47.61861406  29.58619886]\n",
      " [  0.           0.        ]\n",
      " [ 44.00257432  27.62254853]\n",
      " [  0.           0.        ]\n",
      " [  0.           0.        ]\n",
      " [  0.           0.        ]\n",
      " [  0.           0.        ]\n",
      " [  0.           0.        ]\n",
      " [ 63.4515652   25.3310849 ]\n",
      " [  0.           0.        ]\n",
      " [ 38.73848336  46.25044109]\n",
      " [  0.           0.        ]\n",
      " [ 40.91933472  12.28555033]\n",
      " [ 57.46555122  31.75984535]]\n"
     ]
    },
    {
     "data": {
      "image/png": "[encoded data removed]",
      "text/plain": [
       "<Figure size 432x288 with 1 Axes>"
      ]
     },
     "metadata": {},
     "output_type": "display_data"
    },
    {
     "name": "stdout",
     "output_type": "stream",
     "text": [
      "\n",
      "\n",
      "half:1\tmin: 18.0\n",
      "[[ 14.25538973  34.81038409]\n",
      " [  0.           0.        ]\n",
      " [ 35.5737435   33.28999705]\n",
      " [ 34.77168282  22.21986594]\n",
      " [ 53.68260488  46.57165801]\n",
      " [ 49.84319645  12.57589201]\n",
      " [  0.           0.        ]\n",
      " [ 47.17033542  29.94388918]\n",
      " [  0.           0.        ]\n",
      " [ 44.21224932  27.08675156]\n",
      " [  0.           0.        ]\n",
      " [  0.           0.        ]\n",
      " [  0.           0.        ]\n",
      " [  0.           0.        ]\n",
      " [  0.           0.        ]\n",
      " [ 62.94570287  23.6686097 ]\n",
      " [  0.           0.        ]\n",
      " [ 38.20325272  45.74512622]\n",
      " [  0.           0.        ]\n",
      " [ 40.99808821  12.24520515]\n",
      " [ 58.18029026  35.13426023]]\n"
     ]
    },
    {
     "data": {
      "image/png": "[encoded data removed]",
      "text/plain": [
       "<Figure size 432x288 with 1 Axes>"
      ]
     },
     "metadata": {},
     "output_type": "display_data"
    },
    {
     "name": "stdout",
     "output_type": "stream",
     "text": [
      "\n",
      "\n",
      "half:1\tmin: 19.0\n",
      "[[ 14.51958959  34.61578009]\n",
      " [  0.           0.        ]\n",
      " [ 36.31866018  33.65584561]\n",
      " [ 35.32282297  23.16129018]\n",
      " [ 54.40078637  47.81893149]\n",
      " [ 50.1723754   13.31124783]\n",
      " [  0.           0.        ]\n",
      " [ 47.74220326  30.48719165]\n",
      " [  0.           0.        ]\n",
      " [ 44.93739245  26.9914173 ]\n",
      " [  0.           0.        ]\n",
      " [  0.           0.        ]\n",
      " [  0.           0.        ]\n",
      " [  0.           0.        ]\n",
      " [  0.           0.        ]\n",
      " [ 63.3864471   24.98087205]\n",
      " [  0.           0.        ]\n",
      " [ 38.73310481  46.07562807]\n",
      " [  0.           0.        ]\n",
      " [ 40.80988411  12.96088694]\n",
      " [ 58.54218417  34.38345886]]\n"
     ]
    },
    {
     "data": {
      "image/png": "[encoded data removed]",
      "text/plain": [
       "<Figure size 432x288 with 1 Axes>"
      ]
     },
     "metadata": {},
     "output_type": "display_data"
    },
    {
     "name": "stdout",
     "output_type": "stream",
     "text": [
      "\n",
      "\n",
      "half:1\tmin: 20.0\n",
      "[[ 15.32374727  34.91201536]\n",
      " [  0.           0.        ]\n",
      " [ 38.95041091  34.1716276 ]\n",
      " [ 37.84558869  23.13262112]\n",
      " [ 58.44177875  48.61852222]\n",
      " [ 54.95905181  14.60387263]\n",
      " [  0.           0.        ]\n",
      " [ 49.41649177  35.14968254]\n",
      " [  0.           0.        ]\n",
      " [ 50.91443707  27.17378001]\n",
      " [  0.           0.        ]\n",
      " [  0.           0.        ]\n",
      " [  0.           0.        ]\n",
      " [  0.           0.        ]\n",
      " [  0.           0.        ]\n",
      " [ 67.87633245  26.31118015]\n",
      " [  0.           0.        ]\n",
      " [ 44.6397302   47.07505847]\n",
      " [  0.           0.        ]\n",
      " [ 44.33933373  13.45657331]\n",
      " [ 63.09260398  34.50007213]]\n"
     ]
    },
    {
     "data": {
      "image/png": "[encoded data removed]",
      "text/plain": [
       "<Figure size 432x288 with 1 Axes>"
      ]
     },
     "metadata": {},
     "output_type": "display_data"
    },
    {
     "name": "stdout",
     "output_type": "stream",
     "text": [
      "\n",
      "\n",
      "half:1\tmin: 21.0\n",
      "[[ 15.06066587  34.84510169]\n",
      " [  0.           0.        ]\n",
      " [ 39.34034966  34.74501802]\n",
      " [ 38.35028273  23.43184584]\n",
      " [ 59.03461992  48.45255588]\n",
      " [ 54.07579282  14.42002183]\n",
      " [  0.           0.        ]\n",
      " [ 49.36967144  35.7402992 ]\n",
      " [  0.           0.        ]\n",
      " [ 51.24572972  27.79981117]\n",
      " [  0.           0.        ]\n",
      " [  0.           0.        ]\n",
      " [  0.           0.        ]\n",
      " [  0.           0.        ]\n",
      " [  0.           0.        ]\n",
      " [ 68.06609232  27.89972372]\n",
      " [  0.           0.        ]\n",
      " [ 45.41432742  47.42757975]\n",
      " [  0.           0.        ]\n",
      " [ 44.28886583  13.64642688]\n",
      " [ 63.02938536  33.7763776 ]]\n"
     ]
    },
    {
     "data": {
      "image/png": "[encoded data removed]",
      "text/plain": [
       "<Figure size 432x288 with 1 Axes>"
      ]
     },
     "metadata": {},
     "output_type": "display_data"
    },
    {
     "name": "stdout",
     "output_type": "stream",
     "text": [
      "\n",
      "\n",
      "half:1\tmin: 22.0\n",
      "[[ 15.2378235   34.83372697]\n",
      " [  0.           0.        ]\n",
      " [ 39.34034966  34.74501802]\n",
      " [ 38.35028273  23.43184584]\n",
      " [ 59.03461992  48.45255588]\n",
      " [ 54.07579282  14.42002183]\n",
      " [  0.           0.        ]\n",
      " [ 49.36967144  35.7402992 ]\n",
      " [  0.           0.        ]\n",
      " [ 51.24572972  27.79981117]\n",
      " [  0.           0.        ]\n",
      " [  0.           0.        ]\n",
      " [  0.           0.        ]\n",
      " [  0.           0.        ]\n",
      " [  0.           0.        ]\n",
      " [ 68.06609232  27.89972372]\n",
      " [  0.           0.        ]\n",
      " [ 45.41432742  47.42757975]\n",
      " [  0.           0.        ]\n",
      " [ 44.28886583  13.64642688]\n",
      " [ 63.02938536  33.7763776 ]]\n"
     ]
    },
    {
     "data": {
      "image/png": "[encoded data removed]",
      "text/plain": [
       "<Figure size 432x288 with 1 Axes>"
      ]
     },
     "metadata": {},
     "output_type": "display_data"
    },
    {
     "name": "stdout",
     "output_type": "stream",
     "text": [
      "\n",
      "\n",
      "half:1\tmin: 23.0\n",
      "[[ 15.12923901  34.73501454]\n",
      " [  0.           0.        ]\n",
      " [ 39.70840979  34.85362809]\n",
      " [ 38.59242136  23.32897155]\n",
      " [ 59.05112264  48.59962135]\n",
      " [ 53.92609604  14.059838  ]\n",
      " [  0.           0.        ]\n",
      " [ 49.63711236  35.85084371]\n",
      " [  0.           0.        ]\n",
      " [ 51.43807865  27.89843084]\n",
      " [  0.           0.        ]\n",
      " [  0.           0.        ]\n",
      " [  0.           0.        ]\n",
      " [  0.           0.        ]\n",
      " [  0.           0.        ]\n",
      " [ 68.82987143  28.23231604]\n",
      " [  0.           0.        ]\n",
      " [ 45.06583086  47.27978144]\n",
      " [  0.           0.        ]\n",
      " [ 44.7764481   13.63065166]\n",
      " [ 63.30320084  33.38498085]]\n"
     ]
    },
    {
     "data": {
      "image/png": "[encoded data removed]",
      "text/plain": [
       "<Figure size 432x288 with 1 Axes>"
      ]
     },
     "metadata": {},
     "output_type": "display_data"
    },
    {
     "name": "stdout",
     "output_type": "stream",
     "text": [
      "\n",
      "\n",
      "half:1\tmin: 24.0\n",
      "[[ 14.03024155  34.9141573 ]\n",
      " [  0.           0.        ]\n",
      " [ 35.66247742  36.69005867]\n",
      " [ 35.52106117  24.87252111]\n",
      " [ 52.07046907  50.31701406]\n",
      " [ 48.78625878  14.23847052]\n",
      " [  0.           0.        ]\n",
      " [ 45.86415542  36.82631557]\n",
      " [  0.           0.        ]\n",
      " [ 48.18595658  28.46592539]\n",
      " [  0.           0.        ]\n",
      " [  0.           0.        ]\n",
      " [  0.           0.        ]\n",
      " [  0.           0.        ]\n",
      " [  0.           0.        ]\n",
      " [ 64.55539315  30.48659871]\n",
      " [  0.           0.        ]\n",
      " [ 41.1597924   47.41331371]\n",
      " [  0.           0.        ]\n",
      " [ 39.9816947   14.85081409]\n",
      " [ 58.05650255  34.13563228]]\n"
     ]
    },
    {
     "data": {
      "image/png": "[encoded data removed]",
      "text/plain": [
       "<Figure size 432x288 with 1 Axes>"
      ]
     },
     "metadata": {},
     "output_type": "display_data"
    },
    {
     "name": "stdout",
     "output_type": "stream",
     "text": [
      "\n",
      "\n",
      "half:1\tmin: 25.0\n",
      "[[ 14.02599047  34.93602828]\n",
      " [  0.           0.        ]\n",
      " [ 35.56972951  36.69204254]\n",
      " [ 35.42846549  24.89181226]\n",
      " [ 51.95372219  50.30495987]\n",
      " [ 48.66255882  14.30051902]\n",
      " [  0.           0.        ]\n",
      " [ 45.79547544  36.8667183 ]\n",
      " [  0.           0.        ]\n",
      " [ 48.03117858  28.52541652]\n",
      " [  0.           0.        ]\n",
      " [  0.           0.        ]\n",
      " [  0.           0.        ]\n",
      " [  0.           0.        ]\n",
      " [  0.           0.        ]\n",
      " [ 64.31809385  30.50642677]\n",
      " [  0.           0.        ]\n",
      " [ 41.03994326  47.40767816]\n",
      " [  0.           0.        ]\n",
      " [ 39.86271181  14.90804354]\n",
      " [ 57.85693967  34.17637964]]\n"
     ]
    },
    {
     "data": {
      "image/png": "[encoded data removed]",
      "text/plain": [
       "<Figure size 432x288 with 1 Axes>"
      ]
     },
     "metadata": {},
     "output_type": "display_data"
    },
    {
     "name": "stdout",
     "output_type": "stream",
     "text": [
      "\n",
      "\n",
      "half:1\tmin: 26.0\n",
      "[[ 14.02599047  34.93602828]\n",
      " [  0.           0.        ]\n",
      " [ 35.56972951  36.69204254]\n",
      " [ 35.42846549  24.89181226]\n",
      " [ 51.95372219  50.30495987]\n",
      " [ 48.66255882  14.30051902]\n",
      " [  0.           0.        ]\n",
      " [ 45.79547544  36.8667183 ]\n",
      " [  0.           0.        ]\n",
      " [ 48.03117858  28.52541652]\n",
      " [  0.           0.        ]\n",
      " [  0.           0.        ]\n",
      " [  0.           0.        ]\n",
      " [  0.           0.        ]\n",
      " [  0.           0.        ]\n",
      " [ 64.31809385  30.50642677]\n",
      " [  0.           0.        ]\n",
      " [ 41.03994326  47.40767816]\n",
      " [  0.           0.        ]\n",
      " [ 39.86271181  14.90804354]\n",
      " [ 57.85693967  34.17637964]]\n"
     ]
    },
    {
     "data": {
      "image/png": "[encoded data removed]",
      "text/plain": [
       "<Figure size 432x288 with 1 Axes>"
      ]
     },
     "metadata": {},
     "output_type": "display_data"
    },
    {
     "name": "stdout",
     "output_type": "stream",
     "text": [
      "\n",
      "\n",
      "half:1\tmin: 27.0\n",
      "[[ 13.87549167  34.88997904]\n",
      " [  0.           0.        ]\n",
      " [ 35.56972951  36.69204254]\n",
      " [ 35.42846549  24.89181226]\n",
      " [ 51.95372219  50.30495987]\n",
      " [ 48.66255882  14.30051902]\n",
      " [  0.           0.        ]\n",
      " [ 45.79547544  36.8667183 ]\n",
      " [  0.           0.        ]\n",
      " [ 48.03117858  28.52541652]\n",
      " [  0.           0.        ]\n",
      " [  0.           0.        ]\n",
      " [  0.           0.        ]\n",
      " [  0.           0.        ]\n",
      " [  0.           0.        ]\n",
      " [ 64.31809385  30.50642677]\n",
      " [  0.           0.        ]\n",
      " [ 41.03994326  47.40767816]\n",
      " [  0.           0.        ]\n",
      " [ 39.86271181  14.90804354]\n",
      " [ 57.85693967  34.17637964]]\n"
     ]
    },
    {
     "data": {
      "image/png": "[encoded data removed]",
      "text/plain": [
       "<Figure size 432x288 with 1 Axes>"
      ]
     },
     "metadata": {},
     "output_type": "display_data"
    },
    {
     "name": "stdout",
     "output_type": "stream",
     "text": [
      "\n",
      "\n",
      "half:1\tmin: 28.0\n",
      "[[ 14.72966962  34.71746473]\n",
      " [  0.           0.        ]\n",
      " [ 36.01908412  36.89137676]\n",
      " [ 35.73674361  24.94502195]\n",
      " [ 52.27823341  50.41483804]\n",
      " [ 48.97284713  14.35888452]\n",
      " [  0.           0.        ]\n",
      " [ 46.23593091  36.8276691 ]\n",
      " [  0.           0.        ]\n",
      " [ 47.97829611  28.66660753]\n",
      " [  0.           0.        ]\n",
      " [  0.           0.        ]\n",
      " [  0.           0.        ]\n",
      " [  0.           0.        ]\n",
      " [  0.           0.        ]\n",
      " [ 64.54989521  30.6330216 ]\n",
      " [  0.           0.        ]\n",
      " [ 41.39462682  47.57047805]\n",
      " [  0.           0.        ]\n",
      " [ 40.40181021  14.80126249]\n",
      " [ 57.97208144  34.17368409]]\n"
     ]
    },
    {
     "data": {
      "image/png": "[encoded data removed]",
      "text/plain": [
       "<Figure size 432x288 with 1 Axes>"
      ]
     },
     "metadata": {},
     "output_type": "display_data"
    },
    {
     "name": "stdout",
     "output_type": "stream",
     "text": [
      "\n",
      "\n",
      "half:1\tmin: 29.0\n",
      "[[ 14.90633807  34.80643743]\n",
      " [  0.           0.        ]\n",
      " [ 36.5362534   36.93747847]\n",
      " [ 36.86444749  25.09314834]\n",
      " [ 53.5946468   51.56703471]\n",
      " [ 50.63796892  14.78654007]\n",
      " [  0.           0.        ]\n",
      " [ 48.02707838  36.45700699]\n",
      " [  0.           0.        ]\n",
      " [ 48.28248477  29.34002556]\n",
      " [  0.           0.        ]\n",
      " [  0.           0.        ]\n",
      " [  0.           0.        ]\n",
      " [  0.           0.        ]\n",
      " [  0.           0.        ]\n",
      " [ 66.12319139  30.25655767]\n",
      " [  0.           0.        ]\n",
      " [ 42.64413554  48.1657339 ]\n",
      " [  0.           0.        ]\n",
      " [ 40.50229236  14.639504  ]\n",
      " [ 58.80582311  34.36802813]]\n"
     ]
    },
    {
     "data": {
      "image/png": "[encoded data removed]",
      "text/plain": [
       "<Figure size 432x288 with 1 Axes>"
      ]
     },
     "metadata": {},
     "output_type": "display_data"
    },
    {
     "name": "stdout",
     "output_type": "stream",
     "text": [
      "\n",
      "\n",
      "half:1\tmin: 30.0\n",
      "[[ 15.8574149   35.3137837 ]\n",
      " [  0.           0.        ]\n",
      " [ 38.89818587  38.59421963]\n",
      " [ 39.44730554  25.84152027]\n",
      " [ 56.66933682  52.73334285]\n",
      " [ 53.42467072  17.70385573]\n",
      " [  0.           0.        ]\n",
      " [ 51.4517902   38.62205995]\n",
      " [  0.           0.        ]\n",
      " [ 51.05430487  31.69627323]\n",
      " [  0.           0.        ]\n",
      " [  0.           0.        ]\n",
      " [  0.           0.        ]\n",
      " [  0.           0.        ]\n",
      " [  0.           0.        ]\n",
      " [ 69.84409611  33.60968693]\n",
      " [  0.           0.        ]\n",
      " [ 44.87080743  51.00219568]\n",
      " [  0.           0.        ]\n",
      " [ 43.03303551  15.23098663]\n",
      " [ 63.02494279  33.62659411]]\n"
     ]
    },
    {
     "data": {
      "image/png": "[encoded data removed]",
      "text/plain": [
       "<Figure size 432x288 with 1 Axes>"
      ]
     },
     "metadata": {},
     "output_type": "display_data"
    },
    {
     "name": "stdout",
     "output_type": "stream",
     "text": [
      "\n",
      "\n",
      "half:1\tmin: 31.0\n",
      "[[ 16.3507344   35.9074449 ]\n",
      " [  0.           0.        ]\n",
      " [ 39.05152674  38.9489374 ]\n",
      " [ 39.59915428  26.15702259]\n",
      " [ 56.43023293  52.83072849]\n",
      " [ 53.67519233  17.70870297]\n",
      " [  0.           0.        ]\n",
      " [ 51.47745299  38.96830801]\n",
      " [  0.           0.        ]\n",
      " [ 51.19688556  32.04160707]\n",
      " [  0.           0.        ]\n",
      " [  0.           0.        ]\n",
      " [  0.           0.        ]\n",
      " [  0.           0.        ]\n",
      " [  0.           0.        ]\n",
      " [ 70.26399527  33.97861153]\n",
      " [  0.           0.        ]\n",
      " [ 44.94865546  51.29820962]\n",
      " [  0.           0.        ]\n",
      " [ 43.09076382  15.35681502]\n",
      " [ 63.3162371   34.09917566]]\n"
     ]
    },
    {
     "data": {
      "image/png": "[encoded data removed]",
      "text/plain": [
       "<Figure size 432x288 with 1 Axes>"
      ]
     },
     "metadata": {},
     "output_type": "display_data"
    },
    {
     "name": "stdout",
     "output_type": "stream",
     "text": [
      "\n",
      "\n",
      "half:1\tmin: 32.0\n",
      "[[ 16.50796474  35.93556582]\n",
      " [  0.           0.        ]\n",
      " [ 38.9055636   39.08982853]\n",
      " [ 39.45992273  26.33668887]\n",
      " [ 56.26419607  53.36544086]\n",
      " [ 53.44751405  17.83877719]\n",
      " [  0.           0.        ]\n",
      " [ 51.25946825  38.99571891]\n",
      " [  0.           0.        ]\n",
      " [ 51.07082988  32.3917802 ]\n",
      " [  0.           0.        ]\n",
      " [  0.           0.        ]\n",
      " [  0.           0.        ]\n",
      " [  0.           0.        ]\n",
      " [  0.           0.        ]\n",
      " [ 70.00719105  34.16401971]\n",
      " [  0.           0.        ]\n",
      " [ 44.69030572  51.32567532]\n",
      " [  0.           0.        ]\n",
      " [ 42.73019974  15.53309436]\n",
      " [ 63.00223263  33.73306323]]\n"
     ]
    },
    {
     "data": {
      "image/png": "[encoded data removed]",
      "text/plain": [
       "<Figure size 432x288 with 1 Axes>"
      ]
     },
     "metadata": {},
     "output_type": "display_data"
    },
    {
     "name": "stdout",
     "output_type": "stream",
     "text": [
      "\n",
      "\n",
      "half:1\tmin: 33.0\n",
      "[[ 16.90353557  36.16461975]\n",
      " [  0.           0.        ]\n",
      " [ 40.01137802  40.26759566]\n",
      " [ 40.55057289  27.1197508 ]\n",
      " [ 57.23535655  54.20436756]\n",
      " [ 55.3769216   18.94551754]\n",
      " [  0.           0.        ]\n",
      " [ 52.59724244  40.47403008]\n",
      " [  0.           0.        ]\n",
      " [ 52.60979551  33.76958362]\n",
      " [  0.           0.        ]\n",
      " [  0.           0.        ]\n",
      " [  0.           0.        ]\n",
      " [  0.           0.        ]\n",
      " [  0.           0.        ]\n",
      " [ 71.74209392  36.81645858]\n",
      " [  0.           0.        ]\n",
      " [ 46.38711912  52.31487427]\n",
      " [  0.           0.        ]\n",
      " [ 43.69403591  16.11215373]\n",
      " [ 63.68630494  32.72083462]]\n"
     ]
    },
    {
     "data": {
      "image/png": "[encoded data removed]",
      "text/plain": [
       "<Figure size 432x288 with 1 Axes>"
      ]
     },
     "metadata": {},
     "output_type": "display_data"
    },
    {
     "name": "stdout",
     "output_type": "stream",
     "text": [
      "\n",
      "\n",
      "half:1\tmin: 34.0\n",
      "[[ 17.18255128  36.27148434]\n",
      " [  0.           0.        ]\n",
      " [ 39.79294217  40.1949221 ]\n",
      " [ 40.44724123  26.75670992]\n",
      " [ 56.64067278  54.38241441]\n",
      " [ 54.55193309  18.94458425]\n",
      " [  0.           0.        ]\n",
      " [ 52.57292713  40.92610261]\n",
      " [  0.           0.        ]\n",
      " [ 52.54464364  34.17001749]\n",
      " [  0.           0.        ]\n",
      " [  0.           0.        ]\n",
      " [  0.           0.        ]\n",
      " [  0.           0.        ]\n",
      " [  0.           0.        ]\n",
      " [ 71.24953917  36.21012385]\n",
      " [  0.           0.        ]\n",
      " [ 46.19656402  52.44625096]\n",
      " [  0.           0.        ]\n",
      " [ 43.54139474  15.98312003]\n",
      " [ 63.60089457  32.78742657]]\n"
     ]
    },
    {
     "data": {
      "image/png": "[encoded data removed]",
      "text/plain": [
       "<Figure size 432x288 with 1 Axes>"
      ]
     },
     "metadata": {},
     "output_type": "display_data"
    },
    {
     "name": "stdout",
     "output_type": "stream",
     "text": [
      "\n",
      "\n",
      "half:1\tmin: 35.0\n",
      "[[ 16.94329215  36.48351836]\n",
      " [  0.           0.        ]\n",
      " [ 38.6433796   40.69381259]\n",
      " [ 39.44658654  27.00467248]\n",
      " [ 54.90537006  54.49403344]\n",
      " [ 52.37114226  18.84672262]\n",
      " [  0.           0.        ]\n",
      " [ 51.97241729  40.42427332]\n",
      " [  0.           0.        ]\n",
      " [ 49.05255969  34.05385322]\n",
      " [  0.           0.        ]\n",
      " [  0.           0.        ]\n",
      " [  0.           0.        ]\n",
      " [  0.           0.        ]\n",
      " [  0.           0.        ]\n",
      " [ 69.70166472  36.65856937]\n",
      " [  0.           0.        ]\n",
      " [ 42.97799212  53.14062173]\n",
      " [  0.           0.        ]\n",
      " [ 42.23083592  16.06486272]\n",
      " [ 62.38471221  33.30403838]]\n"
     ]
    },
    {
     "data": {
      "image/png": "[encoded data removed]",
      "text/plain": [
       "<Figure size 432x288 with 1 Axes>"
      ]
     },
     "metadata": {},
     "output_type": "display_data"
    },
    {
     "name": "stdout",
     "output_type": "stream",
     "text": [
      "\n",
      "\n",
      "half:1\tmin: 36.0\n",
      "[[ 17.23200017  36.47569432]\n",
      " [  0.           0.        ]\n",
      " [ 40.44973245  40.38077757]\n",
      " [ 40.76772464  27.94488557]\n",
      " [ 54.3545994   54.07096535]\n",
      " [ 53.9924047   19.99070058]\n",
      " [  0.           0.        ]\n",
      " [ 52.90887905  40.05414908]\n",
      " [  0.           0.        ]\n",
      " [ 49.3177893   33.62863276]\n",
      " [  0.           0.        ]\n",
      " [  0.           0.        ]\n",
      " [  0.           0.        ]\n",
      " [  0.           0.        ]\n",
      " [  0.           0.        ]\n",
      " [ 70.1214533   35.68666283]\n",
      " [  0.           0.        ]\n",
      " [ 42.05966625  52.78397079]\n",
      " [  0.           0.        ]\n",
      " [ 42.45759559  16.57034619]\n",
      " [ 63.15736094  34.31113158]]\n"
     ]
    },
    {
     "data": {
      "image/png": "[encoded data removed]",
      "text/plain": [
       "<Figure size 432x288 with 1 Axes>"
      ]
     },
     "metadata": {},
     "output_type": "display_data"
    },
    {
     "name": "stdout",
     "output_type": "stream",
     "text": [
      "\n",
      "\n",
      "half:1\tmin: 37.0\n",
      "[[ 15.79859107  36.26933483]\n",
      " [  0.           0.        ]\n",
      " [ 36.76114223  39.5360686 ]\n",
      " [ 38.86672878  25.43789258]\n",
      " [ 50.36921618  54.5526342 ]\n",
      " [ 51.29557306  19.50649351]\n",
      " [  0.           0.        ]\n",
      " [ 48.84965203  40.08658221]\n",
      " [  0.           0.        ]\n",
      " [ 45.92618417  32.58121175]\n",
      " [  0.           0.        ]\n",
      " [  0.           0.        ]\n",
      " [  0.           0.        ]\n",
      " [  0.           0.        ]\n",
      " [  0.           0.        ]\n",
      " [ 66.11858716  35.26355203]\n",
      " [  0.           0.        ]\n",
      " [ 38.28352336  51.65439746]\n",
      " [  0.           0.        ]\n",
      " [ 38.58795526  17.05902168]\n",
      " [ 59.61743566  36.39661152]]\n"
     ]
    },
    {
     "data": {
      "image/png": "[encoded data removed]",
      "text/plain": [
       "<Figure size 432x288 with 1 Axes>"
      ]
     },
     "metadata": {},
     "output_type": "display_data"
    },
    {
     "name": "stdout",
     "output_type": "stream",
     "text": [
      "\n",
      "\n",
      "half:1\tmin: 38.0\n",
      "[[ 14.34876872  36.1741502 ]\n",
      " [  0.           0.        ]\n",
      " [ 32.90671091  39.395259  ]\n",
      " [ 37.35439617  23.61862478]\n",
      " [ 47.02848532  55.26448226]\n",
      " [ 44.14832351  19.62358858]\n",
      " [  0.           0.        ]\n",
      " [ 45.23461416  39.29147611]\n",
      " [  0.           0.        ]\n",
      " [ 41.48517847  32.14836165]\n",
      " [  0.           0.        ]\n",
      " [  0.           0.        ]\n",
      " [  0.           0.        ]\n",
      " [  0.           0.        ]\n",
      " [  0.           0.        ]\n",
      " [ 62.37982596  35.25399764]\n",
      " [  0.           0.        ]\n",
      " [ 34.61888673  51.43769735]\n",
      " [  0.           0.        ]\n",
      " [ 34.33146755  20.21504985]\n",
      " [ 54.9111587   37.92747316]]\n"
     ]
    },
    {
     "data": {
      "image/png": "[encoded data removed]",
      "text/plain": [
       "<Figure size 432x288 with 1 Axes>"
      ]
     },
     "metadata": {},
     "output_type": "display_data"
    },
    {
     "name": "stdout",
     "output_type": "stream",
     "text": [
      "\n",
      "\n",
      "half:1\tmin: 39.0\n",
      "[[ 15.04854211  36.46150837]\n",
      " [  0.           0.        ]\n",
      " [ 34.33431124  38.45441524]\n",
      " [ 39.60652305  21.92664495]\n",
      " [ 49.96736926  54.4413018 ]\n",
      " [ 45.79881132  21.27275963]\n",
      " [  0.           0.        ]\n",
      " [ 46.66747962  39.02663733]\n",
      " [  0.           0.        ]\n",
      " [ 41.6628301   32.33390286]\n",
      " [  0.           0.        ]\n",
      " [  0.           0.        ]\n",
      " [  0.           0.        ]\n",
      " [  0.           0.        ]\n",
      " [  0.           0.        ]\n",
      " [ 63.98739314  34.75823048]\n",
      " [  0.           0.        ]\n",
      " [ 35.53841752  51.59913829]\n",
      " [  0.           0.        ]\n",
      " [ 35.8755981   20.89404762]\n",
      " [ 56.57520267  37.301416  ]]\n"
     ]
    },
    {
     "data": {
      "image/png": "[encoded data removed]",
      "text/plain": [
       "<Figure size 432x288 with 1 Axes>"
      ]
     },
     "metadata": {},
     "output_type": "display_data"
    },
    {
     "name": "stdout",
     "output_type": "stream",
     "text": [
      "\n",
      "\n",
      "half:1\tmin: 40.0\n",
      "[[ 15.35484141  36.18216933]\n",
      " [  0.           0.        ]\n",
      " [ 34.84042509  37.96760309]\n",
      " [ 40.44059371  23.26162626]\n",
      " [ 51.01118459  52.18465269]\n",
      " [ 47.16769428  25.17591297]\n",
      " [  0.           0.        ]\n",
      " [ 47.50769588  38.41933677]\n",
      " [  0.           0.        ]\n",
      " [ 42.40701168  32.47710137]\n",
      " [  0.           0.        ]\n",
      " [  0.           0.        ]\n",
      " [  0.           0.        ]\n",
      " [  0.           0.        ]\n",
      " [  0.           0.        ]\n",
      " [ 65.12740722  34.29409897]\n",
      " [  0.           0.        ]\n",
      " [ 36.81752852  51.39122062]\n",
      " [  0.           0.        ]\n",
      " [ 37.30802131  20.24324364]\n",
      " [ 57.90404536  37.47054845]]\n"
     ]
    },
    {
     "data": {
      "image/png": "[encoded data removed]",
      "text/plain": [
       "<Figure size 432x288 with 1 Axes>"
      ]
     },
     "metadata": {},
     "output_type": "display_data"
    },
    {
     "name": "stdout",
     "output_type": "stream",
     "text": [
      "\n",
      "\n",
      "half:1\tmin: 41.0\n",
      "[[ 14.8503033   35.97082129]\n",
      " [  0.           0.        ]\n",
      " [ 33.7781399   37.62693563]\n",
      " [ 39.15342733  23.60170463]\n",
      " [ 49.90295795  50.76499726]\n",
      " [ 45.92650996  25.92180454]\n",
      " [  0.           0.        ]\n",
      " [ 45.81394384  38.34664729]\n",
      " [  0.           0.        ]\n",
      " [ 40.85830608  32.43016519]\n",
      " [  0.           0.        ]\n",
      " [  0.           0.        ]\n",
      " [  0.           0.        ]\n",
      " [  0.           0.        ]\n",
      " [  0.           0.        ]\n",
      " [ 63.13070049  34.41504598]\n",
      " [  0.           0.        ]\n",
      " [ 35.51528243  51.02581412]\n",
      " [  0.           0.        ]\n",
      " [ 36.42642167  20.52983777]\n",
      " [ 56.17788112  37.01860952]]\n"
     ]
    },
    {
     "data": {
      "image/png": "[encoded data removed]",
      "text/plain": [
       "<Figure size 432x288 with 1 Axes>"
      ]
     },
     "metadata": {},
     "output_type": "display_data"
    },
    {
     "name": "stdout",
     "output_type": "stream",
     "text": [
      "\n",
      "\n",
      "half:1\tmin: 42.0\n",
      "[[ 15.28003288  36.09774418]\n",
      " [  0.           0.        ]\n",
      " [ 34.06990894  37.72413789]\n",
      " [ 39.30734471  23.61668726]\n",
      " [ 50.31860981  50.47075871]\n",
      " [ 46.37756183  26.0353726 ]\n",
      " [  0.           0.        ]\n",
      " [ 46.15644423  38.54224553]\n",
      " [  0.           0.        ]\n",
      " [ 41.12825171  32.5018748 ]\n",
      " [  0.           0.        ]\n",
      " [  0.           0.        ]\n",
      " [  0.           0.        ]\n",
      " [  0.           0.        ]\n",
      " [  0.           0.        ]\n",
      " [ 63.43093073  34.43465756]\n",
      " [  0.           0.        ]\n",
      " [ 36.07986407  51.11224195]\n",
      " [  0.           0.        ]\n",
      " [ 36.80082992  20.4906878 ]\n",
      " [ 56.41151252  36.99100455]]\n"
     ]
    },
    {
     "data": {
      "image/png": "[encoded data removed]",
      "text/plain": [
       "<Figure size 432x288 with 1 Axes>"
      ]
     },
     "metadata": {},
     "output_type": "display_data"
    },
    {
     "name": "stdout",
     "output_type": "stream",
     "text": [
      "\n",
      "\n",
      "half:1\tmin: 43.0\n",
      "[[ 14.25143837  35.98283011]\n",
      " [  0.           0.        ]\n",
      " [ 33.51882724  37.40312115]\n",
      " [ 38.72356998  23.62544478]\n",
      " [ 49.618896    49.38734333]\n",
      " [ 45.60069541  27.17334799]\n",
      " [  0.           0.        ]\n",
      " [ 45.53008686  38.52812244]\n",
      " [  0.           0.        ]\n",
      " [ 40.86959712  32.22395513]\n",
      " [  0.           0.        ]\n",
      " [  0.           0.        ]\n",
      " [  0.           0.        ]\n",
      " [  0.           0.        ]\n",
      " [  0.           0.        ]\n",
      " [ 62.92514327  34.02843237]\n",
      " [  0.           0.        ]\n",
      " [ 35.3026266   50.80539519]\n",
      " [  0.           0.        ]\n",
      " [ 35.70900641  20.56694423]\n",
      " [ 56.20664679  37.03800673]]\n"
     ]
    },
    {
     "data": {
      "image/png": "[encoded data removed]",
      "text/plain": [
       "<Figure size 432x288 with 1 Axes>"
      ]
     },
     "metadata": {},
     "output_type": "display_data"
    },
    {
     "name": "stdout",
     "output_type": "stream",
     "text": [
      "\n",
      "\n",
      "half:1\tmin: 44.0\n",
      "[[ 13.4336462   35.99297946]\n",
      " [  0.           0.        ]\n",
      " [ 31.85741905  37.44708042]\n",
      " [ 36.96981979  23.57965391]\n",
      " [ 46.46190497  48.5590302 ]\n",
      " [ 41.57296647  28.28507159]\n",
      " [  0.           0.        ]\n",
      " [ 42.51552487  38.83062928]\n",
      " [  0.           0.        ]\n",
      " [ 38.90774321  32.1679418 ]\n",
      " [  0.           0.        ]\n",
      " [  0.           0.        ]\n",
      " [  0.           0.        ]\n",
      " [  0.           0.        ]\n",
      " [  0.           0.        ]\n",
      " [ 59.75869665  34.64428571]\n",
      " [  0.           0.        ]\n",
      " [ 32.38789982  50.14296155]\n",
      " [  0.           0.        ]\n",
      " [ 33.29728663  21.59102175]\n",
      " [ 53.92990476  37.20857178]]\n"
     ]
    },
    {
     "data": {
      "image/png": "[encoded data removed]",
      "text/plain": [
       "<Figure size 432x288 with 1 Axes>"
      ]
     },
     "metadata": {},
     "output_type": "display_data"
    },
    {
     "name": "stdout",
     "output_type": "stream",
     "text": [
      "\n",
      "\n",
      "half:1\tmin: 45.0\n",
      "[[ 12.74841288  35.67134293]\n",
      " [  0.           0.        ]\n",
      " [ 29.31585079  36.21765986]\n",
      " [ 35.85435002  22.63676365]\n",
      " [ 41.96359185  45.83464556]\n",
      " [ 36.42582109  28.83717945]\n",
      " [  0.           0.        ]\n",
      " [ 38.12775329  38.24557007]\n",
      " [  0.           0.        ]\n",
      " [ 34.78678141  30.9760712 ]\n",
      " [  0.           0.        ]\n",
      " [  0.           0.        ]\n",
      " [  0.           0.        ]\n",
      " [  0.           0.        ]\n",
      " [  0.           0.        ]\n",
      " [ 53.98779728  33.41422721]\n",
      " [  0.           0.        ]\n",
      " [ 28.83923492  47.98097188]\n",
      " [  0.           0.        ]\n",
      " [ 30.36669563  23.43454023]\n",
      " [ 48.85934907  40.55300556]]\n"
     ]
    },
    {
     "data": {
      "image/png": "[encoded data removed]",
      "text/plain": [
       "<Figure size 432x288 with 1 Axes>"
      ]
     },
     "metadata": {},
     "output_type": "display_data"
    },
    {
     "name": "stdout",
     "output_type": "stream",
     "text": [
      "\n",
      "\n",
      "half:1\tmin: 46.0\n",
      "[[ 12.87848234  35.57465158]\n",
      " [  0.           0.        ]\n",
      " [ 29.73129464  36.58447395]\n",
      " [ 35.2098211   23.13771805]\n",
      " [ 43.14079719  47.17731847]\n",
      " [ 38.61237828  29.93380712]\n",
      " [  0.           0.        ]\n",
      " [ 39.41725364  39.30146628]\n",
      " [  0.           0.        ]\n",
      " [ 36.07122912  30.47670192]\n",
      " [  0.           0.        ]\n",
      " [  0.           0.        ]\n",
      " [  0.           0.        ]\n",
      " [  0.           0.        ]\n",
      " [  0.           0.        ]\n",
      " [ 53.53286858  31.23126322]\n",
      " [  0.           0.        ]\n",
      " [ 30.00597433  48.71837663]\n",
      " [  0.           0.        ]\n",
      " [ 31.05838411  21.68068915]\n",
      " [ 49.73136686  40.71886511]]\n"
     ]
    },
    {
     "data": {
      "image/png": "[encoded data removed]",
      "text/plain": [
       "<Figure size 432x288 with 1 Axes>"
      ]
     },
     "metadata": {},
     "output_type": "display_data"
    },
    {
     "name": "stdout",
     "output_type": "stream",
     "text": [
      "\n",
      "\n",
      "half:1\tmin: 47.0\n",
      "[[ 13.32335259  35.30244483]\n",
      " [  0.           0.        ]\n",
      " [ 31.61778785  36.30662674]\n",
      " [ 36.5675088   22.90150107]\n",
      " [ 46.11008696  47.56027029]\n",
      " [ 42.01920019  29.34067458]\n",
      " [  0.           0.        ]\n",
      " [ 42.69481215  37.73805382]\n",
      " [  0.           0.        ]\n",
      " [ 38.58141528  29.81125799]\n",
      " [  0.           0.        ]\n",
      " [  0.           0.        ]\n",
      " [  0.           0.        ]\n",
      " [  0.           0.        ]\n",
      " [  0.           0.        ]\n",
      " [ 57.18279965  30.57929757]\n",
      " [  0.           0.        ]\n",
      " [ 32.48523681  48.77901979]\n",
      " [  0.           0.        ]\n",
      " [ 33.96482912  20.69605789]\n",
      " [ 52.97642046  40.61622399]]\n"
     ]
    },
    {
     "data": {
      "image/png": "[encoded data removed]",
      "text/plain": [
       "<Figure size 432x288 with 1 Axes>"
      ]
     },
     "metadata": {},
     "output_type": "display_data"
    },
    {
     "name": "stdout",
     "output_type": "stream",
     "text": [
      "\n",
      "\n",
      "half:1\tmin: 48.0\n",
      "[[ 13.46003047  35.2583411 ]\n",
      " [  0.           0.        ]\n",
      " [ 31.98705488  36.25016599]\n",
      " [ 36.73939409  22.85705568]\n",
      " [ 46.43876491  47.52431825]\n",
      " [ 42.67410596  28.78110188]\n",
      " [  0.           0.        ]\n",
      " [ 43.13241515  37.47714983]\n",
      " [  0.           0.        ]\n",
      " [ 39.0593569   29.61470404]\n",
      " [  0.           0.        ]\n",
      " [  0.           0.        ]\n",
      " [  0.           0.        ]\n",
      " [  0.           0.        ]\n",
      " [  0.           0.        ]\n",
      " [ 57.94946566  30.06166431]\n",
      " [  0.           0.        ]\n",
      " [ 32.83050606  48.74089663]\n",
      " [  0.           0.        ]\n",
      " [ 34.27492415  20.3782102 ]\n",
      " [ 53.52963077  40.56182017]]\n"
     ]
    },
    {
     "data": {
      "image/png": "[encoded data removed]",
      "text/plain": [
       "<Figure size 432x288 with 1 Axes>"
      ]
     },
     "metadata": {},
     "output_type": "display_data"
    },
    {
     "name": "stdout",
     "output_type": "stream",
     "text": [
      "\n",
      "\n",
      "half:1\tmin: 49.0\n",
      "[[ 13.52273174  35.08729622]\n",
      " [  0.           0.        ]\n",
      " [ 31.37698421  36.29042386]\n",
      " [ 36.35431068  22.7690527 ]\n",
      " [ 46.43876491  47.52431825]\n",
      " [ 42.08620292  29.31186532]\n",
      " [  0.           0.        ]\n",
      " [ 42.47411509  36.91976281]\n",
      " [  0.           0.        ]\n",
      " [ 38.38783263  29.19248246]\n",
      " [  0.           0.        ]\n",
      " [  0.           0.        ]\n",
      " [  0.           0.        ]\n",
      " [  0.           0.        ]\n",
      " [  0.           0.        ]\n",
      " [ 57.73122561  29.82670491]\n",
      " [  0.           0.        ]\n",
      " [ 32.25973474  48.49333825]\n",
      " [  0.           0.        ]\n",
      " [ 33.77587872  20.51799504]\n",
      " [ 53.14686845  40.84043672]]\n"
     ]
    },
    {
     "data": {
      "image/png": "[encoded data removed]",
      "text/plain": [
       "<Figure size 432x288 with 1 Axes>"
      ]
     },
     "metadata": {},
     "output_type": "display_data"
    },
    {
     "name": "stdout",
     "output_type": "stream",
     "text": [
      "\n",
      "\n",
      "2nd half start: 359 sec\n",
      "half:2\tmin: 51.0\n",
      "[[  8.0518453   33.8388115 ]\n",
      " [  0.           0.        ]\n",
      " [ 28.4675578   42.42299366]\n",
      " [ 25.26393478  24.15670355]\n",
      " [ 33.76057257  48.45467926]\n",
      " [ 33.83863119  13.91297605]\n",
      " [  0.           0.        ]\n",
      " [ 44.7151618   36.22834387]\n",
      " [  0.           0.        ]\n",
      " [ 35.41857308  34.03776242]\n",
      " [  0.           0.        ]\n",
      " [  0.           0.        ]\n",
      " [  0.           0.        ]\n",
      " [  0.           0.        ]\n",
      " [  0.           0.        ]\n",
      " [ 49.28587123  32.28653234]\n",
      " [  0.           0.        ]\n",
      " [ 26.02287062  47.81759053]\n",
      " [  0.           0.        ]\n",
      " [ 25.77427229  21.2951223 ]\n",
      " [ 37.71675027  33.82988956]]\n"
     ]
    },
    {
     "data": {
      "image/png": "[encoded data removed]",
      "text/plain": [
       "<Figure size 432x288 with 1 Axes>"
      ]
     },
     "metadata": {},
     "output_type": "display_data"
    },
    {
     "name": "stdout",
     "output_type": "stream",
     "text": [
      "\n",
      "\n",
      "half:2\tmin: 52.0\n",
      "[[  7.70354766  34.04723527]\n",
      " [  0.           0.        ]\n",
      " [ 27.78153295  40.68452445]\n",
      " [ 28.18913391  23.67934583]\n",
      " [ 36.47240218  49.13557392]\n",
      " [ 35.68332106  12.5879642 ]\n",
      " [  0.           0.        ]\n",
      " [ 42.04226913  32.87704382]\n",
      " [  0.           0.        ]\n",
      " [ 35.61494683  34.47724162]\n",
      " [  0.           0.        ]\n",
      " [  0.           0.        ]\n",
      " [  0.           0.        ]\n",
      " [  0.           0.        ]\n",
      " [  0.           0.        ]\n",
      " [ 50.02472818  32.12864183]\n",
      " [  0.           0.        ]\n",
      " [ 27.05991226  47.43012578]\n",
      " [  0.           0.        ]\n",
      " [ 26.67660461  20.2693311 ]\n",
      " [ 37.40220309  30.93388629]]\n"
     ]
    },
    {
     "data": {
      "image/png": "[encoded data removed]",
      "text/plain": [
       "<Figure size 432x288 with 1 Axes>"
      ]
     },
     "metadata": {},
     "output_type": "display_data"
    },
    {
     "name": "stdout",
     "output_type": "stream",
     "text": [
      "\n",
      "\n",
      "half:2\tmin: 53.0\n",
      "[[  9.29253705  33.53412448]\n",
      " [  0.           0.        ]\n",
      " [ 29.14766531  39.77337401]\n",
      " [ 30.12700095  23.43112692]\n",
      " [ 39.5236325   49.271143  ]\n",
      " [ 38.09540593  12.00448453]\n",
      " [  0.           0.        ]\n",
      " [ 42.70921654  32.11535374]\n",
      " [  0.           0.        ]\n",
      " [ 37.56166571  35.15468898]\n",
      " [  0.           0.        ]\n",
      " [  0.           0.        ]\n",
      " [  0.           0.        ]\n",
      " [  0.           0.        ]\n",
      " [  0.           0.        ]\n",
      " [ 51.68665666  31.92312548]\n",
      " [  0.           0.        ]\n",
      " [ 29.23232236  47.33336025]\n",
      " [  0.           0.        ]\n",
      " [ 28.59075629  19.13630783]\n",
      " [ 40.21425752  29.53341027]]\n"
     ]
    },
    {
     "data": {
      "image/png": "[encoded data removed]",
      "text/plain": [
       "<Figure size 432x288 with 1 Axes>"
      ]
     },
     "metadata": {},
     "output_type": "display_data"
    },
    {
     "name": "stdout",
     "output_type": "stream",
     "text": [
      "\n",
      "\n",
      "half:2\tmin: 54.0\n",
      "[[  9.52300836  33.50345085]\n",
      " [  0.           0.        ]\n",
      " [ 29.36043872  39.52584456]\n",
      " [ 30.32008442  23.54441867]\n",
      " [ 39.88687726  49.39113145]\n",
      " [ 38.6137543   12.30768861]\n",
      " [  0.           0.        ]\n",
      " [ 42.99023478  32.44617215]\n",
      " [  0.           0.        ]\n",
      " [ 37.89802027  34.81068963]\n",
      " [  0.           0.        ]\n",
      " [  0.           0.        ]\n",
      " [  0.           0.        ]\n",
      " [  0.           0.        ]\n",
      " [  0.           0.        ]\n",
      " [ 52.34049773  32.54079023]\n",
      " [  0.           0.        ]\n",
      " [ 29.53104026  47.64450926]\n",
      " [  0.           0.        ]\n",
      " [ 29.29029485  19.08814068]\n",
      " [ 41.18448566  29.3848191 ]]\n"
     ]
    },
    {
     "data": {
      "image/png": "[encoded data removed]",
      "text/plain": [
       "<Figure size 432x288 with 1 Axes>"
      ]
     },
     "metadata": {},
     "output_type": "display_data"
    },
    {
     "name": "stdout",
     "output_type": "stream",
     "text": [
      "\n",
      "\n",
      "half:2\tmin: 55.0\n",
      "[[  9.25537556  33.18118834]\n",
      " [  0.           0.        ]\n",
      " [ 29.31157149  38.81216781]\n",
      " [ 30.14686135  23.17399143]\n",
      " [ 40.34584627  49.47607439]\n",
      " [ 38.88714474  11.95520792]\n",
      " [  0.           0.        ]\n",
      " [ 42.63454342  31.67531292]\n",
      " [  0.           0.        ]\n",
      " [ 37.80093104  33.15039547]\n",
      " [  0.           0.        ]\n",
      " [  0.           0.        ]\n",
      " [  0.           0.        ]\n",
      " [  0.           0.        ]\n",
      " [  0.           0.        ]\n",
      " [ 52.16728224  31.22098541]\n",
      " [  0.           0.        ]\n",
      " [ 29.56168367  47.28386033]\n",
      " [  0.           0.        ]\n",
      " [ 29.72254553  18.27660217]\n",
      " [ 41.8441132   29.30595635]]\n"
     ]
    },
    {
     "data": {
      "image/png": "[encoded data removed]",
      "text/plain": [
       "<Figure size 432x288 with 1 Axes>"
      ]
     },
     "metadata": {},
     "output_type": "display_data"
    },
    {
     "name": "stdout",
     "output_type": "stream",
     "text": [
      "\n",
      "\n",
      "half:2\tmin: 56.0\n",
      "[[  9.50685932  33.02939629]\n",
      " [  0.           0.        ]\n",
      " [ 29.48300427  38.64185316]\n",
      " [ 30.30919997  23.15688708]\n",
      " [ 40.80315436  49.59236525]\n",
      " [ 39.22490093  12.05066472]\n",
      " [  0.           0.        ]\n",
      " [ 42.84162816  31.58615622]\n",
      " [  0.           0.        ]\n",
      " [ 38.22068388  33.22791757]\n",
      " [  0.           0.        ]\n",
      " [  0.           0.        ]\n",
      " [  0.           0.        ]\n",
      " [  0.           0.        ]\n",
      " [  0.           0.        ]\n",
      " [ 52.47389699  31.4064398 ]\n",
      " [  0.           0.        ]\n",
      " [ 29.80725207  47.28542158]\n",
      " [  0.           0.        ]\n",
      " [ 29.94229553  18.07366244]\n",
      " [ 42.53188818  29.22692796]]\n"
     ]
    },
    {
     "data": {
      "image/png": "[encoded data removed]",
      "text/plain": [
       "<Figure size 432x288 with 1 Axes>"
      ]
     },
     "metadata": {},
     "output_type": "display_data"
    },
    {
     "name": "stdout",
     "output_type": "stream",
     "text": [
      "\n",
      "\n",
      "half:2\tmin: 57.0\n",
      "[[  9.41908866  32.83569741]\n",
      " [  0.           0.        ]\n",
      " [ 29.21115768  38.23167831]\n",
      " [ 29.8902033   23.15616586]\n",
      " [ 40.4710671   49.74059934]\n",
      " [ 38.93415012  11.93821927]\n",
      " [  0.           0.        ]\n",
      " [ 42.44850813  31.14315452]\n",
      " [  0.           0.        ]\n",
      " [ 38.15904452  33.46749452]\n",
      " [  0.           0.        ]\n",
      " [  0.           0.        ]\n",
      " [  0.           0.        ]\n",
      " [  0.           0.        ]\n",
      " [  0.           0.        ]\n",
      " [ 52.56470593  32.49386634]\n",
      " [  0.           0.        ]\n",
      " [ 29.62836395  47.08772495]\n",
      " [  0.           0.        ]\n",
      " [ 29.59307862  17.91349042]\n",
      " [ 42.54354517  28.6747592 ]]\n"
     ]
    },
    {
     "data": {
      "image/png": "[encoded data removed]",
      "text/plain": [
       "<Figure size 432x288 with 1 Axes>"
      ]
     },
     "metadata": {},
     "output_type": "display_data"
    },
    {
     "name": "stdout",
     "output_type": "stream",
     "text": [
      "\n",
      "\n",
      "half:2\tmin: 58.0\n",
      "[[  9.33740598  32.83431775]\n",
      " [  0.           0.        ]\n",
      " [ 28.82310773  38.35162198]\n",
      " [ 29.40773204  23.41054064]\n",
      " [ 40.3045201   49.54935191]\n",
      " [ 38.26347959  12.22849328]\n",
      " [  0.           0.        ]\n",
      " [ 42.04235746  31.10387917]\n",
      " [  0.           0.        ]\n",
      " [ 37.51216264  33.4213058 ]\n",
      " [  0.           0.        ]\n",
      " [  0.           0.        ]\n",
      " [  0.           0.        ]\n",
      " [  0.           0.        ]\n",
      " [  0.           0.        ]\n",
      " [ 51.58424176  32.36086825]\n",
      " [  0.           0.        ]\n",
      " [ 29.19775009  47.06856031]\n",
      " [  0.           0.        ]\n",
      " [ 29.31533833  18.11343306]\n",
      " [ 41.77117777  28.8786824 ]]\n"
     ]
    },
    {
     "data": {
      "image/png": "[encoded data removed]",
      "text/plain": [
       "<Figure size 432x288 with 1 Axes>"
      ]
     },
     "metadata": {},
     "output_type": "display_data"
    },
    {
     "name": "stdout",
     "output_type": "stream",
     "text": [
      "\n",
      "\n",
      "half:2\tmin: 59.0\n",
      "[[  9.10275516  32.88529908]\n",
      " [  0.           0.        ]\n",
      " [ 28.82310773  38.35162198]\n",
      " [ 28.43285554  24.43907351]\n",
      " [ 39.4104529   49.63366648]\n",
      " [ 36.74441303  13.46063696]\n",
      " [  0.           0.        ]\n",
      " [ 40.21598224  32.08369084]\n",
      " [  0.           0.        ]\n",
      " [ 36.25937345  33.33486828]\n",
      " [  0.           0.        ]\n",
      " [  0.           0.        ]\n",
      " [  0.           0.        ]\n",
      " [  0.           0.        ]\n",
      " [  0.           0.        ]\n",
      " [ 49.22995361  33.09136846]\n",
      " [  0.           0.        ]\n",
      " [ 28.11434466  47.00878429]\n",
      " [  0.           0.        ]\n",
      " [ 28.77571758  18.98488699]\n",
      " [ 39.86610156  29.41700346]]\n"
     ]
    },
    {
     "data": {
      "image/png": "[encoded data removed]",
      "text/plain": [
       "<Figure size 432x288 with 1 Axes>"
      ]
     },
     "metadata": {},
     "output_type": "display_data"
    },
    {
     "name": "stdout",
     "output_type": "stream",
     "text": [
      "\n",
      "\n",
      "half:2\tmin: 60.0\n",
      "[[ 10.70315082  32.89500029]\n",
      " [  0.           0.        ]\n",
      " [ 30.29907816  37.43998906]\n",
      " [ 30.23800301  23.6647411 ]\n",
      " [ 41.86488028  49.31502281]\n",
      " [ 39.24868645  13.01242943]\n",
      " [  0.           0.        ]\n",
      " [ 42.34240282  30.41572711]\n",
      " [  0.           0.        ]\n",
      " [ 38.25330899  32.28819497]\n",
      " [  0.           0.        ]\n",
      " [  0.           0.        ]\n",
      " [  0.           0.        ]\n",
      " [  0.           0.        ]\n",
      " [  0.           0.        ]\n",
      " [ 51.2040042   31.55720595]\n",
      " [  0.           0.        ]\n",
      " [ 29.91917987  46.70467592]\n",
      " [  0.           0.        ]\n",
      " [ 31.58220783  17.79033547]\n",
      " [ 42.63117883  29.53085871]]\n"
     ]
    },
    {
     "data": {
      "image/png": "[encoded data removed]",
      "text/plain": [
       "<Figure size 432x288 with 1 Axes>"
      ]
     },
     "metadata": {},
     "output_type": "display_data"
    },
    {
     "name": "stdout",
     "output_type": "stream",
     "text": [
      "\n",
      "\n",
      "half:2\tmin: 61.0\n",
      "[[ 11.1720815   32.87120184]\n",
      " [  0.           0.        ]\n",
      " [ 30.8209355   37.36615255]\n",
      " [ 30.41941312  23.69645524]\n",
      " [ 42.13371983  48.97315257]\n",
      " [ 39.72609391  13.15323455]\n",
      " [  0.           0.        ]\n",
      " [ 42.47983148  30.43339326]\n",
      " [  0.           0.        ]\n",
      " [ 38.65914942  32.27844114]\n",
      " [  0.           0.        ]\n",
      " [  0.           0.        ]\n",
      " [  0.           0.        ]\n",
      " [  0.           0.        ]\n",
      " [  0.           0.        ]\n",
      " [ 51.51880105  31.56907768]\n",
      " [  0.           0.        ]\n",
      " [ 30.12954741  46.68421762]\n",
      " [  0.           0.        ]\n",
      " [ 31.98201686  17.86909874]\n",
      " [ 43.0381138   29.64050856]]\n"
     ]
    },
    {
     "data": {
      "image/png": "[encoded data removed]",
      "text/plain": [
       "<Figure size 432x288 with 1 Axes>"
      ]
     },
     "metadata": {},
     "output_type": "display_data"
    },
    {
     "name": "stdout",
     "output_type": "stream",
     "text": [
      "\n",
      "\n",
      "half:2\tmin: 62.0\n",
      "[[ 11.49951261  32.6198183 ]\n",
      " [  0.           0.        ]\n",
      " [ 32.8700379   36.65520439]\n",
      " [ 31.12512972  23.21091255]\n",
      " [ 43.20172805  44.5743513 ]\n",
      " [ 39.99875011  14.76357583]\n",
      " [  0.           0.        ]\n",
      " [ 43.18049429  29.25385092]\n",
      " [  0.           0.        ]\n",
      " [ 40.30620432  32.1806529 ]\n",
      " [  0.           0.        ]\n",
      " [  0.           0.        ]\n",
      " [  0.           0.        ]\n",
      " [  0.           0.        ]\n",
      " [  0.           0.        ]\n",
      " [ 51.08325391  31.25141364]\n",
      " [  0.           0.        ]\n",
      " [ 31.04873611  46.64304267]\n",
      " [  0.           0.        ]\n",
      " [ 34.69090547  17.39905914]\n",
      " [ 44.59918545  29.40843577]]\n"
     ]
    },
    {
     "data": {
      "image/png": "[encoded data removed]",
      "text/plain": [
       "<Figure size 432x288 with 1 Axes>"
      ]
     },
     "metadata": {},
     "output_type": "display_data"
    },
    {
     "name": "stdout",
     "output_type": "stream",
     "text": [
      "\n",
      "\n",
      "half:2\tmin: 63.0\n",
      "[[ 11.98727207  33.05143383]\n",
      " [  0.           0.        ]\n",
      " [ 33.24765448  36.7408262 ]\n",
      " [ 31.5219038   23.26047528]\n",
      " [ 44.15841289  43.46486871]\n",
      " [ 41.18964992  15.24723451]\n",
      " [  0.           0.        ]\n",
      " [ 44.09737026  28.75350618]\n",
      " [  0.           0.        ]\n",
      " [ 40.92429299  32.21085943]\n",
      " [  0.           0.        ]\n",
      " [  0.           0.        ]\n",
      " [  0.           0.        ]\n",
      " [  0.           0.        ]\n",
      " [  0.           0.        ]\n",
      " [ 51.93291806  31.36457691]\n",
      " [  0.           0.        ]\n",
      " [ 31.9155039   46.82386366]\n",
      " [  0.           0.        ]\n",
      " [ 35.15618344  17.17133894]\n",
      " [ 45.41952103  29.76776163]]\n"
     ]
    },
    {
     "data": {
      "image/png": "[encoded data removed]",
      "text/plain": [
       "<Figure size 432x288 with 1 Axes>"
      ]
     },
     "metadata": {},
     "output_type": "display_data"
    },
    {
     "name": "stdout",
     "output_type": "stream",
     "text": [
      "\n",
      "\n",
      "half:2\tmin: 64.0\n",
      "[[ 12.13677656  33.07149127]\n",
      " [  0.           0.        ]\n",
      " [ 33.24765448  36.7408262 ]\n",
      " [ 31.5219038   23.26047528]\n",
      " [ 44.15841289  43.46486871]\n",
      " [ 41.18964992  15.24723451]\n",
      " [  0.           0.        ]\n",
      " [ 44.09737026  28.75350618]\n",
      " [  0.           0.        ]\n",
      " [ 40.92429299  32.21085943]\n",
      " [  0.           0.        ]\n",
      " [  0.           0.        ]\n",
      " [  0.           0.        ]\n",
      " [  0.           0.        ]\n",
      " [  0.           0.        ]\n",
      " [ 51.93291806  31.36457691]\n",
      " [  0.           0.        ]\n",
      " [ 31.9155039   46.82386366]\n",
      " [  0.           0.        ]\n",
      " [ 35.15618344  17.17133894]\n",
      " [ 45.41952103  29.76776163]]\n"
     ]
    },
    {
     "data": {
      "image/png": "[encoded data removed]",
      "text/plain": [
       "<Figure size 432x288 with 1 Axes>"
      ]
     },
     "metadata": {},
     "output_type": "display_data"
    },
    {
     "name": "stdout",
     "output_type": "stream",
     "text": [
      "\n",
      "\n",
      "half:2\tmin: 65.0\n",
      "[[ 11.94717719  33.06258809]\n",
      " [  0.           0.        ]\n",
      " [ 33.53415736  36.66730079]\n",
      " [ 31.78952576  23.3089088 ]\n",
      " [ 44.81252283  43.80033193]\n",
      " [ 41.82328916  15.1693843 ]\n",
      " [  0.           0.        ]\n",
      " [ 44.3851625   28.61694301]\n",
      " [  0.           0.        ]\n",
      " [ 41.37999931  32.28968685]\n",
      " [  0.           0.        ]\n",
      " [  0.           0.        ]\n",
      " [  0.           0.        ]\n",
      " [  0.           0.        ]\n",
      " [  0.           0.        ]\n",
      " [ 52.3865677   31.02279326]\n",
      " [  0.           0.        ]\n",
      " [ 32.31562323  46.92942791]\n",
      " [  0.           0.        ]\n",
      " [ 35.43660495  16.91210863]\n",
      " [ 46.22358484  29.7568814 ]]\n"
     ]
    },
    {
     "data": {
      "image/png": "[encoded data removed]",
      "text/plain": [
       "<Figure size 432x288 with 1 Axes>"
      ]
     },
     "metadata": {},
     "output_type": "display_data"
    },
    {
     "name": "stdout",
     "output_type": "stream",
     "text": [
      "\n",
      "\n",
      "half:2\tmin: 66.0\n",
      "[[ 12.3754329   32.74208743]\n",
      " [  0.           0.        ]\n",
      " [ 34.1709132   32.88661068]\n",
      " [ 33.29968057  22.57193598]\n",
      " [ 48.29274209  41.85258195]\n",
      " [ 43.28624475  14.68432223]\n",
      " [  0.           0.        ]\n",
      " [ 42.24648457  23.69331767]\n",
      " [  0.           0.        ]\n",
      " [ 42.16713856  30.67037164]\n",
      " [  0.           0.        ]\n",
      " [  0.           0.        ]\n",
      " [  0.           0.        ]\n",
      " [  0.           0.        ]\n",
      " [  0.           0.        ]\n",
      " [ 52.44630237  27.652314  ]\n",
      " [  0.           0.        ]\n",
      " [ 33.63971187  46.02928025]\n",
      " [  0.           0.        ]\n",
      " [ 37.72854918  14.39500539]\n",
      " [ 49.41259279  26.62740659]]\n"
     ]
    },
    {
     "data": {
      "image/png": "[encoded data removed]",
      "text/plain": [
       "<Figure size 432x288 with 1 Axes>"
      ]
     },
     "metadata": {},
     "output_type": "display_data"
    },
    {
     "name": "stdout",
     "output_type": "stream",
     "text": [
      "\n",
      "\n",
      "half:2\tmin: 67.0\n",
      "[[ 13.32798446  32.41733206]\n",
      " [  0.           0.        ]\n",
      " [ 35.89603018  32.29005133]\n",
      " [ 32.69129826  22.61863417]\n",
      " [ 49.09076828  40.0816298 ]\n",
      " [ 43.75505092  15.80093592]\n",
      " [  0.           0.        ]\n",
      " [ 43.7396929   23.7501764 ]\n",
      " [  0.           0.        ]\n",
      " [ 43.32035674  29.69922389]\n",
      " [  0.           0.        ]\n",
      " [  0.           0.        ]\n",
      " [  0.           0.        ]\n",
      " [  0.           0.        ]\n",
      " [  0.           0.        ]\n",
      " [ 52.48347331  26.92655763]\n",
      " [  0.           0.        ]\n",
      " [ 34.34095288  45.97065067]\n",
      " [  0.           0.        ]\n",
      " [ 38.75584431  14.14607784]\n",
      " [ 51.92398377  27.42902953]]\n"
     ]
    },
    {
     "data": {
      "image/png": "[encoded data removed]",
      "text/plain": [
       "<Figure size 432x288 with 1 Axes>"
      ]
     },
     "metadata": {},
     "output_type": "display_data"
    },
    {
     "name": "stdout",
     "output_type": "stream",
     "text": [
      "\n",
      "\n",
      "half:2\tmin: 68.0\n",
      "[[ 13.91749586  32.76797991]\n",
      " [  0.           0.        ]\n",
      " [ 39.32660166  31.82160901]\n",
      " [ 33.25099234  22.6247506 ]\n",
      " [ 50.99734927  35.27353708]\n",
      " [ 45.75545987  17.591874  ]\n",
      " [  0.           0.        ]\n",
      " [ 45.55539456  23.79075864]\n",
      " [  0.           0.        ]\n",
      " [ 46.43338108  28.37070964]\n",
      " [  0.           0.        ]\n",
      " [  0.           0.        ]\n",
      " [  0.           0.        ]\n",
      " [  0.           0.        ]\n",
      " [  0.           0.        ]\n",
      " [ 53.77948079  27.93290705]\n",
      " [  0.           0.        ]\n",
      " [ 35.12440861  45.21138017]\n",
      " [  0.           0.        ]\n",
      " [ 41.07648012  13.8410419 ]\n",
      " [ 51.6942232   27.36409221]]\n"
     ]
    },
    {
     "data": {
      "image/png": "[encoded data removed]",
      "text/plain": [
       "<Figure size 432x288 with 1 Axes>"
      ]
     },
     "metadata": {},
     "output_type": "display_data"
    },
    {
     "name": "stdout",
     "output_type": "stream",
     "text": [
      "\n",
      "\n",
      "half:2\tmin: 69.0\n",
      "[[ 13.49289156  32.95732672]\n",
      " [  0.           0.        ]\n",
      " [ 38.06789349  31.56692885]\n",
      " [ 32.00499602  22.62885963]\n",
      " [ 49.55944225  31.03247463]\n",
      " [ 43.66111772  18.08114983]\n",
      " [  0.           0.        ]\n",
      " [ 43.83683768  23.37542918]\n",
      " [  0.           0.        ]\n",
      " [ 45.83979257  26.82868653]\n",
      " [  0.           0.        ]\n",
      " [  0.           0.        ]\n",
      " [  0.           0.        ]\n",
      " [  0.           0.        ]\n",
      " [  0.           0.        ]\n",
      " [ 51.1647083   28.17510761]\n",
      " [  0.           0.        ]\n",
      " [ 34.12334994  43.77004232]\n",
      " [  0.           0.        ]\n",
      " [ 40.30667332  13.37609022]\n",
      " [ 49.1901833   26.99714913]]\n"
     ]
    },
    {
     "data": {
      "image/png": "[encoded data removed]",
      "text/plain": [
       "<Figure size 432x288 with 1 Axes>"
      ]
     },
     "metadata": {},
     "output_type": "display_data"
    },
    {
     "name": "stdout",
     "output_type": "stream",
     "text": [
      "\n",
      "\n",
      "half:2\tmin: 70.0\n",
      "[[ 13.15589094  33.06769385]\n",
      " [  0.           0.        ]\n",
      " [ 34.29824731  32.42825793]\n",
      " [ 29.32514003  24.59557016]\n",
      " [ 44.13377599  26.11557244]\n",
      " [ 38.87436093  21.10198962]\n",
      " [  0.           0.        ]\n",
      " [ 39.5635353   23.89471781]\n",
      " [  0.           0.        ]\n",
      " [ 41.18114136  27.99721075]\n",
      " [  0.           0.        ]\n",
      " [  0.           0.        ]\n",
      " [  0.           0.        ]\n",
      " [  0.           0.        ]\n",
      " [  0.           0.        ]\n",
      " [ 45.84304611  29.108815  ]\n",
      " [  0.           0.        ]\n",
      " [ 30.77004634  41.71913921]\n",
      " [  0.           0.        ]\n",
      " [ 36.28187238  15.00407765]\n",
      " [ 43.50091568  27.9250458 ]]\n"
     ]
    },
    {
     "data": {
      "image/png": "[encoded data removed]",
      "text/plain": [
       "<Figure size 432x288 with 1 Axes>"
      ]
     },
     "metadata": {},
     "output_type": "display_data"
    },
    {
     "name": "stdout",
     "output_type": "stream",
     "text": [
      "\n",
      "\n",
      "half:2\tmin: 71.0\n",
      "[[ 13.1237978   33.22192781]\n",
      " [  0.           0.        ]\n",
      " [ 34.30002357  32.4456198 ]\n",
      " [ 29.23751343  24.67460096]\n",
      " [ 43.9997371   25.36569827]\n",
      " [ 38.7291668   21.33724153]\n",
      " [  0.           0.        ]\n",
      " [ 39.38090856  23.72702112]\n",
      " [  0.           0.        ]\n",
      " [ 40.96328375  27.85643109]\n",
      " [  0.           0.        ]\n",
      " [  0.           0.        ]\n",
      " [  0.           0.        ]\n",
      " [  0.           0.        ]\n",
      " [  0.           0.        ]\n",
      " [ 45.50486576  28.84997624]\n",
      " [  0.           0.        ]\n",
      " [ 30.76075719  41.55963616]\n",
      " [  0.           0.        ]\n",
      " [ 36.25747196  15.11872638]\n",
      " [ 42.87986469  27.96440364]]\n"
     ]
    },
    {
     "data": {
      "image/png": "[encoded data removed]",
      "text/plain": [
       "<Figure size 432x288 with 1 Axes>"
      ]
     },
     "metadata": {},
     "output_type": "display_data"
    },
    {
     "name": "stdout",
     "output_type": "stream",
     "text": [
      "\n",
      "\n",
      "half:2\tmin: 72.0\n",
      "[[ 13.44294662  33.3891505 ]\n",
      " [  0.           0.        ]\n",
      " [ 34.96378256  33.63939744]\n",
      " [ 30.64937204  25.60480629]\n",
      " [ 47.62477358  28.8639076 ]\n",
      " [ 39.19282998  20.74194771]\n",
      " [  0.           0.        ]\n",
      " [ 40.60359196  25.20029377]\n",
      " [  0.           0.        ]\n",
      " [ 42.35782383  29.61648186]\n",
      " [  0.           0.        ]\n",
      " [  0.           0.        ]\n",
      " [  0.           0.        ]\n",
      " [  0.           0.        ]\n",
      " [  0.           0.        ]\n",
      " [ 49.22402546  27.55397843]\n",
      " [  0.           0.        ]\n",
      " [ 32.22331044  43.45111851]\n",
      " [  0.           0.        ]\n",
      " [ 38.76168435  15.61635978]\n",
      " [ 45.8656349   29.32877601]]\n"
     ]
    },
    {
     "data": {
      "image/png": "[encoded data removed]",
      "text/plain": [
       "<Figure size 432x288 with 1 Axes>"
      ]
     },
     "metadata": {},
     "output_type": "display_data"
    },
    {
     "name": "stdout",
     "output_type": "stream",
     "text": [
      "\n",
      "\n",
      "half:2\tmin: 73.0\n",
      "[[ 13.67650583  33.15107644]\n",
      " [  0.           0.        ]\n",
      " [ 35.57735128  33.34873242]\n",
      " [ 31.24649514  25.34782516]\n",
      " [ 48.19565626  28.71317478]\n",
      " [ 40.19209751  20.65212115]\n",
      " [  0.           0.        ]\n",
      " [ 41.26465546  24.88353253]\n",
      " [  0.           0.        ]\n",
      " [ 43.22660874  29.44595537]\n",
      " [  0.           0.        ]\n",
      " [  0.           0.        ]\n",
      " [  0.           0.        ]\n",
      " [  0.           0.        ]\n",
      " [  0.           0.        ]\n",
      " [ 50.22002178  27.46139932]\n",
      " [  0.           0.        ]\n",
      " [ 32.86163672  43.36633346]\n",
      " [  0.           0.        ]\n",
      " [ 39.32769522  15.30126231]\n",
      " [ 46.84229513  29.13743206]]\n"
     ]
    },
    {
     "data": {
      "image/png": "[encoded data removed]",
      "text/plain": [
       "<Figure size 432x288 with 1 Axes>"
      ]
     },
     "metadata": {},
     "output_type": "display_data"
    },
    {
     "name": "stdout",
     "output_type": "stream",
     "text": [
      "\n",
      "\n",
      "half:2\tmin: 74.0\n",
      "[[ 14.03768403  33.1061556 ]\n",
      " [  0.           0.        ]\n",
      " [ 35.64295072  33.27039568]\n",
      " [ 32.467348    24.31619178]\n",
      " [ 49.68901631  27.58563395]\n",
      " [ 42.27644946  20.10913464]\n",
      " [  0.           0.        ]\n",
      " [  0.           0.        ]\n",
      " [  0.           0.        ]\n",
      " [ 44.9464905   29.25498585]\n",
      " [  0.           0.        ]\n",
      " [  0.           0.        ]\n",
      " [  0.           0.        ]\n",
      " [ 58.28298333  13.8663125 ]\n",
      " [  0.           0.        ]\n",
      " [ 52.5665139   26.22277063]\n",
      " [  0.           0.        ]\n",
      " [ 34.30057067  43.13354104]\n",
      " [  0.           0.        ]\n",
      " [ 40.51774832  14.16799456]\n",
      " [ 49.40429045  28.46377206]]\n"
     ]
    },
    {
     "data": {
      "image/png": "[encoded data removed]",
      "text/plain": [
       "<Figure size 432x288 with 1 Axes>"
      ]
     },
     "metadata": {},
     "output_type": "display_data"
    },
    {
     "name": "stdout",
     "output_type": "stream",
     "text": [
      "\n",
      "\n",
      "half:2\tmin: 75.0\n",
      "[[ 13.89233604  33.43761783]\n",
      " [  0.           0.        ]\n",
      " [ 35.00578823  34.1786511 ]\n",
      " [ 31.2261184   25.2909176 ]\n",
      " [ 48.2818089   26.85871382]\n",
      " [ 40.63180252  21.23704982]\n",
      " [  0.           0.        ]\n",
      " [  0.           0.        ]\n",
      " [  0.           0.        ]\n",
      " [ 43.80600103  30.60549797]\n",
      " [  0.           0.        ]\n",
      " [  0.           0.        ]\n",
      " [  0.           0.        ]\n",
      " [ 58.44528033  21.52788646]\n",
      " [  0.           0.        ]\n",
      " [ 51.5172672   27.880756  ]\n",
      " [  0.           0.        ]\n",
      " [ 33.43829849  43.51378723]\n",
      " [  0.           0.        ]\n",
      " [ 38.64559179  15.21447221]\n",
      " [ 47.95963684  28.06028291]]\n"
     ]
    },
    {
     "data": {
      "image/png": "[encoded data removed]",
      "text/plain": [
       "<Figure size 432x288 with 1 Axes>"
      ]
     },
     "metadata": {},
     "output_type": "display_data"
    },
    {
     "name": "stdout",
     "output_type": "stream",
     "text": [
      "\n",
      "\n",
      "half:2\tmin: 76.0\n",
      "[[ 13.27648069  33.24385058]\n",
      " [  0.           0.        ]\n",
      " [ 33.83307554  33.86538754]\n",
      " [ 30.58469734  24.74818768]\n",
      " [ 48.14418076  28.13364791]\n",
      " [ 40.28184427  19.82214024]\n",
      " [  0.           0.        ]\n",
      " [  0.           0.        ]\n",
      " [  0.           0.        ]\n",
      " [ 42.62073846  29.97859246]\n",
      " [  0.           0.        ]\n",
      " [  0.           0.        ]\n",
      " [  0.           0.        ]\n",
      " [ 53.21879022  19.81060014]\n",
      " [  0.           0.        ]\n",
      " [ 51.5493493   26.80664932]\n",
      " [  0.           0.        ]\n",
      " [ 33.02236543  43.36976034]\n",
      " [  0.           0.        ]\n",
      " [ 37.66437029  14.51807265]\n",
      " [ 47.71921644  26.72875094]]\n"
     ]
    },
    {
     "data": {
      "image/png": "[encoded data removed]",
      "text/plain": [
       "<Figure size 432x288 with 1 Axes>"
      ]
     },
     "metadata": {},
     "output_type": "display_data"
    },
    {
     "name": "stdout",
     "output_type": "stream",
     "text": [
      "\n",
      "\n",
      "half:2\tmin: 77.0\n",
      "[[ 13.07256742  33.35978149]\n",
      " [  0.           0.        ]\n",
      " [ 31.58626536  34.57166329]\n",
      " [ 29.8581839   25.80030716]\n",
      " [ 48.10933841  32.66681643]\n",
      " [ 41.55800675  17.91095851]\n",
      " [  0.           0.        ]\n",
      " [  0.           0.        ]\n",
      " [  0.           0.        ]\n",
      " [ 40.96667948  29.87047812]\n",
      " [  0.           0.        ]\n",
      " [  0.           0.        ]\n",
      " [  0.           0.        ]\n",
      " [ 51.22115737  22.76828098]\n",
      " [  0.           0.        ]\n",
      " [ 53.57881384  26.05545758]\n",
      " [  0.           0.        ]\n",
      " [ 32.48653205  43.59446411]\n",
      " [  0.           0.        ]\n",
      " [ 35.15370877  14.64059819]\n",
      " [ 47.69760806  27.54830911]]\n"
     ]
    },
    {
     "data": {
      "image/png": "[encoded data removed]",
      "text/plain": [
       "<Figure size 432x288 with 1 Axes>"
      ]
     },
     "metadata": {},
     "output_type": "display_data"
    },
    {
     "name": "stdout",
     "output_type": "stream",
     "text": [
      "\n",
      "\n",
      "half:2\tmin: 78.0\n",
      "[[ 12.63547712  32.90920454]\n",
      " [  0.           0.        ]\n",
      " [ 31.44304896  34.23483606]\n",
      " [ 31.5115863   26.4726149 ]\n",
      " [ 46.7946953   36.42018347]\n",
      " [ 40.34731447  16.16590078]\n",
      " [  0.           0.        ]\n",
      " [  0.           0.        ]\n",
      " [  0.           0.        ]\n",
      " [ 38.95361328  28.47858587]\n",
      " [  0.           0.        ]\n",
      " [  0.           0.        ]\n",
      " [  0.           0.        ]\n",
      " [ 50.20531737  22.14200548]\n",
      " [  0.           0.        ]\n",
      " [ 53.63460153  24.46556502]\n",
      " [  0.           0.        ]\n",
      " [ 31.80165928  43.59550509]\n",
      " [  0.           0.        ]\n",
      " [ 34.47465513  14.43727198]\n",
      " [ 48.49920985  29.19031491]]\n"
     ]
    },
    {
     "data": {
      "image/png": "[encoded data removed]",
      "text/plain": [
       "<Figure size 432x288 with 1 Axes>"
      ]
     },
     "metadata": {},
     "output_type": "display_data"
    },
    {
     "name": "stdout",
     "output_type": "stream",
     "text": [
      "\n",
      "\n",
      "half:2\tmin: 79.0\n",
      "[[ 12.52001977  32.88025148]\n",
      " [  0.           0.        ]\n",
      " [ 31.54783952  34.07811876]\n",
      " [ 32.13788924  26.61663806]\n",
      " [ 46.81730269  37.02276936]\n",
      " [ 40.5974197   15.93080895]\n",
      " [  0.           0.        ]\n",
      " [  0.           0.        ]\n",
      " [  0.           0.        ]\n",
      " [ 38.73839671  28.23575332]\n",
      " [  0.           0.        ]\n",
      " [  0.           0.        ]\n",
      " [  0.           0.        ]\n",
      " [ 50.10014942  22.13490301]\n",
      " [  0.           0.        ]\n",
      " [ 54.03688915  24.3265533 ]\n",
      " [  0.           0.        ]\n",
      " [ 32.22465372  43.42156486]\n",
      " [  0.           0.        ]\n",
      " [ 34.49798583  14.37348601]\n",
      " [ 48.83079764  29.49242699]]\n"
     ]
    },
    {
     "data": {
      "image/png": "[encoded data removed]",
      "text/plain": [
       "<Figure size 432x288 with 1 Axes>"
      ]
     },
     "metadata": {},
     "output_type": "display_data"
    },
    {
     "name": "stdout",
     "output_type": "stream",
     "text": [
      "\n",
      "\n",
      "half:2\tmin: 80.0\n",
      "[[ 12.56137448  32.98583066]\n",
      " [  0.           0.        ]\n",
      " [ 32.96874333  34.72331168]\n",
      " [ 32.43457027  26.93097168]\n",
      " [ 47.27307645  33.38472691]\n",
      " [ 41.81102697  19.59404503]\n",
      " [  0.           0.        ]\n",
      " [  0.           0.        ]\n",
      " [  0.           0.        ]\n",
      " [ 40.51045916  30.7909361 ]\n",
      " [  0.           0.        ]\n",
      " [  0.           0.        ]\n",
      " [  0.           0.        ]\n",
      " [ 48.72341653  26.53740431]\n",
      " [  0.           0.        ]\n",
      " [ 52.50380606  25.66510069]\n",
      " [  0.           0.        ]\n",
      " [ 33.4976991   44.41759849]\n",
      " [  0.           0.        ]\n",
      " [ 34.09595296  14.61496325]\n",
      " [ 47.45467295  32.74198184]]\n"
     ]
    },
    {
     "data": {
      "image/png": "[encoded data removed]",
      "text/plain": [
       "<Figure size 432x288 with 1 Axes>"
      ]
     },
     "metadata": {},
     "output_type": "display_data"
    },
    {
     "name": "stdout",
     "output_type": "stream",
     "text": [
      "\n",
      "\n",
      "half:2\tmin: 81.0\n",
      "[[ 12.76614142  33.15525796]\n",
      " [  0.           0.        ]\n",
      " [ 33.94778877  35.14480157]\n",
      " [ 33.39358115  27.1283024 ]\n",
      " [ 49.24885399  32.58506908]\n",
      " [ 43.96131072  20.94816644]\n",
      " [  0.           0.        ]\n",
      " [  0.           0.        ]\n",
      " [  0.           0.        ]\n",
      " [ 42.93865605  31.53261631]\n",
      " [  0.           0.        ]\n",
      " [  0.           0.        ]\n",
      " [  0.           0.        ]\n",
      " [ 47.84558785  26.70678092]\n",
      " [  0.           0.        ]\n",
      " [ 52.68255357  26.99874897]\n",
      " [  0.           0.        ]\n",
      " [ 34.67819214  44.46874265]\n",
      " [  0.           0.        ]\n",
      " [ 35.70246525  14.67521073]\n",
      " [ 48.1453      33.11574049]]\n"
     ]
    },
    {
     "data": {
      "image/png": "[encoded data removed]",
      "text/plain": [
       "<Figure size 432x288 with 1 Axes>"
      ]
     },
     "metadata": {},
     "output_type": "display_data"
    },
    {
     "name": "stdout",
     "output_type": "stream",
     "text": [
      "\n",
      "\n",
      "half:2\tmin: 82.0\n",
      "[[ 12.51377465  33.23522347]\n",
      " [  0.           0.        ]\n",
      " [ 33.78306349  35.05939797]\n",
      " [ 33.24283672  27.05419176]\n",
      " [ 49.1118704   32.80542499]\n",
      " [ 43.82133827  20.91799751]\n",
      " [  0.           0.        ]\n",
      " [  0.           0.        ]\n",
      " [  0.           0.        ]\n",
      " [ 43.11229495  31.4554509 ]\n",
      " [  0.           0.        ]\n",
      " [  0.           0.        ]\n",
      " [  0.           0.        ]\n",
      " [ 47.4492277   26.76035486]\n",
      " [  0.           0.        ]\n",
      " [ 52.28945273  26.92815631]\n",
      " [  0.           0.        ]\n",
      " [ 34.52836752  44.33537438]\n",
      " [  0.           0.        ]\n",
      " [ 35.44370743  14.68728284]\n",
      " [ 47.90315099  32.72266505]]\n"
     ]
    },
    {
     "data": {
      "image/png": "[encoded data removed]",
      "text/plain": [
       "<Figure size 432x288 with 1 Axes>"
      ]
     },
     "metadata": {},
     "output_type": "display_data"
    },
    {
     "name": "stdout",
     "output_type": "stream",
     "text": [
      "\n",
      "\n",
      "half:2\tmin: 83.0\n",
      "[[ 12.36553566  33.23200816]\n",
      " [  0.           0.        ]\n",
      " [ 32.21301778  35.68851988]\n",
      " [ 32.92737577  27.58330724]\n",
      " [  0.           0.        ]\n",
      " [ 43.35985018  22.93472585]\n",
      " [  0.           0.        ]\n",
      " [  0.           0.        ]\n",
      " [  0.           0.        ]\n",
      " [ 42.37188549  32.33951203]\n",
      " [  0.           0.        ]\n",
      " [  0.           0.        ]\n",
      " [  0.           0.        ]\n",
      " [ 49.0824678   27.62693508]\n",
      " [ 56.10350098  32.43877974]\n",
      " [ 52.91413011  26.21839679]\n",
      " [  0.           0.        ]\n",
      " [ 34.33859823  45.1125701 ]\n",
      " [  0.           0.        ]\n",
      " [ 33.75414335  14.97246169]\n",
      " [ 48.78873321  34.33610539]]\n"
     ]
    },
    {
     "data": {
      "image/png": "[encoded data removed]",
      "text/plain": [
       "<Figure size 432x288 with 1 Axes>"
      ]
     },
     "metadata": {},
     "output_type": "display_data"
    },
    {
     "name": "stdout",
     "output_type": "stream",
     "text": [
      "\n",
      "\n",
      "half:2\tmin: 84.0\n",
      "[[ 12.27061948  33.30229022]\n",
      " [  0.           0.        ]\n",
      " [ 32.17954204  36.06127069]\n",
      " [ 33.09581764  27.77397153]\n",
      " [  0.           0.        ]\n",
      " [ 44.13694987  24.22182602]\n",
      " [  0.           0.        ]\n",
      " [  0.           0.        ]\n",
      " [  0.           0.        ]\n",
      " [ 41.94706492  33.34318985]\n",
      " [  0.           0.        ]\n",
      " [  0.           0.        ]\n",
      " [  0.           0.        ]\n",
      " [ 48.23569778  27.33716767]\n",
      " [ 47.63786782  34.67570694]\n",
      " [ 53.91280378  25.44887143]\n",
      " [  0.           0.        ]\n",
      " [ 34.26934764  45.79707776]\n",
      " [  0.           0.        ]\n",
      " [ 33.30146481  15.32232089]\n",
      " [ 49.17538192  34.57477109]]\n"
     ]
    },
    {
     "data": {
      "image/png": "[encoded data removed]",
      "text/plain": [
       "<Figure size 432x288 with 1 Axes>"
      ]
     },
     "metadata": {},
     "output_type": "display_data"
    },
    {
     "name": "stdout",
     "output_type": "stream",
     "text": [
      "\n",
      "\n",
      "half:2\tmin: 85.0\n",
      "[[ 12.63867258  33.28223325]\n",
      " [  0.           0.        ]\n",
      " [ 34.67881835  36.18483544]\n",
      " [ 35.37396238  27.02230393]\n",
      " [  0.           0.        ]\n",
      " [ 48.20898333  23.86791029]\n",
      " [  0.           0.        ]\n",
      " [  0.           0.        ]\n",
      " [  0.           0.        ]\n",
      " [ 45.4250387   34.00914636]\n",
      " [  0.           0.        ]\n",
      " [  0.           0.        ]\n",
      " [  0.           0.        ]\n",
      " [ 48.27439622  27.20073443]\n",
      " [ 46.39486443  33.82822561]\n",
      " [ 58.56640592  24.5507946 ]\n",
      " [  0.           0.        ]\n",
      " [ 37.04235983  47.68832475]\n",
      " [  0.           0.        ]\n",
      " [ 35.80906719  14.64466786]\n",
      " [ 53.58260943  33.80156188]]\n"
     ]
    },
    {
     "data": {
      "image/png": "[encoded data removed]",
      "text/plain": [
       "<Figure size 432x288 with 1 Axes>"
      ]
     },
     "metadata": {},
     "output_type": "display_data"
    },
    {
     "name": "stdout",
     "output_type": "stream",
     "text": [
      "\n",
      "\n",
      "half:2\tmin: 86.0\n",
      "[[ 12.36501061  33.50610529]\n",
      " [  0.           0.        ]\n",
      " [ 33.32807124  36.50276924]\n",
      " [ 34.31143045  27.42037216]\n",
      " [  0.           0.        ]\n",
      " [ 46.44194062  26.06491068]\n",
      " [  0.           0.        ]\n",
      " [  0.           0.        ]\n",
      " [  0.           0.        ]\n",
      " [ 43.24399531  33.92282216]\n",
      " [  0.           0.        ]\n",
      " [  0.           0.        ]\n",
      " [  0.           0.        ]\n",
      " [ 46.74682537  27.59989914]\n",
      " [ 41.03433867  33.63766893]\n",
      " [ 56.52273982  24.83653811]\n",
      " [  0.           0.        ]\n",
      " [ 35.49644916  47.03269569]\n",
      " [  0.           0.        ]\n",
      " [ 34.32221879  15.27202437]\n",
      " [ 51.43090012  33.0053082 ]]\n"
     ]
    },
    {
     "data": {
      "image/png": "[encoded data removed]",
      "text/plain": [
       "<Figure size 432x288 with 1 Axes>"
      ]
     },
     "metadata": {},
     "output_type": "display_data"
    },
    {
     "name": "stdout",
     "output_type": "stream",
     "text": [
      "\n",
      "\n",
      "half:2\tmin: 87.0\n",
      "[[ 11.92099602  33.46463384]\n",
      " [  0.           0.        ]\n",
      " [ 32.61614868  35.84909854]\n",
      " [ 33.79139329  26.70548241]\n",
      " [  0.           0.        ]\n",
      " [ 47.02344607  29.55616137]\n",
      " [ 54.10350933  18.58553867]\n",
      " [  0.           0.        ]\n",
      " [  0.           0.        ]\n",
      " [ 42.03817297  32.16043986]\n",
      " [  0.           0.        ]\n",
      " [  0.           0.        ]\n",
      " [  0.           0.        ]\n",
      " [ 46.66549629  27.13587836]\n",
      " [ 40.28571612  32.18680515]\n",
      " [  0.           0.        ]\n",
      " [  0.           0.        ]\n",
      " [ 34.55675868  46.08920942]\n",
      " [  0.           0.        ]\n",
      " [ 31.57567865  14.5936163 ]\n",
      " [ 49.05843785  31.22281277]]\n"
     ]
    },
    {
     "data": {
      "image/png": "[encoded data removed]",
      "text/plain": [
       "<Figure size 432x288 with 1 Axes>"
      ]
     },
     "metadata": {},
     "output_type": "display_data"
    },
    {
     "name": "stdout",
     "output_type": "stream",
     "text": [
      "\n",
      "\n",
      "half:2\tmin: 88.0\n",
      "[[ 11.72918311  33.91114851]\n",
      " [  0.           0.        ]\n",
      " [ 32.76039411  36.23978285]\n",
      " [ 33.90937536  26.97668777]\n",
      " [  0.           0.        ]\n",
      " [ 46.66647788  31.72858401]\n",
      " [ 54.01465519  27.15452572]\n",
      " [  0.           0.        ]\n",
      " [  0.           0.        ]\n",
      " [ 41.923853    32.62180345]\n",
      " [  0.           0.        ]\n",
      " [  0.           0.        ]\n",
      " [  0.           0.        ]\n",
      " [ 47.06806709  27.54731982]\n",
      " [ 42.00516169  34.29621458]\n",
      " [  0.           0.        ]\n",
      " [  0.           0.        ]\n",
      " [ 34.68423027  46.66162219]\n",
      " [  0.           0.        ]\n",
      " [ 31.74711785  14.99945597]\n",
      " [ 48.76478019  30.07195814]]\n"
     ]
    },
    {
     "data": {
      "image/png": "[encoded data removed]",
      "text/plain": [
       "<Figure size 432x288 with 1 Axes>"
      ]
     },
     "metadata": {},
     "output_type": "display_data"
    },
    {
     "name": "stdout",
     "output_type": "stream",
     "text": [
      "\n",
      "\n",
      "half:2\tmin: 89.0\n",
      "[[ 12.19994273  34.53567605]\n",
      " [  0.           0.        ]\n",
      " [ 32.67552939  36.33577234]\n",
      " [ 33.84580225  27.0771431 ]\n",
      " [  0.           0.        ]\n",
      " [ 46.39508656  31.69673678]\n",
      " [ 54.01465519  27.15452572]\n",
      " [  0.           0.        ]\n",
      " [  0.           0.        ]\n",
      " [ 41.837637    32.68734261]\n",
      " [  0.           0.        ]\n",
      " [  0.           0.        ]\n",
      " [  0.           0.        ]\n",
      " [ 45.88054018  29.06351407]\n",
      " [ 42.00516169  34.29621458]\n",
      " [  0.           0.        ]\n",
      " [  0.           0.        ]\n",
      " [ 34.61384847  46.75447376]\n",
      " [  0.           0.        ]\n",
      " [ 31.64433191  15.05883945]\n",
      " [ 48.57274601  30.1872281 ]]\n"
     ]
    },
    {
     "data": {
      "image/png": "[encoded data removed]",
      "text/plain": [
       "<Figure size 432x288 with 1 Axes>"
      ]
     },
     "metadata": {},
     "output_type": "display_data"
    },
    {
     "name": "stdout",
     "output_type": "stream",
     "text": [
      "\n",
      "\n",
      "half:2\tmin: 90.0\n",
      "[[ 11.74384432  34.48241778]\n",
      " [  0.           0.        ]\n",
      " [ 32.31382179  36.19471674]\n",
      " [ 33.47937138  27.20071439]\n",
      " [  0.           0.        ]\n",
      " [ 46.18121024  32.31175676]\n",
      " [ 55.06561945  27.53342723]\n",
      " [  0.           0.        ]\n",
      " [  0.           0.        ]\n",
      " [ 41.45704216  32.52730137]\n",
      " [  0.           0.        ]\n",
      " [  0.           0.        ]\n",
      " [  0.           0.        ]\n",
      " [ 44.25411268  29.53795789]\n",
      " [ 41.82945417  34.18500878]\n",
      " [  0.           0.        ]\n",
      " [  0.           0.        ]\n",
      " [ 34.15798995  46.67282508]\n",
      " [  0.           0.        ]\n",
      " [ 31.61809692  14.84401687]\n",
      " [ 48.12053701  30.48231614]]\n"
     ]
    },
    {
     "data": {
      "image/png": "[encoded data removed]",
      "text/plain": [
       "<Figure size 432x288 with 1 Axes>"
      ]
     },
     "metadata": {},
     "output_type": "display_data"
    },
    {
     "name": "stdout",
     "output_type": "stream",
     "text": [
      "\n",
      "\n",
      "half:2\tmin: 91.0\n",
      "[[ 11.80567937  34.81573582]\n",
      " [  0.           0.        ]\n",
      " [ 32.38452442  36.69240477]\n",
      " [ 33.67904708  27.68459228]\n",
      " [  0.           0.        ]\n",
      " [ 46.25048362  35.52091791]\n",
      " [ 54.84375147  28.87960627]\n",
      " [  0.           0.        ]\n",
      " [  0.           0.        ]\n",
      " [ 41.51242594  33.42414679]\n",
      " [  0.           0.        ]\n",
      " [  0.           0.        ]\n",
      " [  0.           0.        ]\n",
      " [ 44.84650533  30.34780374]\n",
      " [ 41.26089677  33.66756146]\n",
      " [  0.           0.        ]\n",
      " [  0.           0.        ]\n",
      " [ 34.43965917  47.25213709]\n",
      " [  0.           0.        ]\n",
      " [ 31.39505013  15.33216078]\n",
      " [ 47.47227735  30.91753564]]\n"
     ]
    },
    {
     "data": {
      "image/png": "[encoded data removed]",
      "text/plain": [
       "<Figure size 432x288 with 1 Axes>"
      ]
     },
     "metadata": {},
     "output_type": "display_data"
    },
    {
     "name": "stdout",
     "output_type": "stream",
     "text": [
      "\n",
      "\n",
      "half:2\tmin: 92.0\n",
      "[[ 12.05416653  35.05585258]\n",
      " [  0.           0.        ]\n",
      " [ 32.89523263  36.78523969]\n",
      " [ 34.09953358  27.49336609]\n",
      " [  0.           0.        ]\n",
      " [ 46.03953256  38.66676712]\n",
      " [ 57.44175345  30.37298817]\n",
      " [  0.           0.        ]\n",
      " [  0.           0.        ]\n",
      " [ 42.25767197  33.80419679]\n",
      " [  0.           0.        ]\n",
      " [  0.           0.        ]\n",
      " [  0.           0.        ]\n",
      " [ 46.18836935  29.6067548 ]\n",
      " [ 42.29258818  32.58542737]\n",
      " [  0.           0.        ]\n",
      " [  0.           0.        ]\n",
      " [ 34.89115679  47.31261778]\n",
      " [  0.           0.        ]\n",
      " [ 31.35781467  15.17727482]\n",
      " [ 46.75857497  28.81283405]]\n"
     ]
    },
    {
     "data": {
      "image/png": "[encoded data removed]",
      "text/plain": [
       "<Figure size 432x288 with 1 Axes>"
      ]
     },
     "metadata": {},
     "output_type": "display_data"
    },
    {
     "name": "stdout",
     "output_type": "stream",
     "text": [
      "\n",
      "\n",
      "half:2\tmin: 93.0\n",
      "[[ 11.63239825  35.23881614]\n",
      " [  0.           0.        ]\n",
      " [ 31.18011027  36.9325308 ]\n",
      " [ 31.04039831  27.04402166]\n",
      " [  0.           0.        ]\n",
      " [ 45.38161969  44.49279044]\n",
      " [ 53.3698878   31.12392412]\n",
      " [  0.           0.        ]\n",
      " [  0.           0.        ]\n",
      " [ 42.32550783  35.96055664]\n",
      " [  0.           0.        ]\n",
      " [  0.           0.        ]\n",
      " [  0.           0.        ]\n",
      " [ 44.4626315   30.42435724]\n",
      " [ 40.49087743  32.0157322 ]\n",
      " [  0.           0.        ]\n",
      " [  0.           0.        ]\n",
      " [ 33.58903741  47.35308833]\n",
      " [  0.           0.        ]\n",
      " [ 29.42545697  16.12308667]\n",
      " [ 42.8350166   25.34490549]]\n"
     ]
    },
    {
     "data": {
      "image/png": "[encoded data removed]",
      "text/plain": [
       "<Figure size 432x288 with 1 Axes>"
      ]
     },
     "metadata": {},
     "output_type": "display_data"
    },
    {
     "name": "stdout",
     "output_type": "stream",
     "text": [
      "\n",
      "\n",
      "half:2\tmin: 94.0\n",
      "[[ 11.72517776  34.9766496 ]\n",
      " [  0.           0.        ]\n",
      " [ 31.54883168  36.83204353]\n",
      " [ 30.82945702  26.5873573 ]\n",
      " [  0.           0.        ]\n",
      " [ 46.43214298  45.69802893]\n",
      " [ 54.79103965  29.88924755]\n",
      " [  0.           0.        ]\n",
      " [  0.           0.        ]\n",
      " [ 43.29494637  36.22372585]\n",
      " [  0.           0.        ]\n",
      " [  0.           0.        ]\n",
      " [  0.           0.        ]\n",
      " [ 45.0648157   29.88816804]\n",
      " [ 41.06268229  31.21888625]\n",
      " [  0.           0.        ]\n",
      " [  0.           0.        ]\n",
      " [ 33.65340331  47.7291562 ]\n",
      " [  0.           0.        ]\n",
      " [ 29.78124148  15.89976267]\n",
      " [ 42.67000496  23.39415124]]\n"
     ]
    },
    {
     "data": {
      "image/png": "[encoded data removed]",
      "text/plain": [
       "<Figure size 432x288 with 1 Axes>"
      ]
     },
     "metadata": {},
     "output_type": "display_data"
    },
    {
     "name": "stdout",
     "output_type": "stream",
     "text": [
      "\n",
      "\n",
      "Match duration: 98.0 min\n",
      "Teams' sent-off players:\n",
      "[]\n",
      "[]\n"
     ]
    }
   ],
   "source": [
    "with open('../data/general/matches_2017_2018_v1.json') as matches_json:\n",
    "    matches = json.load(matches_json)\n",
    "    \n",
    "\n",
    "minutes_step = 15\n",
    "data_height = 6000 # number of seconds in per match\n",
    "data_width = 128 # number of features for vector\n",
    "\n",
    "for match_data in matches:\n",
    "   \n",
    "    \n",
    "    id = int(match_data['id'])\n",
    "    \n",
    "    if id!=60617 and id!=60634 and id!=60696 and id!=60706 and id!=60821 and id!=60845 and id!=116001326 and id==60565:\n",
    "\n",
    "        print(\"\\nMatch id:\" + str(id))\n",
    "        \n",
    "        # defining 3 distinct id in game\n",
    "        referee_id = 0\n",
    "        home_team_id = int(match_data['homeId']) \n",
    "        away_team_id = int(match_data['awayId']) \n",
    "\n",
    "\n",
    "        # home and away player list\n",
    "        home_team_player = []\n",
    "        home_goal_keeper = []\n",
    "        away_team_player = []\n",
    "        away_goal_keeper = []\n",
    "\n",
    "\n",
    "        # home_nonzero\n",
    "        home_player_count_pitch = []\n",
    "        home_prev_count = 11\n",
    "\n",
    "        # home_nonzero\n",
    "        away_player_count_pitch = []\n",
    "        away_prev_count = 11\n",
    "\n",
    "        # player dicts\n",
    "        home_dict = {} \n",
    "        away_dict = {}\n",
    "        \n",
    "        # game duration\n",
    "        whole_game_duration = 0\n",
    "\n",
    "        # players position ID \n",
    "        player_positionId = {'homeTeam' : {}, 'awayTeam' : {}}\n",
    "\n",
    "\n",
    "        with open('../data/match_' + str(id) + '/roster_data_' + str(id) + '.json', 'r') as file:\n",
    "            match_squad = json.load(file)\n",
    "\n",
    "        for roaster in match_squad:\n",
    "            if roaster['teamId'] == home_team_id:\n",
    "                home_team_player.append(str(roaster['jerseyNumber']))\n",
    "                player_positionId['homeTeam'][roaster['jerseyNumber']] = roaster['positionId'] \n",
    "                if roaster['positionId'] == 1:\n",
    "                    home_goal_keeper.append(str(roaster['jerseyNumber']))\n",
    "\n",
    "\n",
    "            elif roaster['teamId'] == away_team_id:\n",
    "                away_team_player.append(str(roaster['jerseyNumber']))\n",
    "                player_positionId['awayTeam'][roaster['jerseyNumber']] = roaster['positionId']\n",
    "                if roaster['positionId'] == 1:\n",
    "                    away_goal_keeper.append(str(roaster['jerseyNumber']))\n",
    "\n",
    "\n",
    "        # home players dict data\n",
    "        home_team_player.sort(key=int)\n",
    "        home_goal_keeper.sort(key=int)\n",
    "        home_val = np.arange(0, len(home_team_player))\n",
    "        home_dict = dict(zip(home_team_player, home_val))\n",
    "        home_dict_reverse = dict(zip(home_val, home_team_player))\n",
    "\n",
    "\n",
    "        # away players dict data\n",
    "        away_team_player.sort(key=int)\n",
    "        away_goal_keeper.sort(key=int)\n",
    "        away_val = np.arange(0, len(away_team_player))\n",
    "        away_dict = dict(zip(away_team_player, away_val))\n",
    "        away_dict_reverse = dict(zip(away_val, away_team_player))\n",
    "\n",
    "        # home and away team players' status[0: not playing, 1: playing, 2-left the game], enter status[0: enter 1st half, 1: enter second half],\n",
    "        # enter time, and duration, red card\n",
    "        home_dur_in_out = np.zeros(shape=(len(home_team_player), 5), dtype=np.float)\n",
    "        away_dur_in_out = np.zeros(shape=(len(away_team_player), 5), dtype=np.float)\n",
    "\n",
    "\n",
    "        with open('../data/match_' + str(id) + '/players_data_' + str(id) + '.json', 'r') as file:\n",
    "            player_data = json.load(file)\n",
    "\n",
    "\n",
    "        for player in player_data:\n",
    "            jersey_number = player['jerseyNumber']\n",
    "            if player['teamId'] == home_team_id:\n",
    "                home_dur_in_out[home_dict[str(jersey_number)]][3] = player['duration']\n",
    "                home_dur_in_out[home_dict[str(jersey_number)]][4] = player['redCard']\n",
    "\n",
    "\n",
    "\n",
    "            elif player['teamId'] == away_team_id:\n",
    "                away_dur_in_out[away_dict[str(jersey_number)]][3] = player['duration']\n",
    "                away_dur_in_out[away_dict[str(jersey_number)]][4] = player['redCard']\n",
    "\n",
    "\n",
    "\n",
    "        # home and away team player pos and activity count: 0-xpos, 1-ypos\n",
    "        home_pos_count = np.zeros(shape=(len(home_team_player), 2), dtype=np.float)\n",
    "        home_activity_count = np.zeros(shape=(len(home_team_player), 1), dtype=np.int)\n",
    "        home_activity_count_all = np.zeros(shape=(len(home_team_player), 2), dtype=np.int)\n",
    "        home_act_nozero = [0,0] # number non-zero activity_count_all\n",
    "\n",
    "\n",
    "        away_pos_count = np.zeros(shape=(len(away_team_player), 2), dtype=np.float)\n",
    "        away_activity_count = np.zeros(shape=(len(away_team_player), 1), dtype=np.int)\n",
    "        away_activity_count_all = np.zeros(shape=(len(away_team_player), 2), dtype=np.int)\n",
    "        away_act_nozero = [0,0] # number non-zero activity_count_all\n",
    "\n",
    "\n",
    "        # home and away team player count data for 10 min: 0-xpos, 1-ypos / 0-1min, 1-2min... 9-10min \n",
    "        home_pos_count_minutes = np.zeros(shape=(len(home_team_player), 2, minutes_step), dtype=np.float)\n",
    "        home_activity_count_minutes = np.zeros(shape=(len(home_team_player), minutes_step), dtype=np.int)\n",
    "\n",
    "        home_pos_count_minutes2 = np.zeros(shape=(len(home_team_player), 2, minutes_step), dtype=np.float)\n",
    "        home_activity_count_minutes2 = np.zeros(shape=(len(home_team_player), minutes_step), dtype=np.int)\n",
    "\n",
    "        away_pos_count_minutes = np.zeros(shape=(len(away_team_player), 2, minutes_step), dtype=np.float)\n",
    "        away_activity_count_minutes = np.zeros(shape=(len(away_team_player), minutes_step), dtype=np.int)\n",
    "\n",
    "        away_pos_count_minutes2 = np.zeros(shape=(len(away_team_player), 2, minutes_step), dtype=np.float)\n",
    "        away_activity_count_minutes = np.zeros(shape=(len(away_team_player), minutes_step), dtype=np.int)\n",
    "\n",
    "\n",
    "        # home and away team Mean pos data: 0-xpos, 1-ypos\n",
    "        home_pos_mean = np.zeros(shape=(len(home_team_player), 2), dtype=np.float)\n",
    "        away_pos_mean = np.zeros(shape=(len(away_team_player), 2), dtype=np.float)\n",
    "\n",
    "\n",
    "        # create array of x input data for every match\n",
    "        x_intput = np.ndarray(shape=(data_height, data_width), dtype=np.float)\n",
    "\n",
    "\n",
    "\n",
    "        with open('../data/match_' + str(id) + '/per_sec_data_' + str(id) + '.json', 'r') as file:\n",
    "            data_persec = json.load(file)\n",
    "\n",
    "        home_pos_count_minutes = np.zeros(shape=(len(home_team_player), 2, minutes_step), dtype=np.float)\n",
    "        home_activity_count_minutes = np.zeros(shape=(len(home_team_player), minutes_step), dtype=np.int)\n",
    "\n",
    "        away_pos_count_minutes = np.zeros(shape=(len(away_team_player), 2, minutes_step), dtype=np.float)\n",
    "        away_activity_count_minutes = np.zeros(shape=(len(away_team_player), minutes_step), dtype=np.int)\n",
    "\n",
    "        # create first average positon data for assigning player position at the 1st half\n",
    "        # temporary t\n",
    "        \n",
    "        home_activity_count_all[0: len(home_team_player)] = 0\n",
    "        away_activity_count_all[0: len(away_team_player)] = 0\n",
    "\n",
    "        \n",
    "        tmp_t = 0\n",
    "        shift_times_right = 0\n",
    "        \n",
    "        # threshol second:\n",
    "        threshold_second = 60\n",
    "\n",
    "        # 1st half duration\n",
    "        first_half_duration = 0\n",
    "\n",
    "        home_nonzero = 11\n",
    "        away_nonzero = 11\n",
    "\n",
    "        prev_home_nonzero = 11\n",
    "        prev_away_nonzero = 11\n",
    "\n",
    "\n",
    "        # temporary half\n",
    "        tmp_half = 1\n",
    "\n",
    "        c_activity_value = 0\n",
    "        c_home_activity_each = 0\n",
    "        c_away_activity_each = 0\n",
    "\n",
    "        while c_activity_value==0:\n",
    "\n",
    "            c_home_activity_each = 0\n",
    "            c_away_activity_each = 0\n",
    "\n",
    "            a,b = fist_time_step_mean_data(1, data_persec)\n",
    "\n",
    "\n",
    "            for player_home in range(0, len(home_team_player)):\n",
    "                res = caluclate_activity_count(minutes_step, player_home, a)\n",
    "                c_home_activity_each += res\n",
    "\n",
    "            for player_away in range(0, len(away_team_player)):\n",
    "                res = caluclate_activity_count(minutes_step, player_away, b)\n",
    "                c_away_activity_each += res\n",
    "\n",
    "            if c_home_activity_each == 11 and c_away_activity_each == 11:\n",
    "                c_activity_value = 1\n",
    "\n",
    "            threshold_second += 60  \n",
    "\n",
    "        threshold_second -= 1\n",
    "        \n",
    "        print(\"1st half start: \" + str(threshold_second) + \" sec\")\n",
    "        \n",
    "        \n",
    "        for d in data_persec:\n",
    "\n",
    "            match_half_t = int(d['half'])\n",
    "\n",
    "            # create first average positon data for assigning player at the 2nd half\n",
    "            if match_half_t != tmp_half and match_half_t==2:\n",
    "                tmp_half = match_half_t\n",
    "                shift_times_right = 0\n",
    "\n",
    "                tmp_t = 45*60\n",
    "\n",
    "                activity_home_nonzero = 0\n",
    "                activity_away_nonzero = 0\n",
    "                home_break_subs = []\n",
    "                away_break_subs = []\n",
    "                home_break_subs_after = []\n",
    "                away_break_subs_after = []\n",
    "\n",
    "                for player_home in range(0, len(home_team_player)):\n",
    "                    if home_pos_mean[player_home][0] !=0:\n",
    "                            activity_home_nonzero += 1\n",
    "                            home_break_subs.append(1)\n",
    "                    else:\n",
    "                        home_break_subs.append(0)\n",
    "\n",
    "\n",
    "                for player_away in range(0, len(away_team_player)):\n",
    "                    if away_pos_mean[player_away][0] !=0:\n",
    "                            activity_away_nonzero += 1\n",
    "                            away_break_subs.append(1)\n",
    "                    else:\n",
    "                        away_break_subs.append(0)\n",
    "\n",
    "                home_nonzero = activity_home_nonzero\n",
    "                away_nonzero = activity_away_nonzero\n",
    "\n",
    "\n",
    "                # clear home team data\n",
    "                home_pos_count[0: len(home_team_player)] = 0\n",
    "                home_activity_count[0: len(home_team_player)] = 0 \n",
    "                home_activity_count_all[0: len(home_team_player)] = 0\n",
    "                home_act_nozero = [0,0]\n",
    "                home_pos_count_minutes[0: len(home_team_player)] = 0\n",
    "                home_activity_count_minutes[0: len(home_team_player)] = 0\n",
    "                home_pos_mean[0: len(home_team_player)] = 0\n",
    "\n",
    "                # clear away team data\n",
    "                away_pos_count[0: len(away_team_player)] = 0\n",
    "                away_activity_count[0: len(away_team_player)] = 0 \n",
    "                away_activity_count_all[0: len(away_team_player)] = 0\n",
    "                away_act_nozero = [0,0]\n",
    "                away_pos_count_minutes[0: len(away_team_player)] = 0\n",
    "                away_activity_count_minutes[0: len(away_team_player)] = 0\n",
    "                away_pos_mean[0: len(away_team_player)] = 0\n",
    "\n",
    "\n",
    "                threshold_second = 60\n",
    "\n",
    "                c_activity_value = 0\n",
    "                c_home_activity_each = 0\n",
    "                c_away_activity_each = 0\n",
    "\n",
    "                while c_activity_value==0:\n",
    "\n",
    "                    c_home_activity_each = 0\n",
    "                    c_away_activity_each = 0\n",
    "\n",
    "                    home_break_subs_after = []\n",
    "                    away_break_subs_after = []\n",
    "\n",
    "                    a,b = fist_time_step_mean_data(2, data_persec)\n",
    "\n",
    "                    for player_home in range(0, len(home_team_player)):\n",
    "                        res = caluclate_activity_count(minutes_step, player_home, a)\n",
    "                        c_home_activity_each += res\n",
    "                        home_break_subs_after.append(res)\n",
    "\n",
    "                    for player_away in range(0, len(away_team_player)):\n",
    "                        res = caluclate_activity_count(minutes_step, player_away, b)\n",
    "                        c_away_activity_each += res\n",
    "                        away_break_subs_after.append(res)\n",
    "\n",
    "\n",
    "                    if c_home_activity_each == activity_home_nonzero and c_away_activity_each == activity_away_nonzero:\n",
    "                        c_activity_value = 1\n",
    "\n",
    "                    threshold_second += 60\n",
    "\n",
    "\n",
    "                for player_home_2 in range(0, len(home_team_player)):\n",
    "                    if home_break_subs_after[player_home_2]==0 and home_break_subs[player_home_2]==1:\n",
    "                        home_dur_in_out[player_home_2][0] = 2 # menas goal keepr has left the game\n",
    "\n",
    "                for player_away_2 in range(0, len(away_team_player)):\n",
    "                    if away_break_subs_after[player_away_2]==0 and away_break_subs[player_away_2]==1:\n",
    "                        away_dur_in_out[player_away_2][0] = 2 # menas goal keepr has left the game\n",
    "\n",
    "                threshold_second -= 1\n",
    "                \n",
    "                print(\"2nd half start: \" + str(threshold_second) + \" sec\")\n",
    "\n",
    "\n",
    "            i = int(d['minute'])*60 + int(d['second'])\n",
    "            x_pos = d['xpos']\n",
    "            y_pos = d['ypos']\n",
    "            team_id_t = int(d['teamId'])\n",
    "            jersey_number_t = int(d['jerseyNumber'])\n",
    "            has_ball_teamId_t = int(d['hasballTeamId'])\n",
    "\n",
    "\n",
    "            # find out how long did 1st half last\n",
    "            if match_half_t == 1:\n",
    "                first_half_duration = i\n",
    "\n",
    "\n",
    "            if i%60==59:\n",
    "\n",
    "                if team_id_t == home_team_id:\n",
    "                    player = home_dict[str(jersey_number_t)]\n",
    "                    home_activity_count_all[player][1] = 1\n",
    "\n",
    "                elif team_id_t == away_team_id:\n",
    "                    player = away_dict[str(jersey_number_t)]\n",
    "                    away_activity_count_all[player][1] = 1\n",
    "\n",
    "\n",
    "\n",
    "            if i%60!=0:    \n",
    "\n",
    "                if team_id_t == home_team_id:\n",
    "\n",
    "                    if home_dur_in_out[home_dict[str(jersey_number_t)]][0] == 0:\n",
    "                        home_dur_in_out[home_dict[str(jersey_number_t)]][0] = 1 # indicates that a player is in game \n",
    "                        home_dur_in_out[home_dict[str(jersey_number_t)]][1] = match_half_t # enter half\n",
    "                        home_dur_in_out[home_dict[str(jersey_number_t)]][2] = i  # enter time\n",
    "\n",
    "\n",
    "                        plyr_position = player_positionId['homeTeam'][jersey_number_t]\n",
    "                        player = home_dict[str(jersey_number_t)]\n",
    "                        home_pos_count_minutes[player][1][minutes_step-1] += 34\n",
    "                        home_activity_count_minutes[player][minutes_step-1] +=1\n",
    "\n",
    "\n",
    "                        if plyr_position == 1:\n",
    "                            home_pos_count_minutes[player][0][minutes_step-1] += 10\n",
    "                        elif plyr_position == 2:\n",
    "                            home_pos_count_minutes[player][0][minutes_step-1] += 38\n",
    "                        elif plyr_position == 3:\n",
    "                            home_pos_count_minutes[player][0][minutes_step-1] += 58\n",
    "                        else:\n",
    "                            home_pos_count_minutes[player][0][minutes_step-1] += 78\n",
    "\n",
    "                    if i<((home_dur_in_out[home_dict[str(jersey_number_t)]][2])+60) and home_dur_in_out[home_dict[str(jersey_number_t)]][0] == 1:\n",
    "                        if x_pos!=0 and y_pos!=0:\n",
    "                            home_pos_count[home_dict[str(jersey_number_t)]][0] += x_pos\n",
    "                            home_pos_count[home_dict[str(jersey_number_t)]][1] += y_pos\n",
    "                            home_activity_count[home_dict[str(jersey_number_t)]] +=1 \n",
    "\n",
    "                    elif player_positionId['homeTeam'][jersey_number_t] == 1 and has_ball_teamId_t != 0:\n",
    "                        if x_pos!=0 and y_pos!=0:\n",
    "                            home_pos_count[home_dict[str(jersey_number_t)]][0] += x_pos\n",
    "                            home_pos_count[home_dict[str(jersey_number_t)]][1] += y_pos\n",
    "                            home_activity_count[home_dict[str(jersey_number_t)]] +=1\n",
    "\n",
    "                    elif has_ball_teamId_t == away_team_id:\n",
    "                        if x_pos!=0 and y_pos!=0:\n",
    "                            home_pos_count[home_dict[str(jersey_number_t)]][0] += x_pos\n",
    "                            home_pos_count[home_dict[str(jersey_number_t)]][1] += y_pos\n",
    "                            home_activity_count[home_dict[str(jersey_number_t)]] +=1 \n",
    "\n",
    "                elif team_id_t == away_team_id:\n",
    "\n",
    "                    if away_dur_in_out[away_dict[str(jersey_number_t)]][0] == 0:\n",
    "                        away_dur_in_out[away_dict[str(jersey_number_t)]][0] = 1 # indicates that a player is in game\n",
    "                        away_dur_in_out[away_dict[str(jersey_number_t)]][1] = match_half_t # enter half \n",
    "                        away_dur_in_out[away_dict[str(jersey_number_t)]][2] = i #enter time\n",
    "\n",
    "                        plyr_position = player_positionId['awayTeam'][jersey_number_t]\n",
    "                        player = away_dict[str(jersey_number_t)]\n",
    "                        away_pos_count_minutes[player][1][minutes_step-1] += 34\n",
    "                        away_activity_count_minutes[player][minutes_step-1] +=1\n",
    "\n",
    "\n",
    "                        if plyr_position == 1:\n",
    "                            away_pos_count_minutes[player][0][minutes_step-1] += 10\n",
    "                        elif plyr_position == 2:\n",
    "                            away_pos_count_minutes[player][0][minutes_step-1] += 38\n",
    "                        elif plyr_position == 3:\n",
    "                            away_pos_count_minutes[player][0][minutes_step-1] += 58\n",
    "                        else:\n",
    "                            away_pos_count_minutes[player][0][minutes_step-1] += 78\n",
    "\n",
    "\n",
    "                    if i<((away_dur_in_out[away_dict[str(jersey_number_t)]][2])+60) and away_dur_in_out[away_dict[str(jersey_number_t)]][0] == 1:\n",
    "                        if x_pos!=0 and y_pos!=0:\n",
    "                            away_pos_count[away_dict[str(jersey_number_t)]][0] += x_pos\n",
    "                            away_pos_count[away_dict[str(jersey_number_t)]][1] += y_pos\n",
    "                            away_activity_count[away_dict[str(jersey_number_t)]] +=1\n",
    "\n",
    "                    elif player_positionId['awayTeam'][jersey_number_t] == 1 and has_ball_teamId_t != 0:\n",
    "                        away_pos_count[away_dict[str(jersey_number_t)]][0] += x_pos\n",
    "                        away_pos_count[away_dict[str(jersey_number_t)]][1] += y_pos\n",
    "                        away_activity_count[away_dict[str(jersey_number_t)]] +=1\n",
    "\n",
    "                    elif has_ball_teamId_t == home_team_id:\n",
    "                         if x_pos!=0 and y_pos!=0:\n",
    "                            away_pos_count[away_dict[str(jersey_number_t)]][0] += x_pos\n",
    "                            away_pos_count[away_dict[str(jersey_number_t)]][1] += y_pos\n",
    "                            away_activity_count[away_dict[str(jersey_number_t)]] +=1 \n",
    "\n",
    "                elif team_id_t == referee_id:\n",
    "                    pass\n",
    "                    # referee_pos_t['xpos']\n",
    "                    # referee_pos_t['ypos']\n",
    "\n",
    "            # shifing last index of 15min arry (period of 15min) with last min data\n",
    "            # and calculate mena position of each player each min based on previus 10 min\n",
    "            if i%60 == 0 and tmp_t != i+1 and (i-(match_half_t-1)*45*60)>threshold_second:\n",
    "\n",
    "\n",
    "                tmp_t = i+1\n",
    "\n",
    "                prev_home_nonzero = home_nonzero\n",
    "                home_nonzero = 0\n",
    "\n",
    "                prev_away_nonzero = away_nonzero\n",
    "                away_nonzero = 0\n",
    "\n",
    "\n",
    "                if shift_times_right !=0:\n",
    "                    for player_home in range(0, len(home_team_player)):\n",
    "\n",
    "                        home_pos_count_minutes[player_home][0] = (shift(home_pos_count_minutes[player_home][0], -1, cval=0))\n",
    "                        home_pos_count_minutes[player_home][1] = (shift(home_pos_count_minutes[player_home][1], -1, cval=0))\n",
    "                        home_activity_count_minutes[player_home] = (shift(home_activity_count_minutes[player_home], -1, cval=0))\n",
    "\n",
    "                        home_pos_count_minutes[player_home][0][minutes_step-1] = home_pos_count[player_home][0]\n",
    "                        home_pos_count_minutes[player_home][1][minutes_step-1] = home_pos_count[player_home][1]\n",
    "                        home_activity_count_minutes[player_home][minutes_step-1] = home_activity_count[player_home]\n",
    "\n",
    "\n",
    "                    for player_away in range(0, len(away_team_player)):\n",
    "\n",
    "                        away_pos_count_minutes[player_away][0] = (shift(away_pos_count_minutes[player_away][0], -1, cval=0))\n",
    "                        away_pos_count_minutes[player_away][1] = (shift(away_pos_count_minutes[player_away][1], -1, cval=0))\n",
    "                        away_activity_count_minutes[player_away] = (shift(away_activity_count_minutes[player_away], -1, cval=0))\n",
    "\n",
    "                        away_pos_count_minutes[player_away][0][minutes_step-1] = away_pos_count[player_away][0]\n",
    "                        away_pos_count_minutes[player_away][1][minutes_step-1] = away_pos_count[player_away][1]\n",
    "                        away_activity_count_minutes[player_away][minutes_step-1] = away_activity_count[player_away]\n",
    "\n",
    "\n",
    "                shift_times_right = 1\n",
    "\n",
    "\n",
    "                # clear home team\n",
    "                home_pos_count[0: len(home_team_player)] = 0\n",
    "                home_activity_count[0: len(home_team_player)] = 0\n",
    "\n",
    "                # clear away team\n",
    "                away_pos_count[0: len(away_team_player)] = 0\n",
    "                away_activity_count[0: len(away_team_player)] = 0\n",
    "\n",
    "\n",
    "                home_pos_mean[0:len(home_team_player)] = 0\n",
    "                home_act_nozero = [0,0]\n",
    "\n",
    "                away_pos_mean[0:len(away_team_player)] = 0\n",
    "                away_act_nozero = [0,0]\n",
    "\n",
    "\n",
    "\n",
    "                for player_home in range(0, len(home_team_player)):\n",
    "                    jersey_n = int(home_dict_reverse[player_home])\n",
    "                    if player_positionId['homeTeam'][jersey_n] == 1 and home_dur_in_out[player_home][0]==1 and home_activity_count_all[player_home][1] == 0:\n",
    "                        action_status_exit = 0\n",
    "                        \n",
    "                        if home_dur_in_out[player_home][4]==1:\n",
    "                            enter_half = home_dur_in_out[player_home][1]\n",
    "                            enter_time = home_dur_in_out[player_home][2]\n",
    "                            p_game_play_dur = home_dur_in_out[player_home][3]\n",
    "\n",
    "                            h = match_half_t\n",
    "                            f_h_d= first_half_duration\n",
    "\n",
    "                            if enter_half == 1:\n",
    "                                current_play_dur = math.floor( ((f_h_d - enter_time) + (i-45*60)*(h-1) )/60 )\n",
    "                            elif enter_half == 2:\n",
    "                                current_play_dur = math.floor( (i - enter_time)/60 )\n",
    "\n",
    "                            if current_play_dur < p_game_play_dur:\n",
    "\n",
    "\n",
    "                                for gk_i in home_goal_keeper:\n",
    "                                    if home_activity_count_all[home_dict[str(gk_i)]][1] !=0:\n",
    "                                        home_dur_in_out[player_home][0] = 2 # menas goal keepr has left the game\n",
    "                                        home_pos_mean[player_home][0] = 0 \n",
    "                                        home_pos_mean[player_home][1] = 0\n",
    "                                        action_status_exit = 1\n",
    "                        else:\n",
    "                            for gk_i in home_goal_keeper:\n",
    "                                if home_activity_count_all[home_dict[str(gk_i)]][1] !=0:\n",
    "                                    home_dur_in_out[player_home][0] = 2 # menas goal keepr has left the game\n",
    "                                    home_pos_mean[player_home][0] = 0 \n",
    "                                    home_pos_mean[player_home][1] = 0\n",
    "                                    action_status_exit = 1\n",
    "                            \n",
    "\n",
    "                        if action_status_exit == 0:\n",
    "                            home_activity_count_all[player_home][1] = 1\n",
    "\n",
    "                    if (home_activity_count_all[player_home][0]==1):\n",
    "                        home_act_nozero[0] += 1\n",
    "\n",
    "                    if (home_activity_count_all[player_home][1]==1):\n",
    "                        home_act_nozero[1] += 1\n",
    "                        \n",
    "                \n",
    "\n",
    "                for player_away in range(0, len(away_team_player)):\n",
    "                    jersey_n = int(away_dict_reverse[player_away])\n",
    "                    if player_positionId['awayTeam'][jersey_n] == 1 and away_dur_in_out[player_away][0]==1 and away_activity_count_all[player_away][1] == 0:\n",
    "                        action_status_exit = 0\n",
    "                        \n",
    "                        if away_dur_in_out[player_away][4]==1:\n",
    "\n",
    "                            # player current and whole game duration durng match\n",
    "                            enter_half = away_dur_in_out[player_away][1]\n",
    "                            enter_time = away_dur_in_out[player_away][2]\n",
    "                            p_game_play_dur = away_dur_in_out[player_away][3]\n",
    "\n",
    "                            h = match_half_t\n",
    "                            f_h_d= first_half_duration\n",
    "\n",
    "                            if enter_half == 1:\n",
    "                                current_play_dur = math.floor( ((f_h_d - enter_time) + (i-45*60)*(h-1) )/60 )\n",
    "                            elif enter_half == 2:\n",
    "                                current_play_dur = math.floor( (i - enter_time)/60 )\n",
    "\n",
    "                            if current_play_dur < p_game_play_dur:\n",
    "\n",
    "                                for gk_i in away_goal_keeper:\n",
    "                                    if away_activity_count_all[away_dict[str(gk_i)]][1] !=0:\n",
    "                                        away_dur_in_out[player_away][0] = 2 # menas goal keepr has left the game\n",
    "                                        away_pos_mean[player_away][0] = 0 \n",
    "                                        away_pos_mean[player_away][1] = 0\n",
    "                                        action_status_exit = 1\n",
    "                        else:\n",
    "                            for gk_i in away_goal_keeper:\n",
    "                                if away_activity_count_all[away_dict[str(gk_i)]][1] !=0:\n",
    "                                    away_dur_in_out[player_away][0] = 2 # menas goal keepr has left the game\n",
    "                                    away_pos_mean[player_away][0] = 0 \n",
    "                                    away_pos_mean[player_away][1] = 0\n",
    "                                    action_status_exit = 1\n",
    "                            \n",
    "                        if action_status_exit == 0:\n",
    "                            away_activity_count_all[player_away][1] = 1\n",
    "\n",
    "\n",
    "                    if (away_activity_count_all[player_away][0]!=0):\n",
    "                        away_act_nozero[0] += 1\n",
    "\n",
    "                    if (away_activity_count_all[player_away][1]!=0):\n",
    "                        away_act_nozero[1] += 1\n",
    "\n",
    "                home_subs_count_check = 0\n",
    "                home_subs_count_id = 0\n",
    "                home_2subs_array_in = []\n",
    "                home_2subs_array_out = []\n",
    "\n",
    "\n",
    "                for player_home in range(0, len(home_team_player)):\n",
    "                  \n",
    "\n",
    "                    if home_activity_count_all[player_home][1] != 0 and home_dur_in_out[player_home][0]==1:\n",
    "\n",
    "                        caluclate_avrg_pos(minutes_step, home_pos_mean, player_home, home_pos_count_minutes, \n",
    "                                           home_activity_count_minutes)\n",
    "\n",
    "                        if home_act_nozero[0]-home_act_nozero[1]<0 and home_act_nozero[0]!=0 and home_activity_count_all[player_home][0] == 0:\n",
    "                            home_pos_mean[player_home][0] = 0 \n",
    "                            home_pos_mean[player_home][1] = 0\n",
    "                            home_activity_count_all[player_home][1] = 0\n",
    "\n",
    "\n",
    "                    elif home_activity_count_all[player_home][1] == 0 and home_dur_in_out[player_home][0]==1 and home_dur_in_out[player_home][4]==1: \n",
    "                        # player current and whole game duration durng match\n",
    "\n",
    "\n",
    "                        enter_half = home_dur_in_out[player_home][1]\n",
    "                        enter_time = home_dur_in_out[player_home][2]\n",
    "                        p_game_play_dur = home_dur_in_out[player_home][3]\n",
    "\n",
    "                        h = match_half_t\n",
    "                        f_h_d= first_half_duration\n",
    "\n",
    "                        if enter_half == 1:\n",
    "                            current_play_dur = math.floor( ((f_h_d - enter_time) + (i-45*60)*(h-1) )/60 )\n",
    "                        elif enter_half == 2:\n",
    "                            current_play_dur = math.floor( (i - enter_time)/60 )\n",
    "\n",
    "                        if current_play_dur < p_game_play_dur:\n",
    "                            caluclate_avrg_pos(minutes_step, home_pos_mean, player_home, home_pos_count_minutes, \n",
    "                                           home_activity_count_minutes)\n",
    "                            home_activity_count_all[player_home][1] = 1\n",
    "                        else:\n",
    "                            home_dur_in_out[player_home][0] = 2\n",
    "                            home_pos_mean[player_home][0] = 0 \n",
    "                            home_pos_mean[player_home][1] = 0\n",
    "\n",
    "\n",
    "                    elif home_activity_count_all[player_home][1] == 0 and home_dur_in_out[player_home][0]==1:\n",
    "\n",
    "                        if (home_act_nozero[0] == home_act_nozero[1]):\n",
    "                            home_dur_in_out[player_home][0]=2\n",
    "                            home_pos_mean[player_home][0] = 0 \n",
    "                            home_pos_mean[player_home][1] = 0\n",
    "\n",
    "                        elif home_act_nozero[0] > home_act_nozero[1]:\n",
    "                            caluclate_avrg_pos(minutes_step, home_pos_mean, player_home, home_pos_count_minutes, \n",
    "                                           home_activity_count_minutes)\n",
    "                            home_activity_count_all[player_home][1] = 1\n",
    "                            home_subs_count_check += 1\n",
    "                            home_2subs_array_out.append(player_home)\n",
    "                            home_subs_count_id = player_home\n",
    "\n",
    "                    else:\n",
    "\n",
    "                        home_pos_mean[player_home][0] = 0 \n",
    "                        home_pos_mean[player_home][1] = 0\n",
    "\n",
    "\n",
    "                for player_home in range(0, len(home_team_player)):\n",
    "                    if home_subs_count_check >=1 and (home_act_nozero[0]-home_act_nozero[1]==1):\n",
    "\n",
    "                        d = caluclate_nzero_activity_count(minutes_step, 0, home_subs_count_id, home_activity_count_minutes)\n",
    "                        if home_activity_count_all[player_home][0] == 0 and home_activity_count_all[player_home][1] == 1:\n",
    "                            \n",
    "                            if d==14:\n",
    "                                d-=2\n",
    "                            result = caluclate_nzero_activity_count(minutes_step, d+1, player_home, home_activity_count_minutes)\n",
    "                            if result != -1:\n",
    "                                home_2subs_array_in.append(player_home)\n",
    "\n",
    "                    home_activity_count_all[player_home][0] = home_activity_count_all[player_home][1]\n",
    "                    home_activity_count_all[player_home][1] = 0\n",
    "\n",
    "\n",
    "\n",
    "                # number of last non-zero activties\n",
    "                home_last_nz_act_count = caluclate_last_nzero_ac_count(len(home_team_player), home_activity_count_all)\n",
    "\n",
    "\n",
    "\n",
    "                if home_last_nz_act_count == prev_home_nonzero and len(home_2subs_array_out)==2:\n",
    "                    for home_2subs_i in range(0,2):\n",
    "                        player = home_2subs_array_out[home_2subs_i]\n",
    "                        if home_activity_count_minutes[player][minutes_step-1] == 0:\n",
    "                            home_dur_in_out[player][0] = 2\n",
    "                            home_activity_count_all[player][0] = 0\n",
    "                            home_pos_mean[player][0] = 0\n",
    "                            home_pos_mean[player][1] = 0\n",
    "\n",
    "\n",
    "                if len(home_2subs_array_out)>=2:\n",
    "                    for home_2subs_i in range(0,2):\n",
    "                        player = home_2subs_array_out[home_2subs_i]\n",
    "                        home_activity_count_all[player][0] = 1\n",
    "                        caluclate_avrg_pos(minutes_step, home_pos_mean, player_home, home_pos_count_minutes, \n",
    "                                           home_activity_count_minutes)\n",
    "\n",
    "\n",
    "                if len(home_2subs_array_in) == 2 and len(home_2subs_array_out)==2:\n",
    "                    for home_2subs_i in range(0,2):\n",
    "                        player = home_2subs_array_out[home_2subs_i]\n",
    "                        home_dur_in_out[player][0] = 2\n",
    "                        home_activity_count_all[player][0] = 0\n",
    "                        home_pos_mean[player][0] = 0\n",
    "                        home_pos_mean[player][1] = 0\n",
    "\n",
    "                if len(home_2subs_array_in) == 1 and len(home_2subs_array_out)>=2:\n",
    "                    player = home_2subs_array_in[0]\n",
    "                    home_activity_count_all[player][0] = 0\n",
    "                    home_pos_mean[player][0] = 0\n",
    "                    home_pos_mean[player][1] = 0\n",
    "\n",
    "\n",
    "                if home_act_nozero[0]-home_act_nozero[1]==1 and home_subs_count_check==1 and len(home_2subs_array_in) == 1:\n",
    "                    player_out = home_2subs_array_out[0]\n",
    "                    home_dur_in_out[player_out][0] = 2\n",
    "                    home_activity_count_all[player_out][0] = 0\n",
    "                    home_pos_mean[player_out][0] = 0\n",
    "                    home_pos_mean[player_out][1] = 0\n",
    "\n",
    "\n",
    "                for player_home in range(0, len(home_team_player)):\n",
    "                    if home_pos_mean[player_home][0] !=0:\n",
    "                        home_nonzero += 1\n",
    "\n",
    "\n",
    "                    jersey_n = home_dict_reverse[player_home]\n",
    "                    if player_positionId['homeTeam'][int(jersey_n)] == 1:\n",
    "                        pass\n",
    "                    elif home_pos_mean[player_home][0]!=0 and home_pos_mean[player_home][1]!=0:\n",
    "                        plt.scatter(home_pos_mean[player_home][0], home_pos_mean[player_home][1], marker=\"o\", color=\"k\", linewidths=0.5)\n",
    "\n",
    "\n",
    "                away_subs_count_check = 0\n",
    "                away_subs_count_id = 0\n",
    "                away_2subs_array_in = []\n",
    "                away_2subs_array_out = []\n",
    "\n",
    "                for player_away in range(0, len(away_team_player)):\n",
    "\n",
    "\n",
    "                    if away_activity_count_all[player_away][1] != 0 and away_dur_in_out[player_away][0]==1:\n",
    "\n",
    "                        caluclate_avrg_pos(minutes_step, away_pos_mean, player_away, away_pos_count_minutes, \n",
    "                                               away_activity_count_minutes)\n",
    "\n",
    "                        if away_act_nozero[0]-away_act_nozero[1]<0 and away_act_nozero[0]!=0 and away_activity_count_all[player_away][0] == 0:\n",
    "                            away_pos_mean[player_away][0] = 0 \n",
    "                            away_pos_mean[player_away][1] = 0\n",
    "                            away_activity_count_all[player_away][1] = 0\n",
    "\n",
    "                    elif away_activity_count_all[player_away][1] == 0 and away_dur_in_out[player_away][0]==1 and away_dur_in_out[player_away][4]==1:\n",
    "\n",
    "\n",
    "                        # player current and whole game duration durng match\n",
    "                        enter_half = away_dur_in_out[player_away][1]\n",
    "                        enter_time = away_dur_in_out[player_away][2]\n",
    "                        p_game_play_dur = away_dur_in_out[player_away][3]\n",
    "\n",
    "                        h = match_half_t\n",
    "                        f_h_d= first_half_duration\n",
    "\n",
    "\n",
    "\n",
    "                        if enter_half == 1:\n",
    "                            current_play_dur = math.floor( ((f_h_d - enter_time) + (i-45*60)*(h-1) )/60 )\n",
    "                        elif enter_half == 2:\n",
    "                            current_play_dur = math.floor( (i - enter_time)/60 )\n",
    "\n",
    "\n",
    "\n",
    "                        if current_play_dur < p_game_play_dur:\n",
    "                            caluclate_avrg_pos(minutes_step, away_pos_mean, player_away, away_pos_count_minutes, \n",
    "                                           away_activity_count_minutes)\n",
    "                            away_activity_count_all[player_away][1] = 1\n",
    "\n",
    "                        else:\n",
    "                            away_dur_in_out[player_away][0] = 2\n",
    "                            away_pos_mean[player_away][0] = 0 \n",
    "                            away_pos_mean[player_away][1] = 0\n",
    "\n",
    "\n",
    "                    elif away_activity_count_all[player_away][1] == 0 and away_dur_in_out[player_away][0]==1:\n",
    "\n",
    "                        if away_act_nozero[0] == away_act_nozero[1]:\n",
    "                            away_dur_in_out[player_away][0] = 2\n",
    "                            away_pos_mean[player_away][0] = 0 \n",
    "                            away_pos_mean[player_away][1] = 0\n",
    "\n",
    "\n",
    "                        elif away_act_nozero[0] > away_act_nozero[1]:\n",
    "                            caluclate_avrg_pos(minutes_step, away_pos_mean, player_away, away_pos_count_minutes, \n",
    "                                           away_activity_count_minutes)\n",
    "                            away_activity_count_all[player_away][1] = 1\n",
    "                            away_subs_count_check += 1\n",
    "                            away_2subs_array_out.append(player_away)\n",
    "                            away_subs_count_id = player_away\n",
    "\n",
    "                    else:\n",
    "                        away_pos_mean[player_away][0] = 0 \n",
    "                        away_pos_mean[player_away][1] = 0\n",
    "\n",
    "\n",
    "                for player_away in range(0, len(away_team_player)):\n",
    "                    if away_subs_count_check >= 1 and (away_act_nozero[0]-away_act_nozero[1]==1):\n",
    "                            d = caluclate_nzero_activity_count(minutes_step, 0, away_subs_count_id, away_activity_count_minutes)\n",
    "                            if away_activity_count_all[player_away][0] ==0 and away_activity_count_all[player_away][1] == 1:\n",
    "                                if d==14:\n",
    "                                    d-=2\n",
    "                                result = caluclate_nzero_activity_count(minutes_step, d+1, player_away, away_activity_count_minutes)\n",
    "                                if result != -1:\n",
    "                                    away_2subs_array_in.append(player_away)\n",
    "\n",
    "                    away_activity_count_all[player_away][0] = away_activity_count_all[player_away][1]\n",
    "                    away_activity_count_all[player_away][1] = 0\n",
    "\n",
    "\n",
    "                # number of last non-zero activties\n",
    "                away_last_nz_act_count = caluclate_last_nzero_ac_count(len(away_team_player), away_activity_count_all)\n",
    "\n",
    "                if away_last_nz_act_count == prev_away_nonzero and len(away_2subs_array_out)==2:\n",
    "                    for away_2subs_i in range(0,2):\n",
    "                        player = away_2subs_array_out[away_2subs_i]\n",
    "                        if away_activity_count_minutes[player][minutes_step-1] == 0:\n",
    "                            away_dur_in_out[player][0] = 2\n",
    "                            away_activity_count_all[player][0] = 0\n",
    "                            away_pos_mean[player][0] = 0\n",
    "                            away_pos_mean[player][1] = 0\n",
    "\n",
    "\n",
    "                if len(away_2subs_array_out)>=2:\n",
    "                    for away_2subs_i in range(0,2):\n",
    "                        player = away_2subs_array_out[away_2subs_i]\n",
    "                        away_activity_count_all[player][0] = 1\n",
    "\n",
    "                if len(away_2subs_array_in) == 2 and away_subs_count_check==2:\n",
    "                    for away_2subs_i in range(0,2):\n",
    "                        player = away_2subs_array_out[away_2subs_i]\n",
    "                        away_dur_in_out[player][0] = 2\n",
    "                        away_activity_count_all[player][0] = 0\n",
    "                        away_pos_mean[player][0] = 0\n",
    "                        away_pos_mean[player][1] = 0\n",
    "\n",
    "                if len(away_2subs_array_in) == 1 and away_subs_count_check>=2:\n",
    "                    player = away_2subs_array_in[0]\n",
    "                    away_activity_count_all[player][0] = 0\n",
    "                    away_pos_mean[player][0] = 0\n",
    "                    away_pos_mean[player][1] = 0\n",
    "\n",
    "                if away_act_nozero[0]-away_act_nozero[1]==1 and away_subs_count_check==1 and len(away_2subs_array_in) == 1:\n",
    "                    player_out = away_2subs_array_out[0]\n",
    "                    away_dur_in_out[player_out][0] = 2\n",
    "                    away_activity_count_all[player_out][0] = 0\n",
    "                    away_pos_mean[player_out][0] = 0\n",
    "                    away_pos_mean[player_out][1] = 0\n",
    "                    \n",
    "    \n",
    "                for player_away in range(0, len(away_team_player)):\n",
    "                    if away_pos_mean[player_away][0] !=0:\n",
    "                        away_nonzero += 1\n",
    "\n",
    "\n",
    "                    jersey_n = away_dict_reverse[player_away]\n",
    "                    if player_positionId['awayTeam'][int(jersey_n)] == 1:\n",
    "                        pass\n",
    "                    elif away_pos_mean[player_away][0]!=0 and away_pos_mean[player_away][1]!=0:\n",
    "                        plt.scatter(away_pos_mean[player_away][0], away_pos_mean[player_away][1], marker=\"o\", color=\"r\", linewidths=0.5)\n",
    "                \n",
    "\n",
    "                if home_nonzero != home_prev_count:\n",
    "                    home_player_count_pitch.append(str(\"half:\") + str(match_half_t) +\" min:\" + str((i)/60+(match_half_t-1)*(math.floor(first_half_duration/60)-45)) + \" number: \" + str(home_nonzero))\n",
    "                    home_prev_count = home_nonzero\n",
    "\n",
    "                if away_nonzero != away_prev_count:\n",
    "                    away_player_count_pitch.append(str(\"half:\") + str(match_half_t) +\" min:\" + str((i)/60+(match_half_t-1)*(math.floor(first_half_duration/60)-45)) + \" number: \" + str(away_nonzero))\n",
    "                    away_prev_count = away_nonzero\n",
    "                    \n",
    "                whole_game_duration = i/60\n",
    "                    \n",
    "                \n",
    "                print(\"half:\" + str(match_half_t) +\"\\tmin: \" + str((i)/60))\n",
    "                print(home_pos_mean)\n",
    "                plt.show()\n",
    "                print('\\n')        \n",
    "                \n",
    "\n",
    "        # show if player has left the game\n",
    "        print(\"Match duration: \" + str(whole_game_duration + (math.floor(first_half_duration/60)-45))  + \" min\")\n",
    "        print(\"Teams' sent-off players:\")\n",
    "        print(home_player_count_pitch)\n",
    "        print(away_player_count_pitch)"
   ]
  },
  {
   "cell_type": "code",
   "execution_count": null,
   "metadata": {},
   "outputs": [],
   "source": []
  }
 ],
 "metadata": {
  "kernelspec": {
   "display_name": "Python 3",
   "language": "python",
   "name": "python3"
  },
  "language_info": {
   "codemirror_mode": {
    "name": "ipython",
    "version": 3
   },
   "file_extension": ".py",
   "mimetype": "text/x-python",
   "name": "python",
   "nbconvert_exporter": "python",
   "pygments_lexer": "ipython3",
   "version": "3.6.5"
  }
 },
 "nbformat": 4,
 "nbformat_minor": 2
}
