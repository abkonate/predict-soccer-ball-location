{
 "cells": [
  {
   "cell_type": "code",
   "execution_count": 1,
   "metadata": {},
   "outputs": [],
   "source": [
    "# Copyright 2018 Anar Amirli\n",
    "#\n",
    "# Licensed under the Apache License, Version 2.0 (the \"License\");\n",
    "# you may not use this file except in compliance with the License.\n",
    "# You may obtain a copy of the License at\n",
    "#\n",
    "#     http://www.apache.org/licenses/LICENSE-2.0\n",
    "#\n",
    "# Unless required by applicable law or agreed to in writing, software\n",
    "# distributed under the License is distributed on an \"AS IS\" BASIS,\n",
    "# WITHOUT WARRANTIES OR CONDITIONS OF ANY KIND, either express or implied.\n",
    "# See the License for the specific language governing permissions and\n",
    "# limitations under the License."
   ]
  },
  {
   "cell_type": "markdown",
   "metadata": {},
   "source": [
    "## Target Analyizing\n",
    "\n",
    "In this project, we aim to find ball location during the game. We've got two approaches for that:<br>\n",
    "1. Divide pitch into segments of various sizes and find ball location using classification\n",
    "2. Find ball location itself using regression\n",
    "\n",
    "Alyzing teams' struction we saw that that teams tend to keep their vertical structure. Therefore, we've divided pitch into the **9** segments. In our data set we're not given ball location for each data frame, we're only given player informations; such as it's speed, coordinates, which team and which player has the ball.\n",
    "If any player has the ball for a moment, we accept its location as ball location and use this location to label our target value (for finding ball location segment index) from **1 to 9**.<br>\n",
    "<br>**Null index(0)** represents all the other index categories, apart from the ones we are interested in, that occur when the game stops."
   ]
  },
  {
   "cell_type": "code",
   "execution_count": 2,
   "metadata": {},
   "outputs": [],
   "source": [
    "%matplotlib inline\n",
    "import matplotlib.pyplot as plt; plt.rcdefaults()\n",
    "import numpy as np\n",
    "import scipy as sc\n",
    "import pandas as pd\n",
    "import operator\n",
    "import math\n",
    "import json\n",
    "\n",
    "pd.options.display.max_columns = None\n",
    "\n",
    "pd.set_option('compute.use_bottleneck', True)\n",
    "pd.set_option('compute.use_numexpr', True)\n",
    "\n",
    "\n",
    "# reading all the matches \n",
    "with open('../data/general/matches_2017_2018_v1.json') as matches_json:\n",
    "    matches = json.load(matches_json)\n",
    "    \n",
    "pitch_index_data = np.zeros(shape=(1), dtype=np.int)    \n",
    "match_count = 0\n",
    "for match_data in matches:\n",
    "    match_id = int(match_data['id'])\n",
    "    try:\n",
    "        \n",
    "        features_df = pd.read_csv('../data/match_{}/features_set.csv'.format(match_id))\n",
    "        pitch_index_data = np.concatenate((pitch_index_data, features_df['pitch_index']), axis=0)\n",
    "        match_count +=1\n",
    "    except FileNotFoundError:\n",
    "        pass"
   ]
  },
  {
   "cell_type": "markdown",
   "metadata": {},
   "source": [
    "### Histogram of target detecion (ball location segments)"
   ]
  },
  {
   "cell_type": "code",
   "execution_count": 5,
   "metadata": {},
   "outputs": [
    {
     "data": {
      "image/png": "[encoded data removed]",
      "text/plain": [
       "<Figure size 576x311.76 with 2 Axes>"
      ]
     },
     "metadata": {},
     "output_type": "display_data"
    }
   ],
   "source": [
    "ball_detected = []\n",
    "pitch_index_data[550961]=0\n",
    "\n",
    "index_dict = {'x':{}, 'y':{}}\n",
    "\n",
    "index = 1\n",
    "for i in range(1,12):\n",
    "    for j in range(1,4):\n",
    "        index_dict['x'][index] = i\n",
    "        index_dict['y'][index] = j\n",
    "        index +=1\n",
    "        \n",
    "pitch_segment_data = np.zeros(shape=(4,12), dtype=np.int)\n",
    "pitch_segment_data_count = np.zeros(shape=(34), dtype=np.int)  \n",
    "out_off_play=0\n",
    "\n",
    "for i in pitch_index_data:\n",
    "    if i != 0:\n",
    "        pitch_segment_data[ index_dict['y'][i] ] [ index_dict['x'][i] ] += 1\n",
    "    else:\n",
    "        out_off_play+=1\n",
    "\n",
    "average_event_frame =  len(pitch_index_data)//match_count # average second that a single match last\n",
    "pitch_segment_data = pitch_segment_data//match_count \n",
    "\n",
    "pitch_segment_count = np.zeros(shape=(4,12), dtype=np.int)  \n",
    "out_off_play //=match_count # number of null ball location\n",
    "\n",
    "\n",
    "\n",
    "pitch_segment_data_count[0]=out_off_play\n",
    "\n",
    "# calculating avrg segmet detection number for whole matches \n",
    "for i in pitch_index_data:\n",
    "    if i != 0:\n",
    "        y = index_dict['y'][i]\n",
    "        x = index_dict['x'][i]\n",
    "        if pitch_segment_count[y][x]<=pitch_segment_data[y][x]:\n",
    "            pitch_segment_data_count[int(i)] +=1\n",
    "            pitch_segment_count[y][x] += 1\n",
    "            ball_detected.append([x,y])\n",
    "\n",
    "        \n",
    "ball_detected = np.array(ball_detected)\n",
    "\n",
    "plt.figure(figsize=(8, 4.33))  # 14x21 number of segments that we divided pitch into\n",
    "plt.hist2d((ball_detected[:,0]), (ball_detected[:,1]), cmap='hot', bins=(11,3))\n",
    "\n",
    "plt.title('Heatmap of average number of segment detection for all matches')\n",
    "plt.xlabel('Horizontal (segment index)')\n",
    "plt.ylabel('Vertical (segment index)')\n",
    "plt.colorbar();\n",
    "plt.show()"
   ]
  },
  {
   "cell_type": "markdown",
   "metadata": {},
   "source": [
    "Histogram of ball segments isn't concentrated on the certain area of the pitch, however, it is more tended to center and more common in the goal regions as expected. This result seems to be promising in case of detecting ball position segmenet. Although data seems to be okay, abnormally, index 1 detected many times, which is significantly higher than the other most occurred pitch segments. We should consider this in the next steps. We solved this abnormal occurrence, it was noise in raw data."
   ]
  },
  {
   "cell_type": "code",
   "execution_count": 15,
   "metadata": {},
   "outputs": [
    {
     "name": "stdout",
     "output_type": "stream",
     "text": [
      "5 least occured segment and its value:\n",
      "\n",
      "\n",
      "Segment\t#Occurence\n",
      "-------\t----------\n",
      "3\t12\n",
      "1\t14\n",
      "31\t14\n",
      "33\t16\n",
      "6\t36\n",
      "\n",
      "Average number of occurance of segments: 79\n"
     ]
    }
   ],
   "source": [
    "print(\"5 least occured segment and its value:\\n\")\n",
    "\n",
    "print('\\nSegment\\t#Occurence')\n",
    "print('-------\\t----------')\n",
    "for i in range(5):\n",
    "    print('{}\\t{}'.format(ball_location_index[i][0], ball_location_index[i][1]))\n",
    "\n",
    "\n",
    "average_count = 0\n",
    "for i in range(len(ball_location_index)-2):\n",
    "    average_count += ball_location_index[i][1]\n",
    "\n",
    "average_count /= (len(ball_location_index)-2)\n",
    "\n",
    "print(\"\\nAverage number of occurance of segments: \" + str(int(average_count)))"
   ]
  },
  {
   "cell_type": "markdown",
   "metadata": {},
   "source": [
    "### Inbalanced target data"
   ]
  },
  {
   "cell_type": "code",
   "execution_count": 13,
   "metadata": {},
   "outputs": [
    {
     "data": {
      "image/png": "[encoded data removed]",
      "text/plain": [
       "<Figure size 432x288 with 1 Axes>"
      ]
     },
     "metadata": {},
     "output_type": "display_data"
    },
    {
     "data": {
      "image/png": "[encoded data removed]",
      "text/plain": [
       "<Figure size 576x384 with 1 Axes>"
      ]
     },
     "metadata": {},
     "output_type": "display_data"
    }
   ],
   "source": [
    "ball_location_index = {}\n",
    "for i in range(0,34):\n",
    "    ball_location_index[i]=pitch_segment_data_count[i]\n",
    "\n",
    "\n",
    "ball_location_index = sorted(ball_location_index.items(), key=operator.itemgetter(1))    \n",
    "    \n",
    "\n",
    "labels = 'Other detected segment', 'Null ball location' \n",
    "sizes = [average_event_frame-out_off_play,out_off_play]\n",
    "\n",
    "fig1, ax1 = plt.subplots()\n",
    "ax1.pie(sizes, labels=labels, autopct='%1.1f%%',\n",
    "        shadow=False, startangle=90)\n",
    "\n",
    "ax1.axis('equal')\n",
    "plt.title('Average number of ball detection during a single match ('+ str(average_event_frame) + ' seconds)')\n",
    "plt.show()\n",
    "\n",
    "\n",
    "location_dection=[]\n",
    "index=[]\n",
    "\n",
    "\n",
    "for i in range(1,6):\n",
    "    location_dection.append(ball_location_index[33-i][1])\n",
    "    index.append(str(ball_location_index[33-i][0]))\n",
    "    \n",
    "    y_pos = np.arange(len(index))\n",
    "    \n",
    "width = 8\n",
    "plt.figure(figsize=(width, width/1.5))\n",
    "plt.bar(y_pos, location_dection, align='center', alpha=0.5)\n",
    "plt.xticks(y_pos, index)\n",
    "plt.ylabel('Occurence number')\n",
    "plt.xlabel('Segment index')\n",
    "plt.title('5 Most detected ball locaton segments')\n",
    " \n",
    "plt.show()"
   ]
  },
  {
   "cell_type": "markdown",
   "metadata": {},
   "source": [
    "As it seems in the pie chart above, ball location (location index in this case) data is far more imbalanced, where the number of null ball location events almost equals to the total number of ball detected frames.Thus, while building our train and test set we should reduce the number of frames of the null ball in our data set. But cosidering the fact that they are most common, we should keep their numbers close to the number of other most occurred ball location indexes."
   ]
  },
  {
   "cell_type": "markdown",
   "metadata": {},
   "source": [
    "Some segmment assigment has been assigned very few times, while buildling our training set we should consider this case again.\n",
    "#### What we can do?\n",
    "1. We ca ignore some least occured segment while building our training set\n",
    "2. We can reduce target segment size"
   ]
  }
 ],
 "metadata": {
  "kernelspec": {
   "display_name": "Python 3",
   "language": "python",
   "name": "python3"
  },
  "language_info": {
   "codemirror_mode": {
    "name": "ipython",
    "version": 3
   },
   "file_extension": ".py",
   "mimetype": "text/x-python",
   "name": "python",
   "nbconvert_exporter": "python",
   "pygments_lexer": "ipython3",
   "version": "3.6.5"
  }
 },
 "nbformat": 4,
 "nbformat_minor": 2
}
