{
 "cells": [
  {
   "cell_type": "code",
   "execution_count": 3,
   "metadata": {},
   "outputs": [],
   "source": [
    "# Copyright 2018 Anar Amirli\n",
    "#\n",
    "# Licensed under the Apache License, Version 2.0 (the \"License\");\n",
    "# you may not use this file except in compliance with the License.\n",
    "# You may obtain a copy of the License at\n",
    "#\n",
    "#     http://www.apache.org/licenses/LICENSE-2.0\n",
    "#\n",
    "# Unless required by applicable law or agreed to in writing, software\n",
    "# distributed under the License is distributed on an \"AS IS\" BASIS,\n",
    "# WITHOUT WARRANTIES OR CONDITIONS OF ANY KIND, either express or implied.\n",
    "# See the License for the specific language governing permissions and\n",
    "# limitations under the License."
   ]
  },
  {
   "cell_type": "markdown",
   "metadata": {},
   "source": [
    "### Scaling and role assignment visualisation\n",
    "In this notebook, we visualize player avrg position (before and after scaling states) by drawing their average position using matplotlip. And also show example of role assignment. \n",
    "\n",
    "__How we assign role to each player?__\n",
    "* Define which player's in the game.\n",
    "* Generate players' average positions based on their position in the timeline of previous 15 minutes.\n",
    "* Each minute update their average position.\n",
    "* Scale average positions to the range of *(105+std)(68-std)* meters based on their standard deviation of averge position data.\n",
    "* Seperate pitch into different role-based segments\n",
    "* Find on wich segment its average position is located.\n",
    "* Assign role to it based on this sector."
   ]
  },
  {
   "cell_type": "code",
   "execution_count": 26,
   "metadata": {},
   "outputs": [],
   "source": [
    "role_dict = {\n",
    "    0: 'LeftBack',\n",
    "    1: 'CenterBack',\n",
    "    2: 'RightBack',\n",
    "    3: 'LeftWinger',\n",
    "    4: 'CenterMiddle',\n",
    "    5: 'RightWinger',\n",
    "    6: 'CenterForward'\n",
    "}"
   ]
  },
  {
   "cell_type": "code",
   "execution_count": 27,
   "metadata": {},
   "outputs": [],
   "source": [
    "role_segment_coord = [[0, 40, 0, 19],    # Left Back \n",
    "                      [0, 35, 19, 49],   # Center Back\n",
    "                      [0, 40, 49, 68],   # Right Back\n",
    "                      [40, 105, 0, 19],  # Left Winger\n",
    "                      [35, 75, 19, 49],  # Center Midfielder\n",
    "                      [40, 105, 49, 68], # Right Winger\n",
    "                      [75, 105, 19, 49]] # Center Forward/Attacking Middle"
   ]
  },
  {
   "cell_type": "code",
   "execution_count": 2,
   "metadata": {},
   "outputs": [],
   "source": [
    "import numpy as np\n",
    "import pandas as pd\n",
    "import matplotlib.pyplot as plt\n",
    "import matplotlib\n",
    "from IPython import display\n",
    "import matplotlib.lines as mlines\n",
    "\n",
    "pd.options.display.max_columns = None\n",
    "\n",
    "pd.set_option('compute.use_bottleneck', True)\n",
    "pd.set_option('compute.use_numexpr', True)"
   ]
  },
  {
   "cell_type": "markdown",
   "metadata": {},
   "source": [
    "**Scaling down positions to the range of min and max based on their standard deviations**"
   ]
  },
  {
   "cell_type": "markdown",
   "metadata": {},
   "source": [
    "$$p=\\{ p_{1}, p_{2}..., p_{n}\\}$$<br>\n",
    "$$p_{scale_{i}}=\\frac{d_{high}-((d_{high}-STD_{p})-(d_{low}+STD_{p}))(p_{max}-p_{i}) }{p_{max}-p_{min}}$$"
   ]
  },
  {
   "cell_type": "code",
   "execution_count": 2,
   "metadata": {},
   "outputs": [],
   "source": [
    "def scale_linear_data(rawpoints, high, low, std):\n",
    "    '''\n",
    "    Function for sclaing player avrg position to the to the range of (105+std)(68-std)\n",
    "    \n",
    "    Parameters\n",
    "    ----------\n",
    "    rawpoints: player average pos data\n",
    "    \n",
    "    high: furthest point of scaling range\n",
    "    \n",
    "    low: lowest point of scaling range\n",
    "    \n",
    "    std: standard deviation of player positions \n",
    "    \n",
    "    '''\n",
    "    mins = np.min(rawpoints, axis=0)\n",
    "    maxs = np.max(rawpoints, axis=0)\n",
    "    rng = maxs - mins\n",
    "    high = high - std\n",
    "    low = low + std\n",
    "    return high - (((high - low) * (maxs - rawpoints)) / rng)"
   ]
  },
  {
   "cell_type": "markdown",
   "metadata": {},
   "source": [
    "**Role defining**"
   ]
  },
  {
   "cell_type": "code",
   "execution_count": 1,
   "metadata": {},
   "outputs": [],
   "source": [
    "def define_role(x, y, pitch_value, gk_state):\n",
    "    '''\n",
    "    Function to define players role in the game\n",
    "    \n",
    "    Parameters\n",
    "    ----------\n",
    "    x, y: coordinates\n",
    "    \n",
    "    pitch_value: pitch segment value\n",
    "    \n",
    "    Returns\n",
    "    -------\n",
    "    1-6: players rolse assigment indexes\n",
    "      7: goalkeeper\n",
    "     -1: player is not in game\n",
    "    \n",
    "    '''\n",
    "    # gk_state==1 := golakeeper\n",
    "    if gk_state==1:\n",
    "        return 7\n",
    "    else:\n",
    "        for pitch_i in range(0,7):\n",
    "            if x>=pitch_value[pitch_i][0] and x<pitch_value[pitch_i][1] and y>=pitch_value[pitch_i][2] and y<pitch_value[pitch_i][3]:\n",
    "                return pitch_i\n",
    "    return -1"
   ]
  },
  {
   "cell_type": "code",
   "execution_count": 31,
   "metadata": {
    "scrolled": false
   },
   "outputs": [
    {
     "data": {
      "image/png": "[encoded data removed]",
      "text/plain": [
       "<Figure size 720x466.286 with 1 Axes>"
      ]
     },
     "metadata": {},
     "output_type": "display_data"
    },
    {
     "name": "stdout",
     "output_type": "stream",
     "text": [
      "Players' role assignation\n",
      "\n",
      "[ 11.85219552  24.88572765] -> CenterBack\n",
      "[  9.61546172  39.9642036 ] -> CenterBack\n",
      "[ 54.51582183  55.16383605] -> RightWinger\n",
      "[ 47.52948043  15.90913312] -> LeftWinger\n",
      "[ 46.42492053  50.6810459 ] -> RightWinger\n",
      "[ 38.36163322  32.65075726] -> CenterMiddle\n",
      "[ 95.38453828  35.51445613] -> CenterForward\n",
      "[ 21.57232268  53.67691548] -> RightBack\n",
      "[ 19.52888686  12.83616395] -> LeftBack\n",
      "[ 75.17109204  31.82469028] -> CenterForward\n"
     ]
    }
   ],
   "source": [
    "match_id = 60656\n",
    "\n",
    "try:\n",
    "    avrg_pos = np.load('../data/match_{}/averga_pose_smp.npy'.format(match_id))\n",
    "except FileNotFoundError:\n",
    "    avrg_pos = None\n",
    "\n",
    "font = {'size'   : 23}\n",
    "\n",
    "matplotlib.rc('font', **font)\n",
    "\n",
    "width, height = 105, 68\n",
    "plt.figure(figsize=(10, 10*height/width))\n",
    "\n",
    "plt.xlabel('Distance (m)')\n",
    "plt.ylabel('Distance (m)')\n",
    "\n",
    "size = 200\n",
    "ax = plt.gca()\n",
    "mid_circ = plt.Circle((52.5, 34), 9.15, color='black', fill=False, linewidth=0.6, zorder=1)\n",
    "left_pen_circ = plt.Circle((11, 34), 0.3, color='black', fill=True, linewidth=0.6, zorder=1)\n",
    "right_pen_circ = plt.Circle((94, 34), 0.3, color='black', fill=True, linewidth=0.6, zorder=1)\n",
    "# middle line\n",
    "ax.add_line(mlines.Line2D((52, 52), (0, 68), color='black', linewidth=0.6, zorder=1))\n",
    "\n",
    "# circles\n",
    "ax.add_artist(mid_circ)\n",
    "ax.add_artist(left_pen_circ)\n",
    "ax.add_artist(right_pen_circ)\n",
    "\n",
    "# left part\n",
    "ax.add_line(mlines.Line2D((0, 16.5), (13.84, 13.84), color='black', linewidth=0.6, zorder=1))\n",
    "ax.add_line(mlines.Line2D((0, 16.5), (54.16, 54.16), color='black', linewidth=0.6, zorder=1))\n",
    "ax.add_line(mlines.Line2D((16.5, 16.5), (13.84, 54.16), color='black', linewidth=0.6, zorder=1))\n",
    "\n",
    "ax.add_line(mlines.Line2D((0, 5.5), (24.84, 24.84), color='black', linewidth=0.6, zorder=1))\n",
    "ax.add_line(mlines.Line2D((0, 5.5), (43.16, 43.16), color='black', linewidth=0.6, zorder=1))\n",
    "ax.add_line(mlines.Line2D((5.5, 5.5), (24.84, 43.16), color='black', linewidth=0.6, zorder=1))\n",
    "\n",
    "# right part\n",
    "ax.add_line(mlines.Line2D((88.5, 105), (13.84, 13.84), color='black', linewidth=0.6, zorder=1))\n",
    "ax.add_line(mlines.Line2D((88.5, 105), (54.16, 54.16), color='black', linewidth=0.6, zorder=1))\n",
    "ax.add_line(mlines.Line2D((88.5, 88.5), (13.84, 54.16), color='black', linewidth=0.6, zorder=1))\n",
    "\n",
    "ax.add_line(mlines.Line2D((99.5, 105), (24.84, 24.84), color='black', linewidth=0.6, zorder=1))\n",
    "ax.add_line(mlines.Line2D((99.5, 105), (43.16, 43.16), color='black', linewidth=0.6, zorder=1))\n",
    "ax.add_line(mlines.Line2D((99.5, 99.5), (24.84, 43.16), color='black', linewidth=0.6, zorder=1))\n",
    "\n",
    "# role division\n",
    "ax.add_line(mlines.Line2D((35, 35), (19, 49), color='orange', linewidth=1, zorder=1))\n",
    "ax.add_line(mlines.Line2D((40, 40), (0, 19), color='orange', linewidth=1, zorder=1))\n",
    "ax.add_line(mlines.Line2D((40, 40), (49, 68), color='orange', linewidth=1, zorder=1))\n",
    "ax.add_line(mlines.Line2D((75, 75), (19, 49), color='orange', linewidth=1, zorder=1))\n",
    "ax.add_line(mlines.Line2D((0, 105), (19, 19), color='orange', linewidth=1, zorder=1))\n",
    "ax.add_line(mlines.Line2D((0, 105), (49, 49), color='orange', linewidth=1, zorder=1))\n",
    "\n",
    "ax.text(20, 64, 'LB', fontsize=15)\n",
    "ax.text(20, 32, 'CB', fontsize=15)\n",
    "ax.text(20, 4,  'RB', fontsize=15)\n",
    "ax.text(70, 64, 'LM', fontsize=15)\n",
    "ax.text(55, 32, 'CM', fontsize=15)\n",
    "ax.text(70, 4,  'RM', fontsize=15)\n",
    "ax.text(85, 32, 'CF', fontsize=15)\n",
    "\n",
    "plt.title('Scaling average positions data')\n",
    "plt.scatter(avrg_pos[:,0],avrg_pos[:,1], label='Before', s=size, zorder=2)\n",
    "\n",
    "# find standard deviation of avrg pos data \n",
    "stdX = np.std(avrg_pos[:,0])\n",
    "stdY = np.std(avrg_pos[:,1])\n",
    "\n",
    "# sclaing \n",
    "avrg_pos[:,0] = scale_linear_data(avrg_pos[:,0], 105, 0, stdX)\n",
    "avrg_pos[:,1] = scale_linear_data(avrg_pos[:,1], 68, 0, stdY)\n",
    "\n",
    "\n",
    "plt.scatter(avrg_pos[:,0],avrg_pos[:,1], label='After', s=size, zorder=2)\n",
    "plt.legend(loc=1)\n",
    "plt.show()\n",
    "\n",
    "\n",
    "print(\"Players' role assignation\\n\")\n",
    "for player in avrg_pos:\n",
    "    role = define_role(player[0],player[1], role_segment_coord, 0)\n",
    "    print(str(player) + \" -> \" + role_dict[role]) "
   ]
  }
 ],
 "metadata": {
  "kernelspec": {
   "display_name": "Python 3",
   "language": "python",
   "name": "python3"
  },
  "language_info": {
   "codemirror_mode": {
    "name": "ipython",
    "version": 3
   },
   "file_extension": ".py",
   "mimetype": "text/x-python",
   "name": "python",
   "nbconvert_exporter": "python",
   "pygments_lexer": "ipython3",
   "version": "3.6.5"
  }
 },
 "nbformat": 4,
 "nbformat_minor": 2
}
